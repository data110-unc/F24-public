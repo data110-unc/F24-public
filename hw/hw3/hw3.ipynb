{
 "cells": [
  {
   "cell_type": "code",
   "execution_count": null,
   "id": "6230387f",
   "metadata": {
    "deletable": false,
    "editable": false
   },
   "outputs": [],
   "source": [
    "# Initialize Otter\n",
    "import otter\n",
    "grader = otter.Notebook(\"hw3.ipynb\")"
   ]
  },
  {
   "cell_type": "code",
   "execution_count": null,
   "id": "af523e84-b5a1-4712-b126-602e4e55b0c5",
   "metadata": {},
   "outputs": [],
   "source": [
    "import pandas as pd\n",
    "import seaborn as sns\n",
    "import matplotlib.pyplot as plt"
   ]
  },
  {
   "cell_type": "markdown",
   "id": "4449f091",
   "metadata": {},
   "source": [
    "## <u>Name:</u> [Your name] and (your onyen)\n",
    "\n",
    "Names and Onyens of fellow students you discussed Homework3 problems and ideas:\n",
    "\n",
    "- Students: \n",
    "\n",
    "We encourage discussing ideas and brainstorming with your peers, but the final text, code, and comments in this homework assignment MUST be 100% written by you as mentioned in syllabus.\n",
    "\n"
   ]
  },
  {
   "cell_type": "markdown",
   "id": "953a7ae3",
   "metadata": {},
   "source": [
    "# Homework 3: Pandas, Plots, and Statistics  (100 points)\n",
    "\n",
    "Please complete this notebook by filling in the cells provided. Be sure to run the cell above that loads the autograder, and be sure to save your notebook before generating your submission by running the last cell.\n",
    "\n",
    "!! Please submit a PDF of your notebook and upload it to Gradescope along with the generated zip file.  If no PDF submitted, **points will be deducted**.  You can make a PDF from JupyterHub by 1. File->Print or 2. Command+P (on Mac), then choose 'Save to PDF'. This saves the file on your laptop.  You can then drag and drop the zip & pdf file together to the upload box on Gradescope.\n",
    "\n",
    "!! Points will also be **deducted** if you do not include your name and Onyen in the Markdown cell above!\n",
    "\n",
    "Note that for homework, the inline autograder is useful feedback that you should pay attention to, but passing the autograder for a problem **DOES NOT GUARANTEE** you will get full credit on the problem, and you could still get 0 points for a problem that passes the inline autograder.  Also note that some problems will be manually graded.\n"
   ]
  },
  {
   "cell_type": "markdown",
   "id": "174d3460",
   "metadata": {},
   "source": [
    "## Problem 1. Pandas Lightning Round (15 points)\n",
    "For each of the sentences below, write the corresponding Python code using Pandas.\n",
    "\n",
    "Don't change any of the code that is provided.  Answers may require more than a single line of code.\n",
    "\n",
    "NOTE!  As mentioned above, the inline autograder tests do NOT fully test your solution, and for MOST autograded problems additional tests are performed when submitting to Gradescope.  You could still get 0 points on a problem even if you pass the inline autograder test.  We highly recommend submitting to Gradescope early to check your solution.  There is no limit to the number of submissions."
   ]
  },
  {
   "cell_type": "markdown",
   "id": "bce10046",
   "metadata": {},
   "source": [
    "**Problem 1.1 (1 point).** Load the file named `ROUSes.csv` into a table named `start_off_easy`."
   ]
  },
  {
   "cell_type": "code",
   "execution_count": null,
   "id": "abdf7e3b",
   "metadata": {
    "deletable": false,
    "editable": false
   },
   "outputs": [],
   "source": [
    "import numpy as np\n",
    "import pandas as pd\n",
    "rouses_df = pd.read_csv('ROUSes.csv')"
   ]
  },
  {
   "cell_type": "code",
   "execution_count": null,
   "id": "9eaf3967",
   "metadata": {
    "tags": []
   },
   "outputs": [],
   "source": [
    "# Write your code here by replacing the ...\n",
    "..."
   ]
  },
  {
   "cell_type": "code",
   "execution_count": null,
   "id": "f0b520ef",
   "metadata": {
    "deletable": false,
    "editable": false
   },
   "outputs": [],
   "source": [
    "grader.check(\"q1.1\")"
   ]
  },
  {
   "cell_type": "markdown",
   "id": "31e23a07",
   "metadata": {},
   "source": [
    "**Problem 1.2 (1 point).** Drop columns `'Length'` and `'Age'` from the table named `rouses_df` and assign the result to a table named `rouses_edited_df`."
   ]
  },
  {
   "cell_type": "code",
   "execution_count": null,
   "id": "827740df",
   "metadata": {
    "tags": []
   },
   "outputs": [],
   "source": [
    "# Write your code here by replacing the ...\n",
    "..."
   ]
  },
  {
   "cell_type": "code",
   "execution_count": null,
   "id": "a170d78a",
   "metadata": {
    "deletable": false,
    "editable": false
   },
   "outputs": [],
   "source": [
    "grader.check(\"q1.2\")"
   ]
  },
  {
   "cell_type": "markdown",
   "id": "fe2b0fad",
   "metadata": {},
   "source": [
    "**Problem 1.3 (1 point).** Assign to a variable named `max_age_first_10` the maximum `Age` among the first ten rows of the table `rouses_df`."
   ]
  },
  {
   "cell_type": "code",
   "execution_count": null,
   "id": "b896dc1f",
   "metadata": {
    "tags": []
   },
   "outputs": [],
   "source": [
    "# Write your code here by replacing the ...\n",
    "..."
   ]
  },
  {
   "cell_type": "code",
   "execution_count": null,
   "id": "512bda7f",
   "metadata": {
    "deletable": false,
    "editable": false
   },
   "outputs": [],
   "source": [
    "grader.check(\"q1.3\")"
   ]
  },
  {
   "cell_type": "markdown",
   "id": "407c086b",
   "metadata": {},
   "source": [
    "**Problem 1.4 (1 point).** To a variable named `lucky18`, assign the value of `Length` from the row with index `18` from the table `rouses_df`."
   ]
  },
  {
   "cell_type": "code",
   "execution_count": null,
   "id": "186c29cf",
   "metadata": {
    "tags": []
   },
   "outputs": [],
   "source": [
    "# Write your code here by replacing the ...\n",
    "..."
   ]
  },
  {
   "cell_type": "code",
   "execution_count": null,
   "id": "78d8df75",
   "metadata": {
    "deletable": false,
    "editable": false
   },
   "outputs": [],
   "source": [
    "grader.check(\"q1.4\")"
   ]
  },
  {
   "cell_type": "markdown",
   "id": "088296a5",
   "metadata": {},
   "source": [
    "**Problem 1.5 (1 point).** To a variable named `average_weight_last15_rounded`, assign the value of the average of the `Weight` of the last fifteen rows of the table `rouses_df`, rounded to the nearest tenth. "
   ]
  },
  {
   "cell_type": "code",
   "execution_count": null,
   "id": "e34acf4a",
   "metadata": {
    "tags": []
   },
   "outputs": [],
   "source": [
    "# Write your code here by replacing the ...\n",
    "..."
   ]
  },
  {
   "cell_type": "code",
   "execution_count": null,
   "id": "1d81b346",
   "metadata": {
    "deletable": false,
    "editable": false
   },
   "outputs": [],
   "source": [
    "grader.check(\"q1.5\")"
   ]
  },
  {
   "cell_type": "markdown",
   "id": "7d785ebc",
   "metadata": {},
   "source": [
    "**Problem 1.6 (2 points).** Assign to a variable named `younger_than_10` the number of ROUSes in table `rouses_df` that are younger than eleven."
   ]
  },
  {
   "cell_type": "code",
   "execution_count": null,
   "id": "2fcd62bc",
   "metadata": {
    "tags": []
   },
   "outputs": [],
   "source": [
    "# Write your code here by replacing the ...\n",
    "..."
   ]
  },
  {
   "cell_type": "code",
   "execution_count": null,
   "id": "a98c58eb",
   "metadata": {
    "deletable": false,
    "editable": false
   },
   "outputs": [],
   "source": [
    "grader.check(\"q1.6\")"
   ]
  },
  {
   "cell_type": "markdown",
   "id": "78eeae92",
   "metadata": {},
   "source": [
    "**Problem 1.7 (2 points).** To a variable named `older_than_11_or_sleepy` assign the number of ROUSes in table `rouses_df` that are either older than eleven or are `Sleepy`."
   ]
  },
  {
   "cell_type": "code",
   "execution_count": null,
   "id": "4dfa5d97",
   "metadata": {
    "tags": []
   },
   "outputs": [],
   "source": [
    "# Write your code here by replacing the ...\n",
    "..."
   ]
  },
  {
   "cell_type": "code",
   "execution_count": null,
   "id": "6ab4a2a7",
   "metadata": {
    "deletable": false,
    "editable": false
   },
   "outputs": [],
   "source": [
    "grader.check(\"q1.7\")"
   ]
  },
  {
   "cell_type": "markdown",
   "id": "55500544",
   "metadata": {},
   "source": [
    "**Problem 1.8 (2 points).** Assign to a variable named `silver_medal` the `Temperament` of the second-youngest ROUS in table `rouses_df`.  For ties in `Age`, use shortest `Length` to break the tie."
   ]
  },
  {
   "cell_type": "code",
   "execution_count": null,
   "id": "a9260c5e",
   "metadata": {
    "tags": []
   },
   "outputs": [],
   "source": [
    "# Write your code here by replacing the ...\n",
    "..."
   ]
  },
  {
   "cell_type": "code",
   "execution_count": null,
   "id": "76c325b2",
   "metadata": {
    "deletable": false,
    "editable": false
   },
   "outputs": [],
   "source": [
    "grader.check(\"q1.8\")"
   ]
  },
  {
   "cell_type": "markdown",
   "id": "dc1e44b6",
   "metadata": {},
   "source": [
    "**Problem 1.9 (2 points).** Create a table that, for ROUSes in table `rouses_df` with the same temperament, has the medians of all the numeric columns. Assign it to a table named `medians_by_temperament`. "
   ]
  },
  {
   "cell_type": "code",
   "execution_count": null,
   "id": "dfae2992",
   "metadata": {
    "tags": []
   },
   "outputs": [],
   "source": [
    "# Write your code here by replacing the ...\n",
    "..."
   ]
  },
  {
   "cell_type": "code",
   "execution_count": null,
   "id": "e68af076",
   "metadata": {
    "deletable": false,
    "editable": false
   },
   "outputs": [],
   "source": [
    "grader.check(\"q1.9\")"
   ]
  },
  {
   "cell_type": "markdown",
   "id": "e34f6a36",
   "metadata": {},
   "source": [
    "**Problem 1.10 (2 points).** Assign to a variable named `special_rouses`, how many ROUSes in table `rouses_df` are `Moody` and older than 8 and weigh less than 100.  "
   ]
  },
  {
   "cell_type": "code",
   "execution_count": null,
   "id": "caeb23ea",
   "metadata": {
    "tags": []
   },
   "outputs": [],
   "source": [
    "# Write your code here by replacing the ...\n",
    "..."
   ]
  },
  {
   "cell_type": "code",
   "execution_count": null,
   "id": "7679be8c",
   "metadata": {
    "deletable": false,
    "editable": false
   },
   "outputs": [],
   "source": [
    "grader.check(\"q1.10\")"
   ]
  },
  {
   "cell_type": "markdown",
   "id": "874a92f6-4159-4139-be3c-d1eacefc240a",
   "metadata": {},
   "source": [
    "## Problem 2: Burritos Revisited (22 points)\n",
    "\n",
    "**Problem 2.1 (1 point)**. Reading and cleaning tables.\n",
    "\n",
    "Let's revisit the `burritos` data from hw2. \n",
    "\n",
    "In the next cell, write three lines of code: \n",
    "\n",
    "1) read the file `ratings.csv` and save the resulting table as a variable called `ratings`,\n",
    "2) read the file `burritos_types.csv` and save the resulting table as a variable called `burritos_types`, and\n",
    "3) drop the column named `Unnamed: 0` from `burritos_types` and save that resulting table as a variable called `burritos_types` (that is, overwrite `burritos_types`).\n",
    "\n",
    "If this sounds familiar, it's because we've done all of this in hw2. "
   ]
  },
  {
   "cell_type": "code",
   "execution_count": null,
   "id": "9177c8ea-4578-4c24-817e-d06e417b1880",
   "metadata": {},
   "outputs": [],
   "source": [
    "# Write your code here!\n"
   ]
  },
  {
   "cell_type": "markdown",
   "id": "954fafb3-782f-4c20-95b7-a6279b9cbaae",
   "metadata": {},
   "source": [
    "**Problem 2.2 (5 points)**. \n",
    "\n",
    "Take a look at the following plot:\n",
    "\n",
    "![burritos_avg](burritos_avg.png)\n",
    "\n",
    "1) (1 point) Calculate the average burrito cost per restuarant and save that resulting table as a variable called `mean_cost_per_restaurant`. **Hint**: First decide whether you need `ratings` or `burritos_types`.\n",
    "\n",
    "2) (1 point) First determine whether this plot is a line plot, scatter plot, bar chart, or a histogram. Then try to create a plot that looks like this using the appropriate seaborns function. No worries if you don't get the `cost` legend on the corner or if you get a different color.\n",
    "\n",
    "3) (1 point) Now add the extra things - x axis label, y axis label, and title. I used fontsize 14 for the axes labels and 16 for the title.\n",
    "\n",
    "4) (1 point) Determine what the units of the x and y axes should be, and make sure to replace the (units??) placeholders in the labels with the appropriate text.\n",
    "\n",
    "5) (1 point) Without doing any calculations or coding, what would you say a typical burrito at a typical restaurant would cost in this town? In other words, if you walk into a random restaurant and buy a random burrito, how much do you expect to pay? Write a short sentence to justify your answer, using one (or more) of the words mean, median, mode, quartile, or percentile. Choose whichever is appropriate.\n"
   ]
  },
  {
   "cell_type": "code",
   "execution_count": null,
   "id": "c89e9a0e-0658-43cf-b677-dc8fce9d1102",
   "metadata": {},
   "outputs": [],
   "source": [
    "# Write your code here!\n"
   ]
  },
  {
   "cell_type": "markdown",
   "id": "cb54a3ff-f754-4b6b-9085-b046a95d74a7",
   "metadata": {},
   "source": [
    "[Write your answer here!]"
   ]
  },
  {
   "cell_type": "markdown",
   "id": "ed6c5379-8ee8-4bf9-8371-f906230dd6fa",
   "metadata": {},
   "source": [
    "**Problem 2.3 (3 points)**. \n",
    "\n",
    "Here's another plot:\n",
    "\n",
    "![burritos_count](burritos_count.png)\n",
    "\n",
    "1. (1 point) Calculate the number of burrito types sold in each restaurant and save that result as a variable called `num_burritos_per_restaurant`.\n",
    "\n",
    "2. (1 point) Try to make this plot. I used the same fontsizes as before. Again, no need to worry if you get a different color or get a legend in the corner.\n",
    "\n",
    "3. (1 point) Without doing any calculations or coding, how many types of burritos would you say a typical restaurant in this town sells? Write a short sentence to justify your answer, using one (or more) of the words mean, median, mode, quartile, or percentile. Choose whichever is appropriate.\n"
   ]
  },
  {
   "cell_type": "code",
   "execution_count": null,
   "id": "7550f4c5-9186-4bd5-a24a-ea8696d58b2f",
   "metadata": {},
   "outputs": [],
   "source": [
    "# Write your code here!\n",
    "\n"
   ]
  },
  {
   "cell_type": "markdown",
   "id": "e39fb6b9-62a3-4c36-9daa-005f8b3f7e28",
   "metadata": {},
   "source": [
    "[Write your answer here!]"
   ]
  },
  {
   "cell_type": "markdown",
   "id": "5fab7726-d9a8-4c0c-af1e-d2eced9a5d1f",
   "metadata": {},
   "source": [
    "**Problem 2.4 (7 points)**.\n",
    "\n",
    "Now we have a different type of plot for restaurant ratings.\n",
    "\n",
    "![ratings.png](ratings.png)\n",
    "\n",
    "1. (2 points) Try to recreate this plot including the axis labels and title. I used the same fontsizes as the earlier questions. No worries if you get different colors or small cosmetic differences. **Hint**: First decide what type of plot this is, and which seaborn function you need to work with. Then decide which table you need to work with.\n",
    "2. (2 points) Without doing any calculations or coding, do you notice any patterns in the data, i.e. any relationships between ratings from different platforms? Which platform do you \"trust\" more (many valid answers) and does this plot change your opinion on whose ratings to trust more (it's okay if it doesn't)? Make sure to justify your answers. There are many valid answers.\n",
    "3. (2 point) Do you notice anything odd about the Yelp plot? Is it *missing* anything, compared to the other two? Tell us what's missing in this Yelp plot, and why that would be the case. **Hint**: Try running the `describe` function on this table and see if you notice anything interesting that could lead to this observation.\n",
    "4. (1 point) Calculate the 3 statistical dispersion measures (discussed in class) for Yelp and Google. Make sure to show your work."
   ]
  },
  {
   "cell_type": "code",
   "execution_count": null,
   "id": "eb759787-38ab-4308-8b8f-8ce5c4496c35",
   "metadata": {},
   "outputs": [],
   "source": [
    "# Write your code here!\n"
   ]
  },
  {
   "cell_type": "markdown",
   "id": "1349498a-dca1-468f-ae65-932ee1edfdd1",
   "metadata": {},
   "source": [
    "[Write your answer here!]"
   ]
  },
  {
   "cell_type": "markdown",
   "id": "52516738-c56a-4e2a-8b28-d96af4a304f6",
   "metadata": {},
   "source": [
    "**Problem 2.5 (5 points)**.\n",
    "\n",
    "You liked your previous plot so much that you decided to make it again for burritos.\n",
    "\n",
    "![burritos_cost.png](burritos_cost.png)\n",
    "1. (1 point) Make this plot, including the axis labels and title. It's okay if there are small cosmetic differences. Fontsizes are the same as earlier.\n",
    "\n",
    "\n",
    "2. (2 point) Without doing any calculations or coding, what would you say a typical burrito would cost in this town? Is your answer different from Problem 1.2? **Is the distribution plotted here the same as the distribution plotted in Problem 1.2**? Make sure to justify your answers.\n",
    "\n",
    "3. (1 point) Because of the outlier way up high, the plot is being squished. Can you find out which menu item from which restaurant is causing this problem?\n",
    "\n",
    "4. (1 point) What is the average burrito cost **without** this outlier? How much less (rounded to the nearest cent) is this value compared to the average burrito cost **with** the outlier?"
   ]
  },
  {
   "cell_type": "code",
   "execution_count": null,
   "id": "6a34bb72-d7c4-441f-a137-9e26b963b8ed",
   "metadata": {},
   "outputs": [],
   "source": [
    "# Write your code here. Add as many new cells (code or markdown) as you need.\n"
   ]
  },
  {
   "cell_type": "markdown",
   "id": "91c7eb64-4470-4c7e-a53c-9e09fe3449f0",
   "metadata": {},
   "source": [
    "[Write your answer here!]"
   ]
  },
  {
   "cell_type": "markdown",
   "id": "9a622f59-ff56-48ba-b46e-13096e693623",
   "metadata": {},
   "source": [
    "**Problem 2.6 (1 point)**. Translating insights into action.\n",
    "\n",
    "Surprise! You're actually a consultant hired by someone trying to break into the burrito industry in California. You are analyzing this dataset to gain some insight so that you can give good strategy advice to your client. What advice would you give to your client in terms of 1) how many burrito types they should sell and 2) how much they should charge for each burrito? Why? Make sure to justify your answer by referring to plots and calculations you've made in previous problems. There are many valid answers that would get full credit as long as they are well-justified."
   ]
  },
  {
   "cell_type": "markdown",
   "id": "b36487ab-0866-46f2-ab44-4190833319d9",
   "metadata": {},
   "source": [
    "[Write your answer here!]"
   ]
  },
  {
   "cell_type": "markdown",
   "id": "d574f372-c9d7-40c0-80da-4eb08b4cf896",
   "metadata": {},
   "source": [
    "## Problem 3: Basketball (18 points)\n",
    "\n",
    "So I may or may not be contractually obligated to write at least one homework problem about basketball while at UNC.\n",
    "\n",
    "Using data from this website (https://www.sports-reference.com/cbb/schools/north-carolina/men/), let's take a look at the UNC Men's Basketball history.\n",
    "\n",
    "**Problem 3.1 (3 points)**. \n",
    "1. (1 point) Read the file `unc_all.csv` and save the resulting table as a variable called `unc`. Next, read the file `unc_coaches.csv` and save the resulting table as a variable named `unc_coaches`.\n",
    "3. (2 points) Take a look at the `Season` column in `unc`. Our goal is to create a new column called `Year` that is derived from the `Season` column such that it takes the \"beginning\" year of the season. For example, I want \"2023-24\" in Season -> 2023 in Year, \"2022-23\" in Season -> 2022 in Year, and so on. Note that I am being intentional with the use of quotation marks here; I want all values in my new Year column to be of data type `int`.\n",
    " \n",
    "**Hint**: You've seen examples in lecture where we took the first names and last names of the NBA players, and took the first word of the long scientific names in penguin species. This used the `.str.split(...).str.get(...)` notation. Find out what to replace `...` with, and what should come before the `.str`.\n",
    "\n",
    "**Hint**: You can change the datatype of a column by using the `.astype(...)` notation. Same hint as above."
   ]
  },
  {
   "cell_type": "code",
   "execution_count": null,
   "id": "65ddca72-4ceb-4820-8492-2a22b37339be",
   "metadata": {},
   "outputs": [],
   "source": [
    "# Write your code here! Add as many new cells as you need.\n",
    "\n"
   ]
  },
  {
   "cell_type": "markdown",
   "id": "085ec769-71f3-4725-ae17-5badee6fa2c9",
   "metadata": {},
   "source": [
    "**Problem 3.2 (6 points)**.\n",
    "\n",
    "Copy paste and run the following code, which should generate a line plot with two lines. Make sure you understand what's going on in the code. The best way to do that is by playing around and seeing how removing or changing code changes the plot.\n",
    "\n",
    "```Python\n",
    "fig, ax = plt.subplots(1)\n",
    "\n",
    "sns.lineplot(data=unc, x='Year', y='W', label='W')\n",
    "sns.lineplot(data=unc, x='Year', y='L', label='L')\n",
    "\n",
    "ax.set_xlabel('Season', fontsize=14)\n",
    "ax.set_ylabel('Games', fontsize=14)\n",
    "ax.set_title(\"UNC Men's Basketball\", fontsize=16)\n",
    "ax.legend(fontsize=12)\n",
    "```\n",
    "\n",
    "\n",
    "1. (0.5 point) Based on this plot, do you think the total number of games played per season is increasing, decreasing, or staying the same over the years? Write a short sentence to justify your answer.\n",
    "2. (0.5 point) Check your answer by creating a new column in `unc` called `Games` that counts the total number of games played per season. Then create a new lineplot only with this column.\n",
    "3. (1 point) Coming back to the original plot, do you notice any \"eras\" or changepoints where something in the data shifted? How many did you count and in which seasons did this occur? Write a short sentence(s) to justify your answer. There are many valid answers. No calculation or coding needed.\n",
    "4. (1 point) Here's how you can visually mark the eras or the changepoints on the plot directly. For example, if you think 1980 was a significant year when something changed, you can add this line to your plotting code above:\n",
    "```Python\n",
    "# all the other plotting code goes here\n",
    "ax.axvline(x=1980, linestyle='-.', color='black')\n",
    "# all the other plotting code goes here\n",
    "```\n",
    "Make another version of the original plot with these **vertical** line(s) that indicate the changepoints you've identified earlier. If you need to, play around with the figsize parameter in subplots or any of the optional parameters for axvline (https://matplotlib.org/stable/api/_as_gen/matplotlib.pyplot.axvline.html) to make the plot look pretty.\n",
    "\n",
    "5. (0.5 point) Now make a new lineplot using the `W-L%` column in `unc` table. Add the vertical line(s) to this plot as well.\n",
    "\n",
    "6. (0.5 point) Do you observe the same shifts as before? Did anything change? Why (or why not) did the insight you got from this data change?\n",
    "\n",
    "7. (0.5 point) Do the `W-L%` columns in `unc` and `unc-coaches` tables have the same distributions? Why or why not?\n",
    "\n",
    "8. (0.5 point) Calculate the mean and median of the `W-L%` columns in both `unc` and `unc-coaches` tables.\n",
    "\n",
    "9. (1 point) Add **horizontal** lines for mean and median to the line plot from Problem 3.2.5. This time make sure to have the legend as shown here. The code you need to draw a horizontal line is:\n",
    "\n",
    "```Python\n",
    "# all the other plotting code goes here\n",
    "ax.axhline(x=..., linestyle=..., color=..., label=...)\n",
    "# all the other plotting code goes here\n",
    "```\n",
    "\n",
    "![W-L.png](W-L.png)"
   ]
  },
  {
   "cell_type": "code",
   "execution_count": null,
   "id": "a2741fa9-67fe-46c5-9317-93a45760b07a",
   "metadata": {},
   "outputs": [],
   "source": [
    "# Copy paste and run the code here. Add new cells (code and markdown) as you go.\n",
    "\n"
   ]
  },
  {
   "cell_type": "markdown",
   "id": "54668c40-d91a-45d5-9276-2921aaf51d5b",
   "metadata": {},
   "source": [
    "[Write your answers here!]"
   ]
  },
  {
   "cell_type": "markdown",
   "id": "f55b217c-e68a-4e13-a75c-7cd16a9575d7",
   "metadata": {},
   "source": [
    "**Problem 3.3 (4 points)**.\n",
    "\n",
    "I made the following histogram of wins (with the `stat='density'` parameter):\n",
    "![wins_density.png](wins_density.png)\n",
    "\n",
    "The bins correspond to the coaches, which you can check from the `unc_coaches` table.\n",
    "\n",
    "1. (1 point) What should the unit be on the y axis?\n",
    "2. (1 point) Based on this histogram, which coach won the **most games**? Write a short sentence to justify your answer.\n",
    "\n",
    "3. (1 point) Based on this histogram, which coach won the **most games per year**? Write a short sentence to justify your answer.\n",
    "4. (1 point) Based on this histogram (and this histogram only), who would you vote as the most successful coach in the history of UNC Men's Basketball? Write a short sentence to justify your answer."
   ]
  },
  {
   "cell_type": "markdown",
   "id": "e04e0ed8-1605-480b-8c54-ae3fd8c6a1ed",
   "metadata": {},
   "source": [
    "[Write your answers here!]"
   ]
  },
  {
   "cell_type": "markdown",
   "id": "b092cf24-e6d8-41c5-8b53-c0715bbae1b6",
   "metadata": {},
   "source": [
    "**Problem 3.4 (5 points)**.\n",
    "\n",
    "Let's make some barplots! \n",
    "\n",
    "1. (1 point) Make a barplot of the number of **wins** for each coach. Please use the horizontal orientation so that we can read the coach names easily. **Hint**: First decide which table has that information.\n",
    "\n",
    "2. (1 point) Create a new column for the table called `W/Yr` that keeps track of how many **wins per year** each coach has accomplished. Then make a new barplot with this column.\n",
    "\n",
    "3. (1 point) Compare the two barplots. What are the main differences you notice?\n",
    "\n",
    "4. (2 points) Now compare the set of two barplots to the histogram from earlier. Which information is covered in both sets of charts, and which information is covered in only one of them?"
   ]
  },
  {
   "cell_type": "code",
   "execution_count": null,
   "id": "19bf8c8f-5738-4153-b0ed-bdb3462cba4e",
   "metadata": {},
   "outputs": [],
   "source": [
    "# Write your code here! Add new cells as you need.\n"
   ]
  },
  {
   "cell_type": "markdown",
   "id": "98383b37-e91d-4fa0-a173-2feb6bb48033",
   "metadata": {},
   "source": [
    "[Write your answers here!]"
   ]
  },
  {
   "cell_type": "markdown",
   "id": "96bfbfa1-0f7c-46f3-9bda-1edfb4d6f7a6",
   "metadata": {},
   "source": [
    "## Problem 4. Storytelling (10 points)\n",
    "\n",
    "Something we've tried to emphasize in the data communication unit is that the same data can be used to tell different stories, sometimes intentionally and sometimes unintentionally. Let's investigate that further.\n",
    "\n",
    "**Problem 4.1 (2 points).** Readings.\n",
    "\n",
    "First, start by reading these two blog posts that summarize good and bad data visualization techniques.\n",
    "\n",
    "https://medium.com/agoda-engineering/10-common-data-visualization-mistakes-and-how-to-avoid-them-e3896fe8e104\n",
    "\n",
    "https://www.oldstreetsolutions.com/good-and-bad-data-visualization\n",
    "\n",
    "What are two new things you learned from these readings? Use 4~8 sentences, and be as specific as you can. For example, \"I learned that data visualization is important\" will not get any credit.\n",
    "\n",
    "If you have any trouble accessing these websites, please find the pdf files uploaded to the canvas website."
   ]
  },
  {
   "cell_type": "markdown",
   "id": "9a17962d-0697-47e8-a874-6c84482f4fa9",
   "metadata": {},
   "source": [
    "[Write your answer here!]"
   ]
  },
  {
   "cell_type": "markdown",
   "id": "f3420454-44ae-42cf-beb1-39ba35d21514",
   "metadata": {},
   "source": [
    "**Problem 4.2 (5 points)**.\n",
    "\n",
    "1. (0.5 point) Find an example of a good data visualization from the internet. If you can, take a screenshot or copy the url to the image and embed it here (https://www.codecademy.com/resources/docs/markdown/images). If you can't, just adding a link here that gets you to the graphic is also fine. Although we didn't cover it in class, interactive visualizations are also welcome. If you're stuck, a good place to start might be newpaper websites (e.g. New York Times).\n",
    "3. (0.5 point) Write down what the data behind the graphics is (e.g. US census, survey among some population) and what the source is. Your visualization (if it's any good) should mention where the data came from.\n",
    "4. (1 point) Summarize in one sentence what you think this plot is trying to tell you. What do you think the creator of this visualization wanted you to know about the data, if you could take away just one thing?\n",
    "5. (3 points) Write two things you like about this plot or why you thought this is an example of good data visualization. Write one thing you would like to change to improve the plot. This improvement could be for you specifically or in general."
   ]
  },
  {
   "cell_type": "markdown",
   "id": "7017a8a5-9247-4933-be1f-3e820b71c32d",
   "metadata": {},
   "source": [
    "[Write your answer here!]"
   ]
  },
  {
   "cell_type": "markdown",
   "id": "9138661a-6d58-4797-ba9e-b40c44c6123d",
   "metadata": {},
   "source": [
    "**Problem 4.3 (3 points)**.\n",
    "\n",
    "Pretend you are a nefarious villain named Puppycat who wants to mess with the world. \n",
    "\n",
    "You really don't like what the original plot was trying to tell you, i.e. what you wrote down in Problem 4.2.3. Therefore, you decide to create an intentionally *bad* and *misleading* data visualization from the *same set of data* (i.e. what you wrote down in Problem 4.2.2.) that tells a *completely different*, or even the *opposite* and *contradicting* message.\n",
    "\n",
    "For example, let's say the original plot you picked shows that the unemployment rate in the US is decreasing, and therefore the US economy is doing well according to this measure. Evil Puppycat (that's you) wants to create a new plot that shows that the unemployment rate is increasing, or at the very least staying the same, using the same dataset.\n",
    "\n",
    "Now, please explain how you whould achieve that in 3~6 sentences. Be as specific as you can by referring to specific parts of the plot. If you're stuck, referring back to the blog posts from Problem 4.1 might be helpful."
   ]
  },
  {
   "cell_type": "markdown",
   "id": "3ca1f690-48ac-4326-9667-ae35a11fa25a",
   "metadata": {},
   "source": [
    "[Write your answer here!]"
   ]
  },
  {
   "cell_type": "markdown",
   "id": "9d5d2422-3919-4ef0-98cb-5b92fe374b37",
   "metadata": {},
   "source": [
    "## Problem 5. Why Data Is Never Raw (10 points)\n",
    "\n",
    "Read this essay by Nick Barrowman, published by the New Atlantis in 2018. \n",
    "\n",
    "https://www.thenewatlantis.com/publications/why-data-is-never-raw\n",
    "\n",
    "Afterwards, write a short essay (100~300 words) on the following prompt.\n",
    "\n",
    "What do you think this quote was trying to say about data? And how is this related to the data science life cycle model discussed in lecture (if any)?\n",
    "    \n",
    "    In the memorable words of Geoffrey Bowker, informatics professor at the University of California, Irvine, “Raw data is both an oxymoron and a bad idea; to the contrary, data should be cooked with care.”\n",
    "\n",
    "Try to connect your thoughts to the rest of the article and what's been discussed in class so far. You are also allowed to (encouraged!) to bring up any of your own examples. This problem will be graded on relevance to the prompt, structure and clarity in writing. Vague, generic answers are not likely to get full credit."
   ]
  },
  {
   "cell_type": "markdown",
   "id": "9845fe39-8252-4518-91a0-8f1fdb7b8099",
   "metadata": {},
   "source": [
    "[Write your answer here!]"
   ]
  },
  {
   "cell_type": "markdown",
   "id": "564df1e4",
   "metadata": {},
   "source": [
    "## Problem 6. Modeling (15 points)\n",
    "This problem deals with determining whether a proposed model is reasonable for describing one attribute as a function of another for ROUSes.\n",
    "\n",
    "First, you will be evaluating which of 3 models would best describe how `Length` is a function of `Age`.\n",
    "\n",
    "Start by running the code below."
   ]
  },
  {
   "cell_type": "code",
   "execution_count": null,
   "id": "9ff1997c",
   "metadata": {},
   "outputs": [],
   "source": [
    "import seaborn as sns\n",
    "import matplotlib.pyplot as plt\n",
    "rouses_model_df = pd.read_csv(\"ROUSes.csv\")"
   ]
  },
  {
   "cell_type": "markdown",
   "id": "91704411",
   "metadata": {},
   "source": [
    "**Problem 6.1 (1 point).** Starting off by visualizing the data is always a good option.  Use seaborn `scatterplot()` to plot the $Length$ (y axis) vs. $Age$ (x axis)."
   ]
  },
  {
   "cell_type": "code",
   "execution_count": null,
   "id": "1418eac2",
   "metadata": {
    "tags": []
   },
   "outputs": [],
   "source": [
    "# write your code here, replacing ...\n",
    "..."
   ]
  },
  {
   "cell_type": "markdown",
   "id": "57f4a689",
   "metadata": {},
   "source": [
    "**Problem 6.2 (3 points).** Now add a new feature (column) to `rouses_model_df` for each of the 3 models below, and fill in the feature with data generated by the model.  Name the features `'Length Model 1'`, `'Length Model 2'`, and `'Length Model 3'`.  Note that the first model has a square root; for this you can use `**0.5`.  Hint: if you are unsure of mathematical operation ordering, parentheses are highly recommended!\n",
    "\n",
    "  Length Model 1 = 1.08 * $\\sqrt{Age}$\n",
    "\n",
    "  Length Model 2 = 1.0 + 0.128 * $Age$\n",
    "\n",
    "  Length Model 3 = 1.0 + 0.00229 * $Age^2$\n",
    "\n"
   ]
  },
  {
   "cell_type": "code",
   "execution_count": null,
   "id": "25024a72",
   "metadata": {
    "tags": []
   },
   "outputs": [],
   "source": [
    "# write your code here, replacing ...\n",
    "..."
   ]
  },
  {
   "cell_type": "markdown",
   "id": "87930b2c",
   "metadata": {},
   "source": [
    "**Problem 6.3 (1 points).** There are many ways to compare data generated from a model to the actual data.  One of the easiest is to overlay plots of the actual and generated data.  One very simple way to do this is to put multiple scatterplots in the same cell, one after the other; seaborn is smart enough to automatically change the color for each of the plots.  Do this in the below; your plot should look like this: \\\n",
    " ![](LengthModel.png)"
   ]
  },
  {
   "cell_type": "code",
   "execution_count": null,
   "id": "3fa0ade2",
   "metadata": {
    "tags": []
   },
   "outputs": [],
   "source": [
    "# write your code here, replacing ...\n",
    "..."
   ]
  },
  {
   "cell_type": "markdown",
   "id": "e8cf837c",
   "metadata": {},
   "source": [
    "**Problem 6.4 (1 point).**  Just by looking at the plots, which of the models would you say is the best fit to the actual data?  "
   ]
  },
  {
   "cell_type": "markdown",
   "id": "3969ba17",
   "metadata": {
    "deletable": false,
    "editable": false
   },
   "source": [
    "_Type your answer here, replacing this text._"
   ]
  },
  {
   "cell_type": "markdown",
   "id": "2346e1ca",
   "metadata": {},
   "source": [
    "**Problem 6.5 (2 points).** Summary statistics can also be used to compare data.  For the `Length` data and the data generated by each model, use pandas to help you compute the range to the nearst tenth.  Assign the 4 range values to the corresponding variables in the cells below."
   ]
  },
  {
   "cell_type": "code",
   "execution_count": null,
   "id": "a0a3c44f",
   "metadata": {
    "tags": []
   },
   "outputs": [],
   "source": [
    "length_range = ...\n",
    "length_range_model1 = ...\n",
    "length_range_model2 = ...\n",
    "length_range_model3 = ..."
   ]
  },
  {
   "cell_type": "code",
   "execution_count": null,
   "id": "7d85860f",
   "metadata": {
    "deletable": false,
    "editable": false
   },
   "outputs": [],
   "source": [
    "grader.check(\"q6.5\")"
   ]
  },
  {
   "cell_type": "markdown",
   "id": "f7d92c5c",
   "metadata": {},
   "source": [
    "**Problem 6.6 (2 points).** Now do the same for median.  In other words, for the `Length` data and the data generated by each model, use pandas to help you compute the median to the nearst tenth.  Assign the 4 median values to the corresponding variables in the cells below."
   ]
  },
  {
   "cell_type": "code",
   "execution_count": null,
   "id": "51668ca5",
   "metadata": {
    "tags": []
   },
   "outputs": [],
   "source": [
    "length_median = ...\n",
    "length_median_model1 = ...\n",
    "length_median_model2 = ...\n",
    "length_median_model3 = ...\n",
    "print(length_median, length_median_model1, length_median_model2, length_median_model3)\n"
   ]
  },
  {
   "cell_type": "code",
   "execution_count": null,
   "id": "772d8914",
   "metadata": {
    "deletable": false,
    "editable": false
   },
   "outputs": [],
   "source": [
    "grader.check(\"q6.6\")"
   ]
  },
  {
   "cell_type": "markdown",
   "id": "b912f578",
   "metadata": {},
   "source": [
    "**Problem 6.7 (1 point).** Considering the values you computed, which summary statistic (range or median) would be more useful in deciding the model that best approximates the data?  Why? "
   ]
  },
  {
   "cell_type": "markdown",
   "id": "3e0fb6c3",
   "metadata": {
    "deletable": false,
    "editable": false
   },
   "source": [
    "_Type your answer here, replacing this text._"
   ]
  },
  {
   "cell_type": "markdown",
   "id": "f42c918e",
   "metadata": {},
   "source": [
    "**Problem 6.8 (1 point).** Another very useful visualization tool for comparing data is boxplot.  First, execute the code below:"
   ]
  },
  {
   "cell_type": "code",
   "execution_count": null,
   "id": "07ca2186",
   "metadata": {},
   "outputs": [],
   "source": [
    "sns.boxplot(data=rouses_model_df)"
   ]
  },
  {
   "cell_type": "code",
   "execution_count": null,
   "id": "ca28ff1f",
   "metadata": {
    "tags": []
   },
   "outputs": [],
   "source": [
    "new_argument = ...\n",
    "sns.boxplot(data=new_argument)"
   ]
  },
  {
   "cell_type": "markdown",
   "id": "6161d07c",
   "metadata": {},
   "source": [
    "**Problem 6.9 (3 point).** Using any technique you wish, decide which of the models below is the best model for `Weight`.  Show some kind of work or visualization in the Python cell, and write what model matches best in the cell below that.\n",
    "\n",
    "  Weight Model 1 = 51 * $\\sqrt{Age}$\n",
    "\n",
    "  Weight Model 2 = 6.9 * $Age$\n",
    "\n",
    "  Weight Model 3 = 0.125 * $Age^2$\n",
    "\n"
   ]
  },
  {
   "cell_type": "code",
   "execution_count": null,
   "id": "107b7d0b",
   "metadata": {
    "tags": []
   },
   "outputs": [],
   "source": [
    "# show your work here\n",
    "..."
   ]
  },
  {
   "cell_type": "markdown",
   "id": "69dbbfb6",
   "metadata": {},
   "source": [
    "_Type your answer here, replacing this text._"
   ]
  },
  {
   "cell_type": "markdown",
   "id": "57ae6f34",
   "metadata": {},
   "source": [
    "## Problem 7. Causality vs. correlation (10 points)\n",
    "An important part of data science is understanding the relationships between data.  **Correlation** is the degree to which data change with one another.  **Causality** implies a direct relationship where changes in one thing directly results in changes to another thing.  Data can be correlated without any causality relationship; in fact, this occurs often when the data both depend on a third variable.  For example, number of shark attacks and ice cream sales are often correlated, but one does not cause the other; they both depend on weather conditions.  "
   ]
  },
  {
   "cell_type": "markdown",
   "id": "ced3c77a",
   "metadata": {},
   "source": [
    "**Problem 7.1 (2 points).** Run the code below and observe the plot.  Does the ***y*** value appear to be correlated with the ***x*** value? Why or why not?\n"
   ]
  },
  {
   "cell_type": "code",
   "execution_count": null,
   "id": "61e6fe8f",
   "metadata": {},
   "outputs": [],
   "source": [
    "x_data = [0,1,2,3,4,5,6,7,8,9,10]\n",
    "y_data = [1,4,7,10,2,5,8,9,6,3,0]\n",
    "sns.scatterplot(x=x_data, y=y_data)"
   ]
  },
  {
   "cell_type": "markdown",
   "id": "65df8637",
   "metadata": {},
   "source": [
    "_Type your answer here, replacing this text._"
   ]
  },
  {
   "cell_type": "markdown",
   "id": "ffca1f36",
   "metadata": {},
   "source": [
    "**Problem 7.2 (2 points).** Run the code below and observe the plot.  Does the ***y*** value appear to be correlated with the ***x*** value? Why or why not?\n"
   ]
  },
  {
   "cell_type": "code",
   "execution_count": null,
   "id": "2a14c4c3",
   "metadata": {},
   "outputs": [],
   "source": [
    "x_data = [0,1,2,3,4,5,6,7,8,9,10]\n",
    "y_data = [10,13,14,16,18,20,21,24,26,27,30]\n",
    "sns.scatterplot(x=x_data, y=y_data)"
   ]
  },
  {
   "cell_type": "markdown",
   "id": "05f838ee",
   "metadata": {},
   "source": [
    "_Type your answer here, replacing this text._"
   ]
  },
  {
   "cell_type": "markdown",
   "id": "9d1a88e6",
   "metadata": {},
   "source": [
    "**Problem 7.3 (2 points).** For problem 4.2, can you make a statement about causality?  In other words, can you say the behavior of ***y*** is caused by the behavior of ***x***?   Why or why not?"
   ]
  },
  {
   "cell_type": "markdown",
   "id": "560a5afa",
   "metadata": {},
   "source": [
    "_Type your answer here, replacing this text._"
   ]
  },
  {
   "cell_type": "markdown",
   "id": "a940a962",
   "metadata": {},
   "source": [
    "**Problem 7.4 (4 points).** For each of the following cases, decide whether it is an example of **causality**, **correlation**, or **neither**.  For each answer, explain why in a single sentence.\n",
    "\n",
    "\n"
   ]
  },
  {
   "cell_type": "markdown",
   "id": "cf1b87ad",
   "metadata": {},
   "source": [
    "* Case A. Roulette wheel spins and crap table dice rolls."
   ]
  },
  {
   "cell_type": "markdown",
   "id": "52502a2b",
   "metadata": {},
   "source": [
    "_Type your answer here, replacing this text._"
   ]
  },
  {
   "cell_type": "markdown",
   "id": "6d3bbb74",
   "metadata": {},
   "source": [
    "* Case B.\\\n",
    " ![](this_is_fine.jpg)"
   ]
  },
  {
   "cell_type": "markdown",
   "id": "8c4ac8a9",
   "metadata": {},
   "source": [
    "_Type your answer here, replacing this text._"
   ]
  },
  {
   "cell_type": "markdown",
   "id": "1a633500",
   "metadata": {},
   "source": [
    "* Case C. Golf club swing speed and golf ball initial flight speed."
   ]
  },
  {
   "cell_type": "markdown",
   "id": "3e9e5cfe",
   "metadata": {},
   "source": [
    "_Type your answer here, replacing this text._"
   ]
  },
  {
   "cell_type": "markdown",
   "id": "c5d4412e",
   "metadata": {},
   "source": [
    "* Case D. Shoe size and reading ability."
   ]
  },
  {
   "cell_type": "markdown",
   "id": "ba8ef36a",
   "metadata": {},
   "source": [
    "_Type your answer here, replacing this text._"
   ]
  },
  {
   "cell_type": "markdown",
   "id": "2c55c77a",
   "metadata": {
    "deletable": false,
    "editable": false
   },
   "source": [
    "## Submission\n",
    "\n",
    "Make sure you have run all cells in your notebook in order before running the cell below, so that all images/graphs appear in the output. The cell below will generate a zip file for you to submit. **Please save before exporting!**\n",
    "\n",
    "Submit zip file and PDF to Gradescope Homework3"
   ]
  },
  {
   "cell_type": "code",
   "execution_count": null,
   "id": "bb8217b1",
   "metadata": {
    "deletable": false,
    "editable": false
   },
   "outputs": [],
   "source": [
    "# Save your notebook first, then run this cell to export your submission.\n",
    "grader.export(pdf=False, run_tests=True)"
   ]
  },
  {
   "cell_type": "markdown",
   "id": "22c91888",
   "metadata": {},
   "source": [
    " "
   ]
  }
 ],
 "metadata": {
  "kernelspec": {
   "display_name": "Python 3 (ipykernel)",
   "language": "python",
   "name": "python3"
  },
  "language_info": {
   "codemirror_mode": {
    "name": "ipython",
    "version": 3
   },
   "file_extension": ".py",
   "mimetype": "text/x-python",
   "name": "python",
   "nbconvert_exporter": "python",
   "pygments_lexer": "ipython3",
   "version": "3.12.6"
  },
  "otter": {
   "OK_FORMAT": true,
   "tests": {
    "q1.1": {
     "name": "q1.1",
     "points": 1,
     "suites": [
      {
       "cases": [
        {
         "code": ">>> assert list(start_off_easy.columns) == ['Age', 'Length', 'Weight', 'Temperament']\n",
         "hidden": false,
         "locked": false
        }
       ],
       "scored": true,
       "setup": "",
       "teardown": "",
       "type": "doctest"
      }
     ]
    },
    "q1.10": {
     "name": "q1.10",
     "points": 2,
     "suites": [
      {
       "cases": [
        {
         "code": ">>> assert type(special_rouses) == int\n",
         "hidden": false,
         "locked": false
        }
       ],
       "scored": true,
       "setup": "",
       "teardown": "",
       "type": "doctest"
      }
     ]
    },
    "q1.2": {
     "name": "q1.2",
     "points": 1,
     "suites": [
      {
       "cases": [
        {
         "code": ">>> assert rouses_edited_df.shape == (29, 2)\n",
         "hidden": false,
         "locked": false
        }
       ],
       "scored": true,
       "setup": "",
       "teardown": "",
       "type": "doctest"
      }
     ]
    },
    "q1.3": {
     "name": "q1.3",
     "points": 1,
     "suites": [
      {
       "cases": [
        {
         "code": ">>> assert (type(max_age_first_10) == float) | (type(max_age_first_10) == np.float64)\n",
         "hidden": false,
         "locked": false
        }
       ],
       "scored": true,
       "setup": "",
       "teardown": "",
       "type": "doctest"
      }
     ]
    },
    "q1.4": {
     "name": "q1.4",
     "points": 1,
     "suites": [
      {
       "cases": [
        {
         "code": ">>> assert (type(lucky18) == float) | (type(lucky18) == np.float64)\n",
         "hidden": false,
         "locked": false
        }
       ],
       "scored": true,
       "setup": "",
       "teardown": "",
       "type": "doctest"
      }
     ]
    },
    "q1.5": {
     "name": "q1.5",
     "points": 1,
     "suites": [
      {
       "cases": [
        {
         "code": ">>> assert (type(average_weight_last15_rounded) == float) | (type(average_weight_last15_rounded) == np.float64)\n",
         "hidden": false,
         "locked": false
        }
       ],
       "scored": true,
       "setup": "",
       "teardown": "",
       "type": "doctest"
      }
     ]
    },
    "q1.6": {
     "name": "q1.6",
     "points": 2,
     "suites": [
      {
       "cases": [
        {
         "code": ">>> assert type(younger_than_11) == int\n",
         "hidden": false,
         "locked": false
        }
       ],
       "scored": true,
       "setup": "",
       "teardown": "",
       "type": "doctest"
      }
     ]
    },
    "q1.7": {
     "name": "q1.7",
     "points": 2,
     "suites": [
      {
       "cases": [
        {
         "code": ">>> assert type(older_than_11_or_sleepy) == int\n",
         "hidden": false,
         "locked": false
        }
       ],
       "scored": true,
       "setup": "",
       "teardown": "",
       "type": "doctest"
      }
     ]
    },
    "q1.8": {
     "name": "q1.8",
     "points": 2,
     "suites": [
      {
       "cases": [
        {
         "code": ">>> assert type(silver_medal) == str\n",
         "hidden": false,
         "locked": false
        }
       ],
       "scored": true,
       "setup": "",
       "teardown": "",
       "type": "doctest"
      }
     ]
    },
    "q1.9": {
     "name": "q1.9",
     "points": 2,
     "suites": [
      {
       "cases": [
        {
         "code": ">>> assert medians_by_temperament.shape == (4, 3)\n",
         "hidden": false,
         "locked": false
        }
       ],
       "scored": true,
       "setup": "",
       "teardown": "",
       "type": "doctest"
      }
     ]
    },
    "q6.5": {
     "name": "q6.5",
     "points": 2,
     "suites": [
      {
       "cases": [
        {
         "code": ">>> assert length_range == 6.9\n",
         "hidden": false,
         "locked": false
        }
       ],
       "scored": true,
       "setup": "",
       "teardown": "",
       "type": "doctest"
      }
     ]
    },
    "q6.6": {
     "name": "q6.6",
     "points": 2,
     "suites": [
      {
       "cases": [
        {
         "code": ">>> assert length_median == 3.9\n",
         "hidden": false,
         "locked": false
        }
       ],
       "scored": true,
       "setup": "",
       "teardown": "",
       "type": "doctest"
      }
     ]
    }
   }
  }
 },
 "nbformat": 4,
 "nbformat_minor": 5
}
