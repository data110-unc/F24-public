{
 "cells": [
  {
   "cell_type": "code",
   "execution_count": null,
   "id": "4472edc7",
   "metadata": {
    "deletable": false,
    "editable": false
   },
   "outputs": [],
   "source": [
    "# Initialize Otter\n",
    "import otter\n",
    "grader = otter.Notebook(\"hw2.ipynb\")"
   ]
  },
  {
   "cell_type": "markdown",
   "id": "4449f091",
   "metadata": {},
   "source": [
    "## <u>Name:</u> [Your name] and (your onyen)\n",
    "\n",
    "Names and Onyens of fellow students you discussed Homework2 problems and ideas:\n",
    "\n",
    "- Students: \n",
    "\n",
    "We encourage discussing ideas and brainstorming with your peers, but the final text, code, and comments in this homework assignment MUST be 100% written by you as mentioned in syllabus.\n",
    "\n"
   ]
  },
  {
   "cell_type": "markdown",
   "id": "953a7ae3",
   "metadata": {},
   "source": [
    "# Homework 2: Python and Pandas (100 points)\n",
    "\n",
    "Please complete this notebook by filling in the cells provided. Be sure to run the cell above that loads the autograder, and be sure to save your notebook before generating your submission by running the last cell.\n",
    "\n",
    "!! Please submit a PDF of your notebook and upload it to Gradescope along with the generated zip file.  If no PDF submitted, **points will be deducted**.  You can make a PDF from JupyterHub by 1. File->Print or 2. Command+P (on Mac), then choose 'Save to PDF'. This saves the file on your laptop.  You can then drag and drop the zip & pdf file together to the upload box on Gradescope.\n",
    "\n",
    "!! Points will also be **deducted** if you do not include your name and Onyen in the Markdown cell above!\n",
    "\n",
    "Note that for homework, the autograder is useful feedback that you should pay attention to, but passing the autograder for a problem **DOES NOT GUARANTEE** you will get full credit on the problem, and some problems will be manually graded.\n"
   ]
  },
  {
   "cell_type": "markdown",
   "id": "2223f78b",
   "metadata": {},
   "source": [
    "## Problem 1. Python Lightning Round (15 points)\n",
    "For each of the sentences below, write the corresponding Python code.  For example, for the sentence \"Assign the string `Rick is left-handed` to the variable named `inconceivable`\", the corresponding code would be:\n",
    "\n",
    "`inconceivable = 'Rick is left-handed'`\n",
    "\n",
    "Don't change any of the code that is provided.  Note that answers may require more than a single line of code."
   ]
  },
  {
   "cell_type": "markdown",
   "id": "53702c01",
   "metadata": {},
   "source": [
    "**Problem 1.1 (1 point).** Assign 4.5 to a variable named `start_off_easy`."
   ]
  },
  {
   "cell_type": "code",
   "execution_count": null,
   "id": "cb4d45e6",
   "metadata": {
    "deletable": false,
    "editable": false
   },
   "outputs": [],
   "source": [
    "import numpy as np\n",
    "import pandas as pd"
   ]
  },
  {
   "cell_type": "code",
   "execution_count": null,
   "id": "70764f7a",
   "metadata": {
    "tags": []
   },
   "outputs": [],
   "source": [
    "# Write your code here by replacing the ...\n",
    "..."
   ]
  },
  {
   "cell_type": "code",
   "execution_count": null,
   "id": "7a4390ae",
   "metadata": {
    "deletable": false,
    "editable": false
   },
   "outputs": [],
   "source": [
    "grader.check(\"q1.1\")"
   ]
  },
  {
   "cell_type": "markdown",
   "id": "84ae1943",
   "metadata": {},
   "source": [
    "**Problem 1.2 (1 point).** Assign 5 to the variables named `x` and `y` then assign the sum of `x` and `y` to a variable named `z`."
   ]
  },
  {
   "cell_type": "code",
   "execution_count": null,
   "id": "799b7925",
   "metadata": {
    "tags": []
   },
   "outputs": [],
   "source": [
    "..."
   ]
  },
  {
   "cell_type": "code",
   "execution_count": null,
   "id": "44a2370b",
   "metadata": {
    "deletable": false,
    "editable": false
   },
   "outputs": [],
   "source": [
    "grader.check(\"q1.2\")"
   ]
  },
  {
   "cell_type": "markdown",
   "id": "c49da820",
   "metadata": {},
   "source": [
    "**Problem 1.3 (1 point).** To a variable named `my_stuff`, assign a list that contains 5, the string 'pencil', and -4.2 (in this order)."
   ]
  },
  {
   "cell_type": "code",
   "execution_count": null,
   "id": "928f9e43",
   "metadata": {
    "tags": []
   },
   "outputs": [],
   "source": [
    "..."
   ]
  },
  {
   "cell_type": "code",
   "execution_count": null,
   "id": "9c16042b",
   "metadata": {
    "deletable": false,
    "editable": false
   },
   "outputs": [],
   "source": [
    "grader.check(\"q1.3\")"
   ]
  },
  {
   "cell_type": "markdown",
   "id": "a813926f",
   "metadata": {},
   "source": [
    "**Problem 1.4 (1 point).** Assign a range of integers to a variable named `bizz` that starts at 3 and steps by 3 up to and including 12."
   ]
  },
  {
   "cell_type": "code",
   "execution_count": null,
   "id": "1a77dbac",
   "metadata": {
    "tags": []
   },
   "outputs": [],
   "source": [
    "..."
   ]
  },
  {
   "cell_type": "code",
   "execution_count": null,
   "id": "fe18f2a6",
   "metadata": {
    "deletable": false,
    "editable": false
   },
   "outputs": [],
   "source": [
    "grader.check(\"q1.4\")"
   ]
  },
  {
   "cell_type": "markdown",
   "id": "d1c8b440",
   "metadata": {},
   "source": [
    "**Problem 1.5 (1 point).** Define a function named `test_func_prob15` that takes in a list `exactly_three_things`, and assigns its **third** element to a variable named `favorite`. The function then returns `favorite`."
   ]
  },
  {
   "cell_type": "code",
   "execution_count": null,
   "id": "239b57e5",
   "metadata": {
    "tags": []
   },
   "outputs": [],
   "source": [
    "def test_func_prob15(exactly_three_things):\n",
    "...\n",
    "    return favorite"
   ]
  },
  {
   "cell_type": "code",
   "execution_count": null,
   "id": "8a66a13e",
   "metadata": {
    "deletable": false,
    "editable": false
   },
   "outputs": [],
   "source": [
    "grader.check(\"q1.5\")"
   ]
  },
  {
   "cell_type": "markdown",
   "id": "fa881c97",
   "metadata": {},
   "source": [
    "**Problem 1.6 (2 points).** Define a function named `take_away` that takes in two numbers `x`, `y`, and returns the first argument minus the second argument."
   ]
  },
  {
   "cell_type": "code",
   "execution_count": null,
   "id": "abdad7bc",
   "metadata": {
    "tags": []
   },
   "outputs": [],
   "source": [
    "..."
   ]
  },
  {
   "cell_type": "code",
   "execution_count": null,
   "id": "40366f6a",
   "metadata": {
    "deletable": false,
    "editable": false
   },
   "outputs": [],
   "source": [
    "grader.check(\"q1.6\")"
   ]
  },
  {
   "cell_type": "markdown",
   "id": "553fa57c",
   "metadata": {},
   "source": [
    "**Problem 1.7 (2 points).** Inside the function, if the given variable `numeric_arg` is greater than 0, set a variable `positive_flag` to `True`."
   ]
  },
  {
   "cell_type": "code",
   "execution_count": null,
   "id": "a5cb6e28",
   "metadata": {
    "tags": []
   },
   "outputs": [],
   "source": [
    "def test_positive(numeric_arg):\n",
    "    positive_flag = False\n",
    "...\n",
    "    return positive_flag"
   ]
  },
  {
   "cell_type": "code",
   "execution_count": null,
   "id": "0daa18e3",
   "metadata": {
    "deletable": false,
    "editable": false
   },
   "outputs": [],
   "source": [
    "grader.check(\"q1.7\")"
   ]
  },
  {
   "cell_type": "markdown",
   "id": "3f66632e",
   "metadata": {},
   "source": [
    "**Problem 1.8 (2 points).** Loop through all the elements in a list of strings named `lots_of_words` and increment a variable name `word_count` by a value of 1 for each element. \n",
    "\n",
    "**Hint**: Check your code by comparing the returned variable `word_count` with the total number of workds in your list."
   ]
  },
  {
   "cell_type": "code",
   "execution_count": null,
   "id": "a78868ec",
   "metadata": {
    "tags": []
   },
   "outputs": [],
   "source": [
    "def test_func_prob18(lots_of_words):\n",
    "    word_count = 0\n",
    "...\n",
    "    return word_count\n",
    "  "
   ]
  },
  {
   "cell_type": "code",
   "execution_count": null,
   "id": "bfe61c71",
   "metadata": {
    "deletable": false,
    "editable": false
   },
   "outputs": [],
   "source": [
    "grader.check(\"q1.8\")"
   ]
  },
  {
   "cell_type": "markdown",
   "id": "1055f4c4",
   "metadata": {},
   "source": [
    "**Problem 1.9 (2 points).** Return the second to the last item in a list named `many_things`."
   ]
  },
  {
   "cell_type": "code",
   "execution_count": null,
   "id": "c896fbeb",
   "metadata": {
    "tags": []
   },
   "outputs": [],
   "source": [
    "def test_func_prob19(many_things):\n",
    "..."
   ]
  },
  {
   "cell_type": "code",
   "execution_count": null,
   "id": "4e77bbea",
   "metadata": {
    "deletable": false,
    "editable": false
   },
   "outputs": [],
   "source": [
    "grader.check(\"q1.9\")"
   ]
  },
  {
   "cell_type": "markdown",
   "id": "91378839",
   "metadata": {},
   "source": [
    "**Problem 1.10 (2 points).** Define a function `fun_game` with one argument `i` that returns the string 'bizz' if the argument is divisible by 3.  If not, it returns the string 'buzz' if the argument is divisible by 7.  If the argument is not divisible by either 3 or 7, the function returns string 'boring'."
   ]
  },
  {
   "cell_type": "code",
   "execution_count": null,
   "id": "2ab02494",
   "metadata": {
    "tags": []
   },
   "outputs": [],
   "source": [
    "..."
   ]
  },
  {
   "cell_type": "code",
   "execution_count": null,
   "id": "d17082cd",
   "metadata": {
    "deletable": false,
    "editable": false
   },
   "outputs": [],
   "source": [
    "grader.check(\"q1.10\")"
   ]
  },
  {
   "cell_type": "markdown",
   "id": "15526e34",
   "metadata": {},
   "source": [
    "**Extra credit (1 point).** Wait, already?!?  Define a function `funner_game` with one argument that returns the string 'bizz' if the argument is divisible by 3, the string 'buzz' if the argument is divisible by 7, unless it is divisible by both 3 and 7, in which case it returns string 'bizzbuzz'.  If the argument is not divisible by either 3 or 7, the function returns string 'boring'."
   ]
  },
  {
   "cell_type": "code",
   "execution_count": null,
   "id": "9b2daa49",
   "metadata": {
    "tags": []
   },
   "outputs": [],
   "source": [
    "..."
   ]
  },
  {
   "cell_type": "code",
   "execution_count": null,
   "id": "6fa5c212",
   "metadata": {
    "deletable": false,
    "editable": false
   },
   "outputs": [],
   "source": [
    "grader.check(\"q1.11\")"
   ]
  },
  {
   "cell_type": "markdown",
   "id": "0850aa8b-7ba9-44bc-bc6d-11c1c4876b59",
   "metadata": {},
   "source": [
    "## Problem 2. Rideshare (30 points)\n",
    "\n",
    "### Part A: Reviewing functions and for loops\n",
    " \n",
    "**Problem 2.1 Squared lists (1 point).** \n",
    "Write a function called `square` which takes in a list of numbers and returns a list with each item squared. Lecture 5 slides might be helpful if you're stuck."
   ]
  },
  {
   "cell_type": "code",
   "execution_count": null,
   "id": "2ba3f534-ec6c-48ab-8a92-078688054bf5",
   "metadata": {
    "tags": []
   },
   "outputs": [],
   "source": [
    "def square(L):\n",
    "    ..."
   ]
  },
  {
   "cell_type": "code",
   "execution_count": null,
   "id": "60eccca1",
   "metadata": {
    "deletable": false,
    "editable": false
   },
   "outputs": [],
   "source": [
    "grader.check(\"q2.1\")"
   ]
  },
  {
   "cell_type": "markdown",
   "id": "784503e7-6483-43ea-8587-03d7760f1eea",
   "metadata": {},
   "source": [
    "**Problem 2.2 Power lists (2 points).** \n",
    "Now, let's make a more flexible function called `compute_power(L,n)` that lets the user raise each element to the `n`th power. Give `n` a default value of 2. Test by checking that `square(L) = compute_power(L)` for different examples of `L`."
   ]
  },
  {
   "cell_type": "code",
   "execution_count": null,
   "id": "36b8b6e6-cc08-4a3f-8a73-4891e6a1f8fa",
   "metadata": {
    "tags": []
   },
   "outputs": [],
   "source": [
    "def compute_power(L,n=2):\n",
    "    ..."
   ]
  },
  {
   "cell_type": "code",
   "execution_count": null,
   "id": "a7905bf0",
   "metadata": {
    "deletable": false,
    "editable": false
   },
   "outputs": [],
   "source": [
    "grader.check(\"q2.2\")"
   ]
  },
  {
   "cell_type": "markdown",
   "id": "b26563fd-6880-4ea1-864b-462be5567e28",
   "metadata": {},
   "source": [
    "### Part B: Computing distances with functions\n",
    "\n",
    "For the next part of this assignment, we're going to think about how we might be able to write functions that can be used to compute distances on a map.\n",
    "\n",
    "**Problem 2.3 Computing the Euclidean distance (3 points).** \n",
    "\n",
    "\"Euclidean distance\" is simply the distance of the straight line that connects two points in Euclidean space. It's basically the distance \"as the crow flies\". On a map, it might look something like this:\n",
    "\n",
    "<img src=\"https://i.imgur.com/KSmguA5.png\" width=500px>\n",
    "<div style=\"text-align: center\"> </div>\n",
    "\n",
    "Write a function called `Euclidean_distance` which takes in two points `p` and `q` (both are lists of numbers) and returns the calculated Euclidean distance bewteen `p` and `q`.\n",
    "\n",
    "For example: \n",
    "\n",
    "```python\n",
    "Euclidean_distance([2, 1], [5, 5])\n",
    "```\n",
    "```\n",
    "5.0\n",
    "```\n",
    "\n",
    "\n",
    "**Hint:** Euclidean distance between $(x_1,y_1)$ and $(x_2,y_2)$ is defined as $\\sqrt{(x_1-x_2)^2+(y_1-y_2)^2}$. (Remember the Pythagorean theorem?)\n",
    "\n",
    "**Hint:** The Python code for calculating square root of `x` is the following:\n",
    "\n",
    "```python\n",
    "import math\n",
    "math.sqrt(x)\n",
    "```\n",
    "We have already imported math for you."
   ]
  },
  {
   "cell_type": "code",
   "execution_count": null,
   "id": "58d625a7-49d1-4e27-b8e7-e8976bb93d74",
   "metadata": {
    "tags": []
   },
   "outputs": [],
   "source": [
    "import math\n",
    "\n",
    "..."
   ]
  },
  {
   "cell_type": "code",
   "execution_count": null,
   "id": "dacf5f19",
   "metadata": {
    "deletable": false,
    "editable": false
   },
   "outputs": [],
   "source": [
    "grader.check(\"q2.3\")"
   ]
  },
  {
   "cell_type": "markdown",
   "id": "74e1da92-f737-458c-9d8d-28cafbf843c0",
   "metadata": {},
   "source": [
    "**Problem 2.4 Computing the \"Lyft\" distance (3 points).** \n",
    "\n",
    "For this part of the assignment, let's say that you've been thinking about starting a new rideshare company similar to Uber or Lyft. You've started thinking about how you should go about estimating the amount you should charge for a given ride. You've realized that computing the Euclidean distance between two points makes sense for \"as the bird flies\" distance computations, but not for vehicles which need to navigate city blocks. This is why this type of distnace is called the Manhattan distance. Now you need to create a new function that computes an estimate for the total distance of the ride for your new \"Lyft-like\" service.\n",
    "\n",
    "When you're driving a car you can't just travel in a straight line between two points, you're forced to drive along the grid structure defined by where the streets are. Your path might look something like this:\n",
    "\n",
    "<img src=\"https://i.imgur.com/ieJ1Z4k.png\" width=500px>\n",
    "<div style=\"text-align: center\"> </div>\n",
    "<br>\n",
    "\n",
    "For the purposes of computing these new \"Lyft\"-like distances, you're going to assume that the drivers for your company are generally pretty good about taking the shortest possible route, and you're also going to assume that, most of the time, the streets will have a pretty standard grid-like structure. After all, it would be pretty hard to predict just how irregular the routes might end up being.\n",
    "\n",
    "**Write a function for computing a \"Lyft\" distance** based on the restriction that the car must travel on a grid of roads that run parallel to the $x$ and $y$ axes of an $x$-$y$ plane. Your function should be named `lyft_distance` and take a **starting point and a stopping point as arguments** and **return** the distance estimate. Your estimate will essentially tell you how many blocks the driver will travel to get to the destination. \n",
    "\n",
    "**Hint**: \"Lyft\" distance between $(x_1,y_1)$ and $(x_2,y_2)$ is defined as $\\vert x_1-x_2\\vert + \\vert y_1-y_2\\vert$.\n",
    "\n",
    "**Hint**: The Python syntax for absolute value is `abs(x)`.\n"
   ]
  },
  {
   "cell_type": "code",
   "execution_count": null,
   "id": "3a4633d6-b7be-4c66-879d-7c0f7f76ba30",
   "metadata": {
    "tags": []
   },
   "outputs": [],
   "source": [
    "..."
   ]
  },
  {
   "cell_type": "code",
   "execution_count": null,
   "id": "547481e3",
   "metadata": {
    "deletable": false,
    "editable": false
   },
   "outputs": [],
   "source": [
    "grader.check(\"q2.4\")"
   ]
  },
  {
   "cell_type": "markdown",
   "id": "48943b07-c20d-49af-9a49-854fd95137ae",
   "metadata": {},
   "source": [
    "**Problem 2.5 Creating a fare-computing function (4 points).** \n",
    "\n",
    "Let's assume that you want to be able to quickly calculate an estimate for the cost of the trip so that you can let your riders know roughly how much you'll charge them.  \n",
    "\n",
    "**Write another function** called `trip_cost` that **calls the function you just wrote** for computing the total distance of the ride to ***return* the cost of the trip in a user-friendly sentence** so that it reads \"The cost of the trip will be $< amount >.\" where < amount > is the total in dollars that the trip will cost. Remember that we only want numbers up to 1 cent (no fractional cents). Your function should take as arguments the starting point, the stopping point, and the fare (per mile), with a default value of 40 cents. (For the purposes of this exercise, we will assume that each block is one mile so that we don't need to worry about unit conversions.)\n",
    "\n",
    "***Hints:***\n",
    "\n",
    "1.) Start with the `def` statement. How many parameters do you need? Do any of them have a default value? Next, think about what you need to `return`. What should the data type be?\n",
    "\n",
    "2.) To make the dollar value look nice, first calculate the cost, and then generate a string using the code `f\"The cost of the trip will be ${cost:.2f}.\"` Wow, what is this pretty fancy string format? They are called Python f-string, and you can read about them here (https://realpython.com/python-f-strings/) and here (https://docs.python.org/3/tutorial/inputoutput.html).\n",
    "\n",
    "3.) Your `trip_cost` function should call your `lyft_distance` function."
   ]
  },
  {
   "cell_type": "code",
   "execution_count": null,
   "id": "f23946a2-5445-485e-b84a-3424c4186a13",
   "metadata": {
    "tags": []
   },
   "outputs": [],
   "source": [
    "..."
   ]
  },
  {
   "cell_type": "code",
   "execution_count": null,
   "id": "04b7e4e1",
   "metadata": {
    "deletable": false,
    "editable": false
   },
   "outputs": [],
   "source": [
    "grader.check(\"q2.5\")"
   ]
  },
  {
   "cell_type": "markdown",
   "id": "3d95fa70-641d-4e3e-87f5-00e1c0978dec",
   "metadata": {},
   "source": [
    "### Part C: Combining your functions\n",
    "\n",
    "Now that you've written two different functions for finding the distance, you're thinking that it would be more convenient if you could use the same function to compute both the Euclidean distance and the Lyft distance. It would also make it a lot easier to compare how much longer the Lyft distance is than the Euclidean distance.\n",
    "\n",
    "**Problem 2.6 (5 points).**\n",
    "\n",
    "**Write a function** called `calculate_distance` that is capable of computing the Euclidean distance **or** the Lyft distance based on an argument called `path_type`. \n",
    "* If the `path_type` is 'Lyft', compute the Lyft distance, otherwise compute the standard Euclidean distance. 'Lyft' should be your default parameter value.\n",
    "* Your function should call the `lyft_distance` and `Euclidean_distance` functions that you have written earlier.\n",
    "\n",
    "As before, your function should **return** the distance.\n"
   ]
  },
  {
   "cell_type": "code",
   "execution_count": null,
   "id": "0624540b-9a95-4a94-948f-8debb3e3a1bc",
   "metadata": {
    "tags": []
   },
   "outputs": [],
   "source": [
    "..."
   ]
  },
  {
   "cell_type": "code",
   "execution_count": null,
   "id": "0848e062",
   "metadata": {
    "deletable": false,
    "editable": false
   },
   "outputs": [],
   "source": [
    "grader.check(\"q2.6\")"
   ]
  },
  {
   "cell_type": "markdown",
   "id": "c3b9db0c-89a6-47d7-a99d-c55c90a4944f",
   "metadata": {},
   "source": [
    "### Part D: Planning your route\n",
    "\n",
    "Now that you've worked out a system for estimating travel distances and ride fares, you're ready to start testing your new rideshare service. You fire up your fancy new program and immediately get three simultaneous rider requests, but luckily they all are looking for a ride to the same place -- the airport!\n",
    "\n",
    "Let's assume that:\n",
    "\n",
    "1. Your starting location is (-2,3).\n",
    "2. The ride locations are (-1, -2), (3,3), and (2, -1).\n",
    "3. The stopping location, the airport, is at (4,0).\n",
    "\n",
    "Run the cell below to assign the locations that are used for the rest of this section.  Note that _stops_ is actually a list of lists!  "
   ]
  },
  {
   "cell_type": "code",
   "execution_count": null,
   "id": "b63302a2",
   "metadata": {},
   "outputs": [],
   "source": [
    "start = [-2, 3]\n",
    "stop0 = [-1, -2]\n",
    "stop1 = [3, 3]\n",
    "stop2 = [2, -1]\n",
    "stops = [stop0, stop1, stop2]\n",
    "end=[4,0]\n",
    "stop0 = [] # clear these, we will only used stops in our code\n",
    "stop1 = [] # reminder about list assignment:\n",
    "stop2 = [] # since these are cleared after stops is assigned, clearing them doesn't affect stops\n",
    "stops"
   ]
  },
  {
   "cell_type": "markdown",
   "id": "790063d4",
   "metadata": {},
   "source": [
    "Run the cell below to visualize the locations.  Note: you are not expected to understand the code in `plot_stops()`"
   ]
  },
  {
   "cell_type": "code",
   "execution_count": null,
   "id": "29445c53-b702-4646-a1df-3b261aa14ce4",
   "metadata": {},
   "outputs": [],
   "source": [
    "from matplotlib import pyplot as plt\n",
    "\n",
    "def plot_stops(start, stops, end):\n",
    "    x_stops=[]\n",
    "    y_stops=[]   \n",
    "    for i, stop in enumerate(stops):\n",
    "        x_stops.append(stop[0])\n",
    "        y_stops.append(stop[1])\n",
    "        plt.text(stop[0]-0.7,stop[1], f'Stop {i}')\n",
    "\n",
    "    plt.scatter(x_stops,y_stops)\n",
    "  \n",
    "    plt.scatter(start[0],start[1],color=\"red\")\n",
    "    plt.text(start[0]+0.5,start[1]-0.1, 'Start')\n",
    "    plt.scatter(end[0],end[1],color=\"gold\")\n",
    "    plt.text(end[0]-0.7,end[1], 'End')\n",
    "\n",
    "plot_stops(start,stops,end)"
   ]
  },
  {
   "cell_type": "markdown",
   "id": "0c05a611-9db1-4f32-b6c0-19c8537f0aae",
   "metadata": {},
   "source": [
    "Let's first assume that we pick the riders up in order, i.e. that we go first from the start to (-1, -2), then from (-1,-2) to (3,3), then from (3,3) to (2, -1), and then lastly from (2,-1) to the airport.\n",
    "\n",
    "**Problem 2.7 (5 points).**\n",
    "\n",
    "Write a function called `simple_route3` which inputs three variables, `start`, `stops`, and `end`, and then returns the total distance of the trip. Your solution should call the `lyft_distance` function several times. You can assume that there will always be 3 stops. "
   ]
  },
  {
   "cell_type": "code",
   "execution_count": null,
   "id": "f963cd83-3bbf-47cf-9f70-9aee6659f4ea",
   "metadata": {
    "tags": []
   },
   "outputs": [],
   "source": [
    "..."
   ]
  },
  {
   "cell_type": "code",
   "execution_count": null,
   "id": "dafe16c9",
   "metadata": {
    "deletable": false,
    "editable": false
   },
   "outputs": [],
   "source": [
    "grader.check(\"q2.7\")"
   ]
  },
  {
   "cell_type": "markdown",
   "id": "7d80ea9c-4430-4e7f-b45e-31e76be799e1",
   "metadata": {},
   "source": [
    "Now, lets figure out the best order to pick the riders up.  To do that, we are going to call simple_route3 with all the possible orderings of the riders.  For example, we already examined the ordering `[stop0, stop1, stop2]`.  Another ordering would be `[stop0, stop2, stop1]`.  These orderings are also known as _permutations_.  For three riders, there are 6 unique orderings or _permutations_."
   ]
  },
  {
   "cell_type": "markdown",
   "id": "a82da912",
   "metadata": {},
   "source": [
    "**Problem 2.8 (1 point)** There are shortcuts in Python for generating permutations, but we'll code them by hand for now.  Finish appending the the six different permutations of the stops to list variable named _perms_.  (Note that _perms_ is a list of lists of lists!  That's a lot of square brackets!)"
   ]
  },
  {
   "cell_type": "code",
   "execution_count": null,
   "id": "742a9e70",
   "metadata": {
    "tags": []
   },
   "outputs": [],
   "source": [
    "def list_of_perms3(stops):\n",
    "    perms3 = []\n",
    "    perms3.append([ stops[0], stops[1], stops[2] ])\n",
    "    perms3.append([ stops[0], stops[2], stops[1] ])\n",
    "...\n",
    "    return perms3"
   ]
  },
  {
   "cell_type": "code",
   "execution_count": null,
   "id": "77ee19e2",
   "metadata": {
    "deletable": false,
    "editable": false
   },
   "outputs": [],
   "source": [
    "grader.check(\"q2.8\")"
   ]
  },
  {
   "cell_type": "markdown",
   "id": "a7df1e9c-bb0f-4bb8-a2d8-5d5110c6a7c6",
   "metadata": {},
   "source": [
    "**Problem 2.9 (5 points).**\n",
    "\n",
    "**Now for the most challenging part**: You need to create a function `best_route3` that takes in a starting position, a list of **three** rider locations, and a stopping location and determines the order of rider pickups that will require the least amount of driving. \n",
    "\n",
    "Once you've come up with a plan, try **writing the function**. The function should **return the list of rider locations in the appropriate pick-up order**.\n",
    "\n",
    "Your function should have three input parameters start, stops, and end. It should return a list of the 3 stops in the best order to minimize driving.   It is recommended that your `best_route3` function call your `simple_route3` function and `list_of_perms3` function that you wrote earlier, although this is not required. \n",
    "\n",
    "\n",
    "**Hint**: There are many different ways to do this, most of which will involve a `for` loop.  One way would be to create a list of all the distances, and then use `min()` function and the `list.index()` function to get the index of which distance is minimum. You can assign as many variables and write as many lines as you need inside the function."
   ]
  },
  {
   "cell_type": "code",
   "execution_count": null,
   "id": "b2ff82e3-8413-40e1-ac75-b2f9c2b73030",
   "metadata": {
    "tags": []
   },
   "outputs": [],
   "source": [
    "..."
   ]
  },
  {
   "cell_type": "code",
   "execution_count": null,
   "id": "e70d4186-8f7e-404d-a23f-7d8e340a0fcf",
   "metadata": {
    "deletable": false,
    "editable": false
   },
   "outputs": [],
   "source": [
    "best_perm = best_route3(start,stops,end)\n",
    "\n",
    "plot_stops(start, stops, end)\n",
    "\n",
    "def plot_line(p,q):\n",
    "    plt.plot([p[0],q[0]],[p[1],q[1]],color=\"black\")\n",
    "    \n",
    "plot_line(start,best_perm[0])\n",
    "plot_line(best_perm[0],best_perm[1])\n",
    "plot_line(best_perm[1],best_perm[2])\n",
    "plot_line(best_perm[2],end)\n"
   ]
  },
  {
   "cell_type": "code",
   "execution_count": null,
   "id": "97fec54e",
   "metadata": {
    "deletable": false,
    "editable": false
   },
   "outputs": [],
   "source": [
    "grader.check(\"q2.9\")"
   ]
  },
  {
   "cell_type": "markdown",
   "id": "4f2b6314-8685-46fd-bb43-b699e78b05ff",
   "metadata": {},
   "source": [
    "Now run the code below to visualize your best route. (It is okay if you don't understand the code yet.)"
   ]
  },
  {
   "cell_type": "markdown",
   "id": "9da2eaed-c3ab-4bac-9a68-26f6a0961c0b",
   "metadata": {},
   "source": [
    "**Problem 2.10 (1 points).** Using the functions you've defined, how would you calculate the distance of the best route given start, stops, and end?  \n",
    "\n",
    "**Hint**: for the points from the start of Part D, the answer should be 19!"
   ]
  },
  {
   "cell_type": "code",
   "execution_count": null,
   "id": "3a0d41f2",
   "metadata": {
    "tags": []
   },
   "outputs": [],
   "source": [
    "def best_distance3( start, stops, end):\n",
    "...\n",
    "\n",
    "best_distance3( start,stops,end)\n"
   ]
  },
  {
   "cell_type": "code",
   "execution_count": null,
   "id": "418a3383",
   "metadata": {
    "deletable": false,
    "editable": false
   },
   "outputs": [],
   "source": [
    "grader.check(\"q2.10\")"
   ]
  },
  {
   "cell_type": "markdown",
   "id": "5ddbf904",
   "metadata": {},
   "source": [
    "## Problem 3. Creating Tables (15 points)\n",
    "In most cases, you will be using data that you are reading in from a file; in fact, sometimes you might be using data that is so big it can't fit in memory, and HAS to be accessed from a file.  But it can still be useful to know how to build a table from scratch, and understanding how to do it also provides insight into the behavior of tables.  Run the code below to see an example of how to create a table. "
   ]
  },
  {
   "cell_type": "code",
   "execution_count": null,
   "id": "ea4ba858",
   "metadata": {},
   "outputs": [],
   "source": [
    "import pandas as pd\n",
    "row_list0 = [1, 2, 3]\n",
    "row_list1 = [4, 5, 6]\n",
    "row_list2 = [7, 8, 9]\n",
    "df = pd.DataFrame( data=[row_list0, row_list1, row_list2], columns=['name', 'rank', 'serial number'])\n",
    "df"
   ]
  },
  {
   "cell_type": "markdown",
   "id": "1066c90a",
   "metadata": {},
   "source": [
    "**Problem 3.1 (3 points).** Suppose you're using Python to help solve a high school Algebra problem.  You have 4 apples, 3 oranges, and 3 pineapples.  Create a table (pandas DataFrame) named `fruits` that contains this information. It should have two attributes or pieces of information about each fruit: `'Fruit name'` and `'Amount'`.  Note: Use lower-case and singular words for the name of each fruit, like \"apple\".  "
   ]
  },
  {
   "cell_type": "code",
   "execution_count": null,
   "id": "f8902a44",
   "metadata": {
    "tags": []
   },
   "outputs": [],
   "source": [
    "...\n",
    "answer31=fruits.copy() # answer31 is used by the auto-grader"
   ]
  },
  {
   "cell_type": "code",
   "execution_count": null,
   "id": "bfc5513f",
   "metadata": {
    "deletable": false,
    "editable": false
   },
   "outputs": [],
   "source": [
    "grader.check(\"q3.1\")"
   ]
  },
  {
   "cell_type": "markdown",
   "id": "879242ed",
   "metadata": {},
   "source": [
    "**Problem 3.2 (2 points).** Write a single line of code that assigns the total of the number of pieces of fruit in the table to a variable named `pieces_of_fruit`."
   ]
  },
  {
   "cell_type": "code",
   "execution_count": null,
   "id": "09080da7",
   "metadata": {
    "tags": []
   },
   "outputs": [],
   "source": [
    "pieces_of_fruit = ...\n",
    "pieces_of_fruit"
   ]
  },
  {
   "cell_type": "code",
   "execution_count": null,
   "id": "bc28cbd4",
   "metadata": {
    "deletable": false,
    "editable": false
   },
   "outputs": [],
   "source": [
    "grader.check(\"q3.2\")"
   ]
  },
  {
   "cell_type": "markdown",
   "id": "12fc5f3e",
   "metadata": {},
   "source": [
    "**Problem 3.3 (2 points).** Add a new attribute to `fruits` named `'Price'` and initialize the price for all the fruits to be 0.99."
   ]
  },
  {
   "cell_type": "code",
   "execution_count": null,
   "id": "a20c12c3",
   "metadata": {
    "tags": []
   },
   "outputs": [],
   "source": [
    "...\n",
    "answer33 = fruits.copy() # answer33 is used by the auto-grader. do not change this line!"
   ]
  },
  {
   "cell_type": "code",
   "execution_count": null,
   "id": "c002d56e",
   "metadata": {
    "deletable": false,
    "editable": false
   },
   "outputs": [],
   "source": [
    "grader.check(\"q3.3\")"
   ]
  },
  {
   "cell_type": "markdown",
   "id": "35e14b48",
   "metadata": {},
   "source": [
    "**Problem 3.4 (2 points).** Now, let's add another row to the table.  To do this, note that `df.loc[rownum]` returns a particular row of `df` according to the row label (index), and `len(df)` returns the current number of rows of `df`.  To add a new row to our example table from above:    "
   ]
  },
  {
   "cell_type": "code",
   "execution_count": null,
   "id": "27fe13c3",
   "metadata": {
    "deletable": false,
    "editable": false
   },
   "outputs": [],
   "source": [
    "df.loc[len(df)] = [ 10, 11, 12]\n",
    "df"
   ]
  },
  {
   "cell_type": "markdown",
   "id": "01687c5f",
   "metadata": {
    "deletable": false,
    "editable": false
   },
   "source": [
    "Your turn.  Suppose you have a second batch of 6 oranges priced at 0.99, add those to the end of the table `fruits`."
   ]
  },
  {
   "cell_type": "code",
   "execution_count": null,
   "id": "2723e268",
   "metadata": {
    "tags": []
   },
   "outputs": [],
   "source": [
    "...\n",
    "answer34 = fruits.copy() # answer34 is used by the auto-grader. do not change this line!"
   ]
  },
  {
   "cell_type": "code",
   "execution_count": null,
   "id": "2e649ecc",
   "metadata": {
    "deletable": false,
    "editable": false
   },
   "outputs": [],
   "source": [
    "grader.check(\"q3.4\")"
   ]
  },
  {
   "cell_type": "markdown",
   "id": "e278d36e",
   "metadata": {},
   "source": [
    "**Problem 3.5 (2 points).** Now let's change the price for just oranges.  First, lets get the rows that corresponds to oranges using **Boolean indexing** as covered in lecture.  Assign them to the variable `orange_rows`."
   ]
  },
  {
   "cell_type": "code",
   "execution_count": null,
   "id": "7811e35c",
   "metadata": {
    "tags": []
   },
   "outputs": [],
   "source": [
    "orange_rows = ...\n",
    "orange_rows"
   ]
  },
  {
   "cell_type": "code",
   "execution_count": null,
   "id": "f236f467",
   "metadata": {
    "deletable": false,
    "editable": false
   },
   "outputs": [],
   "source": [
    "grader.check(\"q3.5\")"
   ]
  },
  {
   "cell_type": "markdown",
   "id": "25feecf6",
   "metadata": {},
   "source": [
    "**Problem 3.6 (2 points).** You could also use **Boolean indexing** as covered in lecture to get all the rows that are not oranges.  Assign those rows to the variable `not_orange_rows`."
   ]
  },
  {
   "cell_type": "code",
   "execution_count": null,
   "id": "3a54d717",
   "metadata": {
    "tags": []
   },
   "outputs": [],
   "source": [
    "not_orange_rows = ...\n",
    "not_orange_rows"
   ]
  },
  {
   "cell_type": "code",
   "execution_count": null,
   "id": "24bc6d90",
   "metadata": {
    "deletable": false,
    "editable": false
   },
   "outputs": [],
   "source": [
    "grader.check(\"q3.6\")"
   ]
  },
  {
   "cell_type": "markdown",
   "id": "9f966324",
   "metadata": {},
   "source": [
    "**Problem 3.7 (2 points).** Okay, back to changing the price for oranges.  To do this, we need to set the value of particular cells.  We used `loc()` to add a new row; similarly, we can use `loc()` to assign cells from a particular column for our Boolean indexed rows.  Again, see the example for `df`: "
   ]
  },
  {
   "cell_type": "code",
   "execution_count": null,
   "id": "6b3edb2c",
   "metadata": {
    "deletable": false,
    "editable": false
   },
   "outputs": [],
   "source": [
    "df.loc[ df['name'] == 4, 'serial number' ] = 99\n",
    "df"
   ]
  },
  {
   "cell_type": "markdown",
   "id": "11ff224e",
   "metadata": {
    "deletable": false,
    "editable": false
   },
   "source": [
    "The above code is effectively \"For all the rows in which `name` equals 4, set the value for `serial number` to be 99.  Similarly, now you set the price in `fruits` for just oranges to 2.99 using Boolean indexing and `loc()`."
   ]
  },
  {
   "cell_type": "code",
   "execution_count": null,
   "id": "e2fe8eab",
   "metadata": {
    "tags": []
   },
   "outputs": [],
   "source": [
    "...\n",
    "fruits"
   ]
  },
  {
   "cell_type": "code",
   "execution_count": null,
   "id": "dafc7965",
   "metadata": {
    "deletable": false,
    "editable": false
   },
   "outputs": [],
   "source": [
    "grader.check(\"q3.7\")"
   ]
  },
  {
   "cell_type": "markdown",
   "id": "88479cfe",
   "metadata": {},
   "source": [
    "## Problem 4. R.O.U.S.es (20 points)\n",
    "**R**odents **O**f **U**nusual **S**ize are fabled to be one of the most fearsome creatures you might ever encounter, but accounts of their attributes vary widely.  Run the following code to load a table of all known data about R.O.U.S.es."
   ]
  },
  {
   "cell_type": "code",
   "execution_count": null,
   "id": "f3c0ca7b",
   "metadata": {},
   "outputs": [],
   "source": [
    "import pandas as pd\n",
    "import seaborn as sns\n",
    "rodents_of_unusual_size = pd.read_csv(\"ROUSes.csv\")\n",
    "rodents_of_unusual_size\n"
   ]
  },
  {
   "cell_type": "markdown",
   "id": "1e4c9f19",
   "metadata": {},
   "source": [
    "**Problem 4.1 (2 points).** How many attributes or different pieces of information have been measured for R.O.U.S.es?  Assign that number to `num_attributes`."
   ]
  },
  {
   "cell_type": "code",
   "execution_count": null,
   "id": "5aed879b",
   "metadata": {
    "tags": []
   },
   "outputs": [],
   "source": [
    "num_attributes = ...\n"
   ]
  },
  {
   "cell_type": "code",
   "execution_count": null,
   "id": "81820a79",
   "metadata": {
    "deletable": false,
    "editable": false
   },
   "outputs": [],
   "source": [
    "grader.check(\"q4.1\")"
   ]
  },
  {
   "cell_type": "markdown",
   "id": "f7c8a901",
   "metadata": {},
   "source": [
    "**Problem 4.2 (2 points).** One of the best ways to get a feel for data is to visualize it.  Using seaborn's `scatterplot()` function that you learned in class, draw a plot with `Age` on the x-axis, and `Length` on the y-axis."
   ]
  },
  {
   "cell_type": "code",
   "execution_count": null,
   "id": "9575387e",
   "metadata": {
    "tags": []
   },
   "outputs": [],
   "source": [
    "plt = ..."
   ]
  },
  {
   "cell_type": "markdown",
   "id": "f90dd065",
   "metadata": {},
   "source": [
    "**Problem 4.3 (2 points).** Draw another scatterplot of `Age` vs. `Weight`."
   ]
  },
  {
   "cell_type": "code",
   "execution_count": null,
   "id": "c4eb414e",
   "metadata": {
    "tags": []
   },
   "outputs": [],
   "source": [
    "plt = ..."
   ]
  },
  {
   "cell_type": "markdown",
   "id": "9ac815c5",
   "metadata": {},
   "source": [
    "**Problem 4.4 (2 points).** Finally, do one more scatterplot of `Length` vs. `Weight`."
   ]
  },
  {
   "cell_type": "code",
   "execution_count": null,
   "id": "3afd4d66",
   "metadata": {
    "tags": []
   },
   "outputs": [],
   "source": [
    "plt = ..."
   ]
  },
  {
   "cell_type": "markdown",
   "id": "3caf27ea",
   "metadata": {},
   "source": [
    "**Problem 4.5 (2 points).**  What general relationships, if any, do you see in the numeric data?  For example, do the data seem completely unrelated to each other?  Or is one attribute increasing proportionally to another, or is inversely proportional (i.e. decreases while the other one increases)?  Without enough data, sometimes it can be hard to see higher order relationships, like one attribute depending on the square of another, but maybe you can guess at one such a relationship in this data? No calculation needed."
   ]
  },
  {
   "cell_type": "markdown",
   "id": "59082a90",
   "metadata": {},
   "source": [
    "_Type your answer here, replacing this text._"
   ]
  },
  {
   "cell_type": "markdown",
   "id": "1a7cae16",
   "metadata": {},
   "source": [
    "**Problem 4.6 (2 points)** For non-numeric data, graphical visualization isn't as helpful, but sometimes sorting or grouping the data by an attribute can help.  Sort the data by `Age` and look at the data table again. No need to save or assign the modified table to a variable."
   ]
  },
  {
   "cell_type": "code",
   "execution_count": null,
   "id": "28635b96",
   "metadata": {
    "tags": []
   },
   "outputs": [],
   "source": [
    "..."
   ]
  },
  {
   "cell_type": "markdown",
   "id": "cd2569d3",
   "metadata": {},
   "source": [
    "**Problem 4.7 (2 points).**  With the data sorted by age, what trends do you see in the `Temperament`?  Are there any exceptions to the trends? No need to calculate anything."
   ]
  },
  {
   "cell_type": "markdown",
   "id": "998c3083",
   "metadata": {},
   "source": [
    "_Type your answer here, replacing this text._"
   ]
  },
  {
   "cell_type": "markdown",
   "id": "3f7d4a5c",
   "metadata": {},
   "source": [
    "**Problem 4.8 (3 points).** Some people report that real danger from R.O.U.S.es is that they are very uncoordinated and trip and fall onto people.  If `Weight` poses the biggest threat, on average what `Temperament` would be the most dangerous to run into?  Write a function `average_weight_by_temperament` that calculates the mean of the weight for each `Temperament`, and **print**s it along side the `Temperament`.  This function does not return anything.\n",
    "\n",
    "Hint: this is just like a problem we covered in lecture.\n",
    "\n",
    "This question is manually graded."
   ]
  },
  {
   "cell_type": "code",
   "execution_count": null,
   "id": "e123360c",
   "metadata": {
    "tags": []
   },
   "outputs": [],
   "source": [
    "def average_weight_by_temperament( df ):\n",
    "...\n",
    "average_weight_by_temperament( rodents_of_unusual_size )"
   ]
  },
  {
   "cell_type": "markdown",
   "id": "0405446b",
   "metadata": {},
   "source": [
    "**Problem 4.9 (2 points).**  Sometimes even a single data point can really change the statistics of a dataset, so it can be useful to examine such individual data points.  Which data point is most extreme in this dataset?  Is this data point still consistent with the general trends in the data?  Using mental math, if we removed this point, and recalculated the means, what effect would it have on the ordering of dangerousness?"
   ]
  },
  {
   "cell_type": "markdown",
   "id": "32affe8e",
   "metadata": {},
   "source": [
    "_Type your answer here, replacing this text._"
   ]
  },
  {
   "cell_type": "markdown",
   "id": "6b31c0b6",
   "metadata": {},
   "source": [
    "**Problem 4.10 (1 points).**  What key descriptor is missing from the data in the table that might help you decide if R.O.U.S.es (assuming they exist) pose a massive threat?  \n",
    "\n",
    "**Hint**: the answer we're looking for is not an additional column/new attribute."
   ]
  },
  {
   "cell_type": "markdown",
   "id": "3a0fc0b0",
   "metadata": {},
   "source": [
    "_Type your answer here, replacing this text._"
   ]
  },
  {
   "cell_type": "markdown",
   "id": "95d09f49",
   "metadata": {},
   "source": [
    "## Problem 5. (20 points). Burritos\n",
    "A certain Carolina student from DATA110 is visiting California for Fall Break this year, and they intend to use their newly-mastered Data Science skills to make sure they have some great burritos while they are there.  (Whereas the other DATA110 students just get this delightful homework problem out of the experience.)  The student found some data files with reviews and menu information for some California burrito restauraunts, but unfortunately the data was not nearly as clean as most of what they had dealt with in class, so they had to do some work on the data first."
   ]
  },
  {
   "cell_type": "markdown",
   "id": "a8aaec07",
   "metadata": {},
   "source": [
    "**Problem 5.1 (2 points).** Write the code to load the file \"ratings.csv\" into a DataFrame named `ratings`. In the next line, write the code to load the file \"burritos_types.csv\" into a DataFrame named `burritos_types`."
   ]
  },
  {
   "cell_type": "code",
   "execution_count": null,
   "id": "23db82bc",
   "metadata": {
    "tags": []
   },
   "outputs": [],
   "source": [
    "import pandas as pd\n",
    "pd.options.display.max_colwidth=15\n",
    "\n",
    "ratings = ...\n",
    "burritos_types = ...\n",
    "\n",
    "print(ratings)\n",
    "print()\n",
    "print(burritos_types)"
   ]
  },
  {
   "cell_type": "code",
   "execution_count": null,
   "id": "a8005f43",
   "metadata": {
    "deletable": false,
    "editable": false
   },
   "outputs": [],
   "source": [
    "grader.check(\"q5.1\")"
   ]
  },
  {
   "cell_type": "markdown",
   "id": "0e2f2728",
   "metadata": {},
   "source": [
    "**Problem 5.2 (1 points).** It would be easier to deal with just one table, so next you will combine the two tables above into a single table named `burritos`.  To do this, it helps to find an attribute that is common between the 2 tables.  What attribute is that for these tables?  "
   ]
  },
  {
   "cell_type": "code",
   "execution_count": null,
   "id": "1cde59ac",
   "metadata": {
    "tags": []
   },
   "outputs": [],
   "source": [
    "common_attribute = ...\n"
   ]
  },
  {
   "cell_type": "code",
   "execution_count": null,
   "id": "719094c2",
   "metadata": {
    "deletable": false,
    "editable": false
   },
   "outputs": [],
   "source": [
    "grader.check(\"q5.2\")"
   ]
  },
  {
   "cell_type": "markdown",
   "id": "ac11f0da",
   "metadata": {},
   "source": [
    "**Problem 5.3 (2 points).**  The student is only interested in restaurants that have both a rating and some menu information, so they want to combine the tables using what is called an \"inner join\".  Basically, for an inner join, the common attribute needs to appear in both tables.  There are other kinds of join, but inner join is one of the most useful.  The join() function syntax is a litte tricky, so here is code to do the join."
   ]
  },
  {
   "cell_type": "code",
   "execution_count": null,
   "id": "23229ee3",
   "metadata": {
    "deletable": false,
    "editable": false
   },
   "outputs": [],
   "source": [
    "burritos = burritos_types.join(ratings.set_index('Name'), on='Name', how='inner')\n",
    "burritos2 = ratings.join(burritos_types.set_index('Name'), on='Name', how='inner')\n",
    "print(burritos)\n",
    "print()\n",
    "print(burritos2)"
   ]
  },
  {
   "cell_type": "markdown",
   "id": "2c2b31ca",
   "metadata": {
    "deletable": false,
    "editable": false
   },
   "source": [
    "When joining 2 tables together, one table is actually \"joining\" the other, and the results are slightly different depending on which one you have join the other.  As you can see from the output above, the shape of the tables is the same, but the order of the attributes is different.  The attributes of the table that is joining come after the table it is joining (except for the common attribute, which is already in the first table).  By looking at the output above, What other difference do you notice in addition to attribute order?"
   ]
  },
  {
   "cell_type": "markdown",
   "id": "5d916fa3",
   "metadata": {
    "deletable": false,
    "editable": false
   },
   "source": [
    "_Type your answer here, replacing this text._"
   ]
  },
  {
   "cell_type": "markdown",
   "id": "72b6b1cb",
   "metadata": {
    "deletable": false,
    "editable": false
   },
   "source": [
    "**Problem 5.4 (2 points).** The student decides to use `burritos` for the rest of their analysis.  Write code to calculate average cost of items in the table `burritos` rounded to the nearest cent?"
   ]
  },
  {
   "cell_type": "code",
   "execution_count": null,
   "id": "440f319d",
   "metadata": {
    "tags": []
   },
   "outputs": [],
   "source": [
    "average_cost = ...\n"
   ]
  },
  {
   "cell_type": "code",
   "execution_count": null,
   "id": "fdc3a4a6",
   "metadata": {
    "deletable": false,
    "editable": false
   },
   "outputs": [],
   "source": [
    "grader.check(\"q5.4\")"
   ]
  },
  {
   "cell_type": "markdown",
   "id": "fd3d4d5a",
   "metadata": {},
   "source": [
    "**Problem 5.5 (2 points).** Make a new table called `top_rated_burritos` that is just like `burritos` but only includes entries that have a Google rating >= 4.7."
   ]
  },
  {
   "cell_type": "code",
   "execution_count": null,
   "id": "2f2cdf33",
   "metadata": {
    "tags": []
   },
   "outputs": [],
   "source": [
    "top_rated_burritos = ...\n",
    "print(top_rated_burritos)\n",
    "\n"
   ]
  },
  {
   "cell_type": "code",
   "execution_count": null,
   "id": "5298ef75",
   "metadata": {
    "deletable": false,
    "editable": false
   },
   "outputs": [],
   "source": [
    "grader.check(\"q5.5\")"
   ]
  },
  {
   "cell_type": "markdown",
   "id": "212e3c00",
   "metadata": {},
   "source": [
    "**Problem 5.6 (2 points).** Write pandas code to compute the average cost of items entries that have a Google rating >= 4.7, again rounded to the nearest cent."
   ]
  },
  {
   "cell_type": "code",
   "execution_count": null,
   "id": "f2e89fc7",
   "metadata": {
    "tags": []
   },
   "outputs": [],
   "source": [
    "average_cost_top_rated = ...\n",
    "print(average_cost_top_rated)\n",
    "\n"
   ]
  },
  {
   "cell_type": "code",
   "execution_count": null,
   "id": "f138408b",
   "metadata": {
    "deletable": false,
    "editable": false
   },
   "outputs": [],
   "source": [
    "grader.check(\"q5.6\")"
   ]
  },
  {
   "cell_type": "code",
   "execution_count": null,
   "id": "c0cf4ac2",
   "metadata": {},
   "outputs": [],
   "source": [
    "print(round(average_cost_top_rated-average_cost,2))"
   ]
  },
  {
   "cell_type": "markdown",
   "id": "8a409f21",
   "metadata": {},
   "source": [
    "**Problem 5.7 (2 points).** Only 62 cents more for a great burrito instead of an average one...count me in!  But then the student realized, not all the items are the kind of burrito that they like, or even burritos at all!  In particular, the student likes California burritos, which just have a menu name containing the word `California`.  To make sure there are enough choices, the student also decides to lower their standards a little on the rating requirement.  Write code to calculate how many California burrito options there are that have a Google rating >= 4.5.\n",
    "\n",
    "**Hint**: First figure out how to check if a word is in a string (there are several ways to do this). Take a look at [https://pandas.pydata.org/docs/reference/api/pandas.Series.str.find.html](https://pandas.pydata.org/docs/reference/api/pandas.Series.str.find.html) for one such way.\n",
    "\n",
    "**Hint**: Your answer does not have to be in a single ine of code."
   ]
  },
  {
   "cell_type": "code",
   "execution_count": null,
   "id": "18674cfd",
   "metadata": {
    "tags": []
   },
   "outputs": [],
   "source": [
    "top_rated_Califoria_count = ...\n",
    "print(top_rated_Califoria_count)"
   ]
  },
  {
   "cell_type": "code",
   "execution_count": null,
   "id": "22c4b735",
   "metadata": {
    "deletable": false,
    "editable": false
   },
   "outputs": [],
   "source": [
    "grader.check(\"q5.7\")"
   ]
  },
  {
   "cell_type": "markdown",
   "id": "8c1a1072",
   "metadata": {},
   "source": [
    "**Problem 5.8 (2 points).** Okay, that is a nice number of options. But now the student starts to question whether they should be trusting Google for the reviews.  They decide it would be good to see a how Yelp reviews compare to Google reviews, so they decide to make a scatter plot with Yelp scores on the x-axis and Google scores on the y-axis.   Write the code to do this for the table `burritos`.  (We've also plotted a line to help with the next question.) "
   ]
  },
  {
   "cell_type": "code",
   "execution_count": null,
   "id": "9a86cca9",
   "metadata": {
    "tags": []
   },
   "outputs": [],
   "source": [
    "plt = ...\n",
    "plot_line( [2,2], [5,5])"
   ]
  },
  {
   "cell_type": "markdown",
   "id": "03070be0",
   "metadata": {},
   "source": [
    "**Problem 5.9 (1 points).** What do you notice about how the ratings compare?  For example, is one generally lower than the other?  Does one have more precision than the other?   "
   ]
  },
  {
   "cell_type": "markdown",
   "id": "6439c207",
   "metadata": {},
   "source": [
    "_Type your answer here, replacing this text._"
   ]
  },
  {
   "cell_type": "markdown",
   "id": "37bb3f9e",
   "metadata": {},
   "source": [
    "**Problem 5.10 (1 points).** Now, feeling confident in their analysis, the student feels they are armed with the knowledge they will need to have a great burrito experience.  But when their DATA110 professor finds out about what they've been working on, the professor asks them to clean up the data even more so it can be used for future DATA110 classes.  First, they ask the student to make a new table `burritos_compact` that removes the confusing 'Unnamed: 0' attribute.  Write the code below."
   ]
  },
  {
   "cell_type": "code",
   "execution_count": null,
   "id": "1b8c0cf6",
   "metadata": {
    "tags": []
   },
   "outputs": [],
   "source": [
    "burritos_compact = ...\n",
    "print( burritos_compact)"
   ]
  },
  {
   "cell_type": "code",
   "execution_count": null,
   "id": "5e6f5e06",
   "metadata": {
    "deletable": false,
    "editable": false
   },
   "outputs": [],
   "source": [
    "grader.check(\"q5.10\")"
   ]
  },
  {
   "cell_type": "markdown",
   "id": "9ebc6a6d",
   "metadata": {},
   "source": [
    "**Problem 5.11 (2 points).** And finally, the professor asks the student to make a new table named `burritos_extravalue` from a copy of `burritos_compact`, and adds one extra attribute.  The attribute should be named `'Value'` which is 100.0 times the Google rating for a restaurant divided by the item cost, rounded to the nearest integer.  Write the code for `burritos_extravalue` below."
   ]
  },
  {
   "cell_type": "code",
   "execution_count": null,
   "id": "8638c56d",
   "metadata": {
    "tags": []
   },
   "outputs": [],
   "source": [
    "burritos_extravalue = burritos_compact.copy()\n",
    "...\n",
    "print(burritos_extravalue)"
   ]
  },
  {
   "cell_type": "code",
   "execution_count": null,
   "id": "4e6fc2d6",
   "metadata": {
    "deletable": false,
    "editable": false
   },
   "outputs": [],
   "source": [
    "grader.check(\"q5.11\")"
   ]
  },
  {
   "cell_type": "markdown",
   "id": "75ccbdf0",
   "metadata": {},
   "source": [
    "**Extra credit (1 points).** When you create `burritos_extravalue`, can you make the data in the `Value` attribute be of type `int` rather than type `float`?"
   ]
  },
  {
   "cell_type": "code",
   "execution_count": null,
   "id": "5ec915dd",
   "metadata": {
    "tags": []
   },
   "outputs": [],
   "source": [
    "burritos_extravalue = burritos_compact.copy()\n",
    "...\n",
    "print(burritos_extravalue)"
   ]
  },
  {
   "cell_type": "markdown",
   "id": "437f8caa",
   "metadata": {
    "deletable": false,
    "editable": false
   },
   "source": [
    "## Submission\n",
    "\n",
    "Make sure you have run all cells in your notebook in order before running the cell below, so that all images/graphs appear in the output. The cell below will generate a zip file for you to submit. **Please save before exporting!**\n",
    "\n",
    "Submit zip file and PDF to Gradescope Homework2"
   ]
  },
  {
   "cell_type": "code",
   "execution_count": null,
   "id": "2b03dba3",
   "metadata": {
    "deletable": false,
    "editable": false
   },
   "outputs": [],
   "source": [
    "# Save your notebook first, then run this cell to export your submission.\n",
    "grader.export(pdf=False, run_tests=True)"
   ]
  },
  {
   "cell_type": "markdown",
   "id": "797640e5",
   "metadata": {},
   "source": [
    " "
   ]
  }
 ],
 "metadata": {
  "kernelspec": {
   "display_name": "Python 3 (ipykernel)",
   "language": "python",
   "name": "python3"
  },
  "language_info": {
   "codemirror_mode": {
    "name": "ipython",
    "version": 3
   },
   "file_extension": ".py",
   "mimetype": "text/x-python",
   "name": "python",
   "nbconvert_exporter": "python",
   "pygments_lexer": "ipython3",
   "version": "3.11.8"
  },
  "otter": {
   "OK_FORMAT": true,
   "tests": {
    "q1.1": {
     "name": "q1.1",
     "points": 1,
     "suites": [
      {
       "cases": [
        {
         "code": ">>> assert start_off_easy == 4.5\n",
         "hidden": false,
         "locked": false
        }
       ],
       "scored": true,
       "setup": "",
       "teardown": "",
       "type": "doctest"
      }
     ]
    },
    "q1.10": {
     "name": "q1.10",
     "points": 2,
     "suites": [
      {
       "cases": [
        {
         "code": ">>> assert fun_game(60) == 'bizz'\n>>> assert fun_game(140) == 'buzz'\n>>> assert fun_game(210) == 'bizz'\n>>> assert fun_game(500) == 'boring'\n",
         "hidden": false,
         "locked": false
        }
       ],
       "scored": true,
       "setup": "",
       "teardown": "",
       "type": "doctest"
      }
     ]
    },
    "q1.11": {
     "name": "q1.11",
     "points": 1,
     "suites": [
      {
       "cases": [
        {
         "code": ">>> assert funner_game(60) == 'bizz'\n>>> assert funner_game(140) == 'buzz'\n>>> assert funner_game(210) == 'bizzbuzz'\n>>> assert funner_game(500) == 'boring'\n",
         "hidden": false,
         "locked": false
        }
       ],
       "scored": true,
       "setup": "",
       "teardown": "",
       "type": "doctest"
      }
     ]
    },
    "q1.2": {
     "name": "q1.2",
     "points": 1,
     "suites": [
      {
       "cases": [
        {
         "code": ">>> assert x == 5\n>>> assert y == 5\n>>> assert z == 10\n",
         "hidden": false,
         "locked": false
        }
       ],
       "scored": true,
       "setup": "",
       "teardown": "",
       "type": "doctest"
      }
     ]
    },
    "q1.3": {
     "name": "q1.3",
     "points": 1,
     "suites": [
      {
       "cases": [
        {
         "code": ">>> assert my_stuff == [5, 'pencil', -4.2]\n",
         "hidden": false,
         "locked": false
        }
       ],
       "scored": true,
       "setup": "",
       "teardown": "",
       "type": "doctest"
      }
     ]
    },
    "q1.4": {
     "name": "q1.4",
     "points": 1,
     "suites": [
      {
       "cases": [
        {
         "code": ">>> assert type(bizz) == range\n>>> assert len(bizz) == 4\n>>> assert bizz[0] == 3\n>>> assert bizz[1] == 6\n>>> assert bizz[2] == 9\n>>> assert bizz[3] == 12\n",
         "hidden": false,
         "locked": false
        }
       ],
       "scored": true,
       "setup": "",
       "teardown": "",
       "type": "doctest"
      }
     ]
    },
    "q1.5": {
     "name": "q1.5",
     "points": 1,
     "suites": [
      {
       "cases": [
        {
         "code": ">>> assert test_func_prob15(['Whiskers', 'on', 'kittens']) == 'kittens'\n",
         "hidden": false,
         "locked": false
        }
       ],
       "scored": true,
       "setup": "",
       "teardown": "",
       "type": "doctest"
      }
     ]
    },
    "q1.6": {
     "name": "q1.6",
     "points": 2,
     "suites": [
      {
       "cases": [
        {
         "code": ">>> assert take_away(10, 6) == 4\n>>> assert take_away(20, 16) == 4\n",
         "hidden": false,
         "locked": false
        }
       ],
       "scored": true,
       "setup": "",
       "teardown": "",
       "type": "doctest"
      }
     ]
    },
    "q1.7": {
     "name": "q1.7",
     "points": 2,
     "suites": [
      {
       "cases": [
        {
         "code": ">>> assert test_positive(10) == True\n>>> assert test_positive(-3) == False\n>>> assert test_positive(0) == False\n",
         "hidden": false,
         "locked": false
        }
       ],
       "scored": true,
       "setup": "",
       "teardown": "",
       "type": "doctest"
      }
     ]
    },
    "q1.8": {
     "name": "q1.8",
     "points": 2,
     "suites": [
      {
       "cases": [
        {
         "code": ">>> assert test_func_prob18(['Whiskers', 'on', 'kittens']) == 3\n>>> assert test_func_prob18([]) == 0\n",
         "hidden": false,
         "locked": false
        }
       ],
       "scored": true,
       "setup": "",
       "teardown": "",
       "type": "doctest"
      }
     ]
    },
    "q1.9": {
     "name": "q1.9",
     "points": 2,
     "suites": [
      {
       "cases": [
        {
         "code": ">>> assert test_func_prob19(['Whiskers', 'on', 'kittens']) == 'on'\n>>> assert test_func_prob19(['Whiskers', 'on']) == 'Whiskers'\n",
         "hidden": false,
         "locked": false
        }
       ],
       "scored": true,
       "setup": "",
       "teardown": "",
       "type": "doctest"
      }
     ]
    },
    "q2.1": {
     "name": "q2.1",
     "points": 1,
     "suites": [
      {
       "cases": [
        {
         "code": ">>> assert square([25, 29, 30]) == [625, 841, 900]\n",
         "hidden": false,
         "locked": false
        }
       ],
       "scored": true,
       "setup": "",
       "teardown": "",
       "type": "doctest"
      }
     ]
    },
    "q2.10": {
     "name": "q2.10",
     "points": 1,
     "suites": [
      {
       "cases": [
        {
         "code": ">>> assert best_distance3(start, stops, end) == 19\n",
         "hidden": false,
         "locked": false
        }
       ],
       "scored": true,
       "setup": "",
       "teardown": "",
       "type": "doctest"
      }
     ]
    },
    "q2.2": {
     "name": "q2.2",
     "points": 2,
     "suites": [
      {
       "cases": [
        {
         "code": ">>> assert compute_power([23, 28, 20]) == [529, 784, 400]\n>>> assert compute_power([-2, 28, 20], 5) == [-32, 17210368, 3200000]\n",
         "hidden": false,
         "locked": false
        }
       ],
       "scored": true,
       "setup": "",
       "teardown": "",
       "type": "doctest"
      }
     ]
    },
    "q2.3": {
     "name": "q2.3",
     "points": 3,
     "suites": [
      {
       "cases": [
        {
         "code": ">>> assert Euclidean_distance([2, 1], [5, 5]) == math.sqrt((2 - 5) ** 2 + (1 - 5) ** 2)\n>>> assert Euclidean_distance([22, 10], [-2, 3]) == math.sqrt((22 + 2) ** 2 + (10 - 3) ** 2)\n>>> assert Euclidean_distance([-2, 3.2], [2.8, -3.9]) == math.sqrt((-2 - 2.8) ** 2 + (3.2 + 3.9) ** 2)\n",
         "hidden": false,
         "locked": false
        }
       ],
       "scored": true,
       "setup": "",
       "teardown": "",
       "type": "doctest"
      }
     ]
    },
    "q2.4": {
     "name": "q2.4",
     "points": 3,
     "suites": [
      {
       "cases": [
        {
         "code": ">>> assert lyft_distance([4, 5], [-2, -6]) == abs(4 + 2) + abs(5 + 6)\n>>> assert lyft_distance([2.1, -1.98], [3, 2]) == abs(2.1 - 3) + abs(-1.98 - 2)\n",
         "hidden": false,
         "locked": false
        }
       ],
       "scored": true,
       "setup": "",
       "teardown": "",
       "type": "doctest"
      }
     ]
    },
    "q2.5": {
     "name": "q2.5",
     "points": 4,
     "suites": [
      {
       "cases": [
        {
         "code": ">>> assert trip_cost([-2, -6], [4, 5]) == 'The cost of the trip will be $6.80.'\n>>> assert trip_cost([3, 98], [2, -1.3]) == 'The cost of the trip will be $40.12.'\n",
         "hidden": false,
         "locked": false
        }
       ],
       "scored": true,
       "setup": "",
       "teardown": "",
       "type": "doctest"
      }
     ]
    },
    "q2.6": {
     "name": "q2.6",
     "points": 5,
     "suites": [
      {
       "cases": [
        {
         "code": ">>> assert calculate_distance([1, 3], [6, 1]) == 7\n>>> assert calculate_distance([1, 3], [6, 1], 'Euclidean') == math.sqrt(29)\n",
         "hidden": false,
         "locked": false
        }
       ],
       "scored": true,
       "setup": "",
       "teardown": "",
       "type": "doctest"
      }
     ]
    },
    "q2.7": {
     "name": "q2.7",
     "points": 5,
     "suites": [
      {
       "cases": [
        {
         "code": ">>> assert simple_route3(start, stops, end) == 23\n>>> assert simple_route3([4, 3], [[3, 6], [4, 4], [3, 3]], [2, 2]) == 11\n",
         "hidden": false,
         "locked": false
        }
       ],
       "scored": true,
       "setup": "",
       "teardown": "",
       "type": "doctest"
      }
     ]
    },
    "q2.8": {
     "name": "q2.8",
     "points": 1,
     "suites": [
      {
       "cases": [
        {
         "code": ">>> assert len(stops) == 3\n>>> perms = list_of_perms3(stops)\n>>> assert len(perms) == 6\n>>> assert [stops[1], stops[0], stops[2]] in perms\n>>> assert [stops[1], stops[2], stops[0]] in perms\n>>> assert [stops[2], stops[0], stops[1]] in perms\n>>> assert [stops[2], stops[1], stops[0]] in perms\n",
         "hidden": false,
         "locked": false
        }
       ],
       "scored": true,
       "setup": "",
       "teardown": "",
       "type": "doctest"
      }
     ]
    },
    "q2.9": {
     "name": "q2.9",
     "points": 5,
     "suites": [
      {
       "cases": [
        {
         "code": ">>> assert best_route3(start, stops, end) == [stops[0], stops[2], stops[1]]\n",
         "hidden": false,
         "locked": false
        }
       ],
       "scored": true,
       "setup": "",
       "teardown": "",
       "type": "doctest"
      }
     ]
    },
    "q3.1": {
     "name": "q3.1",
     "points": 3,
     "suites": [
      {
       "cases": [
        {
         "code": ">>> assert answer31.equals(pd.DataFrame([['apple', 4], ['orange', 3], ['pineapple', 3]], columns=['Fruit name', 'Amount'])) == True\n",
         "hidden": false,
         "locked": false
        }
       ],
       "scored": true,
       "setup": "",
       "teardown": "",
       "type": "doctest"
      }
     ]
    },
    "q3.2": {
     "name": "q3.2",
     "points": 2,
     "suites": [
      {
       "cases": [
        {
         "code": ">>> assert pieces_of_fruit == 10\n",
         "hidden": false,
         "locked": false
        }
       ],
       "scored": true,
       "setup": "",
       "teardown": "",
       "type": "doctest"
      }
     ]
    },
    "q3.3": {
     "name": "q3.3",
     "points": 2,
     "suites": [
      {
       "cases": [
        {
         "code": ">>> assert answer33.equals(pd.DataFrame([['apple', 4, 0.99], ['orange', 3, 0.99], ['pineapple', 3, 0.99]], columns=['Fruit name', 'Amount', 'Price']))\n",
         "hidden": false,
         "locked": false
        }
       ],
       "scored": true,
       "setup": "",
       "teardown": "",
       "type": "doctest"
      }
     ]
    },
    "q3.4": {
     "name": "q3.4",
     "points": 2,
     "suites": [
      {
       "cases": [
        {
         "code": ">>> assert answer34.equals(pd.DataFrame([['apple', 4, 0.99], ['orange', 3, 0.99], ['pineapple', 3, 0.99], ['orange', 6, 0.99]], columns=['Fruit name', 'Amount', 'Price']))\n",
         "hidden": false,
         "locked": false
        }
       ],
       "scored": true,
       "setup": "",
       "teardown": "",
       "type": "doctest"
      }
     ]
    },
    "q3.5": {
     "name": "q3.5",
     "points": 2,
     "suites": [
      {
       "cases": [
        {
         "code": ">>> assert orange_rows.equals(answer34[answer34['Fruit name'] == 'orange'])\n",
         "hidden": false,
         "locked": false
        }
       ],
       "scored": true,
       "setup": "",
       "teardown": "",
       "type": "doctest"
      }
     ]
    },
    "q3.6": {
     "name": "q3.6",
     "points": 2,
     "suites": [
      {
       "cases": [
        {
         "code": ">>> assert not_orange_rows.equals(answer34[answer34['Fruit name'] != 'orange'])\n",
         "hidden": false,
         "locked": false
        }
       ],
       "scored": true,
       "setup": "",
       "teardown": "",
       "type": "doctest"
      }
     ]
    },
    "q3.7": {
     "name": "q3.7",
     "points": 2,
     "suites": [
      {
       "cases": [
        {
         "code": ">>> assert fruits.equals(pd.DataFrame([['apple', 4, 0.99], ['orange', 3, 2.99], ['pineapple', 3, 0.99], ['orange', 6, 2.99]], columns=['Fruit name', 'Amount', 'Price']))\n",
         "hidden": false,
         "locked": false
        }
       ],
       "scored": true,
       "setup": "",
       "teardown": "",
       "type": "doctest"
      }
     ]
    },
    "q4.1": {
     "name": "q4.1",
     "points": 2,
     "suites": [
      {
       "cases": [
        {
         "code": ">>> assert num_attributes == 4\n>>> assert rodents_of_unusual_size.shape[0] > 0\n",
         "hidden": false,
         "locked": false
        }
       ],
       "scored": true,
       "setup": "",
       "teardown": "",
       "type": "doctest"
      }
     ]
    },
    "q5.1": {
     "name": "q5.1",
     "points": 2,
     "suites": [
      {
       "cases": [
        {
         "code": ">>> assert ratings.shape == (82, 4)\n>>> assert burritos_types.shape == (249, 4)\n",
         "hidden": false,
         "locked": false
        }
       ],
       "scored": true,
       "setup": "",
       "teardown": "",
       "type": "doctest"
      }
     ]
    },
    "q5.10": {
     "name": "q5.10",
     "points": 1,
     "suites": [
      {
       "cases": [
        {
         "code": ">>> assert burritos_compact.shape == (212, 6)\n",
         "hidden": false,
         "locked": false
        }
       ],
       "scored": true,
       "setup": "",
       "teardown": "",
       "type": "doctest"
      }
     ]
    },
    "q5.11": {
     "name": "q5.11",
     "points": 2,
     "suites": [
      {
       "cases": [
        {
         "code": ">>> assert burritos_extravalue.iloc[0, 6] == 68\n>>> assert burritos_extravalue.iloc[2, 6] == 65\n",
         "hidden": false,
         "locked": false
        }
       ],
       "scored": true,
       "setup": "",
       "teardown": "",
       "type": "doctest"
      }
     ]
    },
    "q5.12": {
     "name": "q5.12",
     "points": 1,
     "suites": [
      {
       "cases": [
        {
         "code": ">>> import numpy as np\n>>> assert type(burritos_extravalue.iloc[2, 6]) == np.int64 or type(burritos_extravalue.iloc[2, 6]) == int\n",
         "hidden": false,
         "locked": false
        }
       ],
       "scored": true,
       "setup": "",
       "teardown": "",
       "type": "doctest"
      }
     ]
    },
    "q5.2": {
     "name": "q5.2",
     "points": 1,
     "suites": [
      {
       "cases": [
        {
         "code": ">>> assert common_attribute == 'Name'\n",
         "hidden": false,
         "locked": false
        }
       ],
       "scored": true,
       "setup": "",
       "teardown": "",
       "type": "doctest"
      }
     ]
    },
    "q5.4": {
     "name": "q5.4",
     "points": 2,
     "suites": [
      {
       "cases": [
        {
         "code": ">>> assert average_cost == 6.89\n",
         "hidden": false,
         "locked": false
        }
       ],
       "scored": true,
       "setup": "",
       "teardown": "",
       "type": "doctest"
      }
     ]
    },
    "q5.5": {
     "name": "q5.5",
     "points": 2,
     "suites": [
      {
       "cases": [
        {
         "code": ">>> assert top_rated_burritos.shape == (14, 7)\n",
         "hidden": false,
         "locked": false
        }
       ],
       "scored": true,
       "setup": "",
       "teardown": "",
       "type": "doctest"
      }
     ]
    },
    "q5.6": {
     "name": "q5.6",
     "points": 2,
     "suites": [
      {
       "cases": [
        {
         "code": ">>> assert average_cost_top_rated == 7.51\n",
         "hidden": false,
         "locked": false
        }
       ],
       "scored": true,
       "setup": "",
       "teardown": "",
       "type": "doctest"
      }
     ]
    },
    "q5.7": {
     "name": "q5.7",
     "points": 3,
     "suites": [
      {
       "cases": [
        {
         "code": ">>> assert top_rated_Califoria_count == 12\n",
         "hidden": false,
         "locked": false
        }
       ],
       "scored": true,
       "setup": "",
       "teardown": "",
       "type": "doctest"
      }
     ]
    }
   }
  }
 },
 "nbformat": 4,
 "nbformat_minor": 5
}
