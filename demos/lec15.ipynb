{
 "cells": [
  {
   "cell_type": "code",
   "execution_count": 176,
   "id": "9b481d4e-4ccd-4bb2-8ace-2250129518a3",
   "metadata": {},
   "outputs": [],
   "source": [
    "import seaborn as sns\n",
    "import pandas as pd\n",
    "import random"
   ]
  },
  {
   "cell_type": "code",
   "execution_count": null,
   "id": "9f109075",
   "metadata": {},
   "outputs": [],
   "source": [
    "random.choice(['H','T'])"
   ]
  },
  {
   "cell_type": "code",
   "execution_count": null,
   "id": "270eda32",
   "metadata": {},
   "outputs": [],
   "source": [
    "random.choices(['H','T'],k=10)"
   ]
  },
  {
   "cell_type": "code",
   "execution_count": null,
   "id": "ccc484a7",
   "metadata": {},
   "outputs": [],
   "source": [
    "sns.histplot(random.choices(['H','T'],k=10))"
   ]
  },
  {
   "cell_type": "code",
   "execution_count": null,
   "id": "4bd10cca",
   "metadata": {},
   "outputs": [],
   "source": [
    "sns.histplot(random.choices(['H','T'],k=10000))"
   ]
  },
  {
   "cell_type": "code",
   "execution_count": null,
   "id": "a5747490",
   "metadata": {},
   "outputs": [],
   "source": [
    "random.choices(range(1,40),k=20) # with replacement"
   ]
  },
  {
   "cell_type": "code",
   "execution_count": null,
   "id": "be8e0fe1",
   "metadata": {},
   "outputs": [],
   "source": [
    "random.sample(range(1,40),k=20) # without replacement"
   ]
  },
  {
   "cell_type": "code",
   "execution_count": 85,
   "id": "5fae591f",
   "metadata": {},
   "outputs": [],
   "source": [
    "draft  = pd.read_csv('../data/draft70yr.csv')"
   ]
  },
  {
   "cell_type": "code",
   "execution_count": null,
   "id": "6b668ed0",
   "metadata": {},
   "outputs": [],
   "source": [
    "draft"
   ]
  },
  {
   "cell_type": "code",
   "execution_count": null,
   "id": "4b9ba668",
   "metadata": {},
   "outputs": [],
   "source": [
    "sns.scatterplot(draft['Pick'])"
   ]
  },
  {
   "cell_type": "code",
   "execution_count": null,
   "id": "be9e29a2",
   "metadata": {},
   "outputs": [],
   "source": [
    "draft['Pick'].mean()"
   ]
  },
  {
   "cell_type": "code",
   "execution_count": null,
   "id": "d730c841-c821-4dff-bb86-ebae66649d7e",
   "metadata": {},
   "outputs": [],
   "source": [
    "draft['Pick'].head(180).mean()\n"
   ]
  },
  {
   "cell_type": "code",
   "execution_count": null,
   "id": "f9796e99",
   "metadata": {},
   "outputs": [],
   "source": [
    "draft['Pick'].tail(180).mean()"
   ]
  },
  {
   "cell_type": "code",
   "execution_count": null,
   "id": "f2b0cc6d",
   "metadata": {},
   "outputs": [],
   "source": [
    "draft['Pick'].head(90).mean()"
   ]
  },
  {
   "cell_type": "code",
   "execution_count": null,
   "id": "10b47bda",
   "metadata": {},
   "outputs": [],
   "source": [
    "draft['Pick'].tail(90).mean()"
   ]
  },
  {
   "cell_type": "code",
   "execution_count": null,
   "id": "e2ecead7-9264-41d1-897d-004c60554578",
   "metadata": {},
   "outputs": [],
   "source": [
    "draft['Pick'].head(31).mean()\n"
   ]
  },
  {
   "cell_type": "code",
   "execution_count": null,
   "id": "acd3b2b3",
   "metadata": {},
   "outputs": [],
   "source": [
    "draft['Pick'].tail(31).mean()"
   ]
  },
  {
   "cell_type": "code",
   "execution_count": 40,
   "id": "f883e3c1",
   "metadata": {},
   "outputs": [],
   "source": [
    "month_data=draft.groupby('Month').mean()"
   ]
  },
  {
   "cell_type": "code",
   "execution_count": null,
   "id": "ec07a380",
   "metadata": {},
   "outputs": [],
   "source": [
    "sns.barplot(month_data.Pick)"
   ]
  },
  {
   "cell_type": "code",
   "execution_count": null,
   "id": "f595ef51",
   "metadata": {},
   "outputs": [],
   "source": [
    "draft['Pick is in first 20']=draft['Pick']<=20\n",
    "month_data=draft.groupby('Month').mean()\n",
    "month_data"
   ]
  },
  {
   "cell_type": "code",
   "execution_count": null,
   "id": "48ec08d8",
   "metadata": {},
   "outputs": [],
   "source": [
    "sns.barplot(month_data['Pick is in first 20'])"
   ]
  },
  {
   "cell_type": "code",
   "execution_count": null,
   "id": "392b7d04",
   "metadata": {},
   "outputs": [],
   "source": [
    "draft['Pick']=random.sample(range(1,367),366)\n",
    "month_data = draft.groupby('Month').mean()\n",
    "sns.barplot(month_data['Pick'])"
   ]
  },
  {
   "cell_type": "code",
   "execution_count": null,
   "id": "d2aa5fc1-0922-41f0-b581-61f408768163",
   "metadata": {},
   "outputs": [],
   "source": [
    "penguins = pd.read_csv('../data/palmer_penguins.csv')\n",
    "penguins"
   ]
  },
  {
   "cell_type": "code",
   "execution_count": null,
   "id": "fb7bcee5",
   "metadata": {},
   "outputs": [],
   "source": [
    "penguins.sample()"
   ]
  },
  {
   "cell_type": "code",
   "execution_count": null,
   "id": "09f2c698",
   "metadata": {},
   "outputs": [],
   "source": [
    "penguins.sample(10)"
   ]
  },
  {
   "cell_type": "code",
   "execution_count": null,
   "id": "7b7a5b09",
   "metadata": {},
   "outputs": [],
   "source": [
    "penguins.sample(10, ignore_index=True)"
   ]
  },
  {
   "cell_type": "code",
   "execution_count": null,
   "id": "3d7ca3f2",
   "metadata": {},
   "outputs": [],
   "source": [
    "penguins.sample(frac=0.1, ignore_index=True)"
   ]
  },
  {
   "cell_type": "code",
   "execution_count": null,
   "id": "7967b641",
   "metadata": {},
   "outputs": [],
   "source": [
    "penguins.sample(10)"
   ]
  },
  {
   "cell_type": "code",
   "execution_count": null,
   "id": "9df9ee5b",
   "metadata": {},
   "outputs": [],
   "source": [
    "penguins.sample(10, random_state=13)"
   ]
  },
  {
   "cell_type": "code",
   "execution_count": null,
   "id": "f856e003",
   "metadata": {},
   "outputs": [],
   "source": [
    "penguins.sample(10, random_state=13, replace=True)"
   ]
  },
  {
   "cell_type": "code",
   "execution_count": null,
   "id": "1874902c",
   "metadata": {},
   "outputs": [],
   "source": [
    "penguins.sample(10)"
   ]
  },
  {
   "cell_type": "code",
   "execution_count": null,
   "id": "7f6640b7",
   "metadata": {},
   "outputs": [],
   "source": [
    "penguins.head(10)"
   ]
  }
 ],
 "metadata": {
  "kernelspec": {
   "display_name": "Python 3 (ipykernel)",
   "language": "python",
   "name": "python3"
  },
  "language_info": {
   "codemirror_mode": {
    "name": "ipython",
    "version": 3
   },
   "file_extension": ".py",
   "mimetype": "text/x-python",
   "name": "python",
   "nbconvert_exporter": "python",
   "pygments_lexer": "ipython3",
   "version": "3.12.7"
  }
 },
 "nbformat": 4,
 "nbformat_minor": 5
}
