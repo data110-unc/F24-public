{
 "cells": [
  {
   "cell_type": "code",
   "execution_count": 1,
   "id": "cf55d4e4-a6fc-49d2-9b4e-fa435bd69ae3",
   "metadata": {},
   "outputs": [],
   "source": [
    "import random \n",
    "import pandas as pd\n",
    "import seaborn as sns\n",
    "import matplotlib.pyplot as plt"
   ]
  },
  {
   "cell_type": "code",
   "execution_count": 2,
   "id": "e0ba4a92-e223-4f71-bc9e-85ca89c6bf30",
   "metadata": {},
   "outputs": [],
   "source": [
    "def sample_coin(k): \n",
    "    flips = random.choices(['H', 'T'], k=k) \n",
    "    # This is sampling from uniform distribution\n",
    "    return flips"
   ]
  },
  {
   "cell_type": "code",
   "execution_count": 3,
   "id": "6d48e5e5-a3a5-4209-9876-0ef24d71302f",
   "metadata": {},
   "outputs": [],
   "source": [
    "def sample_dice(k):\n",
    "    rolls = random.choices([1, 2, 3, 4, 5, 6], k=k)\n",
    "    return rolls"
   ]
  },
  {
   "cell_type": "code",
   "execution_count": 4,
   "id": "ecda3d6b-ac86-4cbf-947e-3cb069b4fd55",
   "metadata": {},
   "outputs": [],
   "source": [
    "def sample_bus(n):\n",
    "    times = []\n",
    "    for bus in range(n):\n",
    "        t = random.uniform(0, 10)\n",
    "        times.append(t)\n",
    "    return times"
   ]
  },
  {
   "cell_type": "markdown",
   "id": "8c65fb2f-d105-4fce-9fbe-68831f6f5a40",
   "metadata": {},
   "source": [
    "# Hypothesis test\n",
    "\n",
    "(a)\n",
    "\n",
    "Null hypothesis: The coin is fair.\n",
    "\n",
    "Alternative: No, it’s biased towards heads.\n",
    "\n",
    "(b)\n",
    "\n",
    "Null hypothesis: The coin is fair.\n",
    "\n",
    "Alternative: No, it's not."
   ]
  },
  {
   "cell_type": "code",
   "execution_count": 5,
   "id": "8531416c-d043-4dcd-817e-bb0f9ebe20fa",
   "metadata": {},
   "outputs": [],
   "source": [
    "actual_coin = random.choices(['H', 'T'], \n",
    "                             k=400, \n",
    "                             weights=[0.55, 0.45])\n",
    "pd.DataFrame(actual_coin, columns=['coin']).to_csv('coins_400.csv', index=False)"
   ]
  },
  {
   "cell_type": "code",
   "execution_count": 6,
   "id": "f7473832-10cd-4eaa-a17e-ff1ea6bc969e",
   "metadata": {},
   "outputs": [
    {
     "data": {
      "text/html": [
       "<div>\n",
       "<style scoped>\n",
       "    .dataframe tbody tr th:only-of-type {\n",
       "        vertical-align: middle;\n",
       "    }\n",
       "\n",
       "    .dataframe tbody tr th {\n",
       "        vertical-align: top;\n",
       "    }\n",
       "\n",
       "    .dataframe thead th {\n",
       "        text-align: right;\n",
       "    }\n",
       "</style>\n",
       "<table border=\"1\" class=\"dataframe\">\n",
       "  <thead>\n",
       "    <tr style=\"text-align: right;\">\n",
       "      <th></th>\n",
       "      <th>coin</th>\n",
       "    </tr>\n",
       "  </thead>\n",
       "  <tbody>\n",
       "    <tr>\n",
       "      <th>0</th>\n",
       "      <td>H</td>\n",
       "    </tr>\n",
       "    <tr>\n",
       "      <th>1</th>\n",
       "      <td>H</td>\n",
       "    </tr>\n",
       "    <tr>\n",
       "      <th>2</th>\n",
       "      <td>H</td>\n",
       "    </tr>\n",
       "    <tr>\n",
       "      <th>3</th>\n",
       "      <td>T</td>\n",
       "    </tr>\n",
       "    <tr>\n",
       "      <th>4</th>\n",
       "      <td>H</td>\n",
       "    </tr>\n",
       "  </tbody>\n",
       "</table>\n",
       "</div>"
      ],
      "text/plain": [
       "  coin\n",
       "0    H\n",
       "1    H\n",
       "2    H\n",
       "3    T\n",
       "4    H"
      ]
     },
     "execution_count": 6,
     "metadata": {},
     "output_type": "execute_result"
    },
    {
     "data": {
      "image/png": "[encoded data removed]",
      "text/plain": [
       "<Figure size 640x480 with 1 Axes>"
      ]
     },
     "metadata": {},
     "output_type": "display_data"
    }
   ],
   "source": [
    "coins_400 = pd.read_csv('coins_400.csv')\n",
    "sns.histplot(coins_400, x='coin', stat='density')\n",
    "coins_400.head()"
   ]
  },
  {
   "cell_type": "code",
   "execution_count": 7,
   "id": "e56b5a82-7a2a-4510-b4e1-d22a0d3bc7db",
   "metadata": {},
   "outputs": [
    {
     "data": {
      "text/plain": [
       "0.565"
      ]
     },
     "execution_count": 7,
     "metadata": {},
     "output_type": "execute_result"
    }
   ],
   "source": [
    "# (a) percent of heads\n",
    "heads = (coins_400['coin']=='H')\n",
    "t1 = sum(heads) / len(coins_400)\n",
    "t1"
   ]
  },
  {
   "cell_type": "code",
   "execution_count": 8,
   "id": "d7864843-0860-46e5-bf42-c37bd6b7d563",
   "metadata": {},
   "outputs": [
    {
     "data": {
      "text/plain": [
       "0.06499999999999995"
      ]
     },
     "execution_count": 8,
     "metadata": {},
     "output_type": "execute_result"
    }
   ],
   "source": [
    "# (b) | percent of heads - 50% | \n",
    "t2 = abs(t1 - 0.5)\n",
    "t2"
   ]
  },
  {
   "cell_type": "code",
   "execution_count": 9,
   "id": "f4e42520-d8b4-4c68-80ed-ebad533ea732",
   "metadata": {},
   "outputs": [
    {
     "data": {
      "text/html": [
       "<div>\n",
       "<style scoped>\n",
       "    .dataframe tbody tr th:only-of-type {\n",
       "        vertical-align: middle;\n",
       "    }\n",
       "\n",
       "    .dataframe tbody tr th {\n",
       "        vertical-align: top;\n",
       "    }\n",
       "\n",
       "    .dataframe thead th {\n",
       "        text-align: right;\n",
       "    }\n",
       "</style>\n",
       "<table border=\"1\" class=\"dataframe\">\n",
       "  <thead>\n",
       "    <tr style=\"text-align: right;\">\n",
       "      <th></th>\n",
       "      <th>t1</th>\n",
       "      <th>t2</th>\n",
       "    </tr>\n",
       "  </thead>\n",
       "  <tbody>\n",
       "    <tr>\n",
       "      <th>0</th>\n",
       "      <td>0.5100</td>\n",
       "      <td>0.0100</td>\n",
       "    </tr>\n",
       "    <tr>\n",
       "      <th>1</th>\n",
       "      <td>0.4575</td>\n",
       "      <td>0.0425</td>\n",
       "    </tr>\n",
       "    <tr>\n",
       "      <th>2</th>\n",
       "      <td>0.5125</td>\n",
       "      <td>0.0125</td>\n",
       "    </tr>\n",
       "    <tr>\n",
       "      <th>3</th>\n",
       "      <td>0.5600</td>\n",
       "      <td>0.0600</td>\n",
       "    </tr>\n",
       "    <tr>\n",
       "      <th>4</th>\n",
       "      <td>0.5325</td>\n",
       "      <td>0.0325</td>\n",
       "    </tr>\n",
       "    <tr>\n",
       "      <th>...</th>\n",
       "      <td>...</td>\n",
       "      <td>...</td>\n",
       "    </tr>\n",
       "    <tr>\n",
       "      <th>995</th>\n",
       "      <td>0.4850</td>\n",
       "      <td>0.0150</td>\n",
       "    </tr>\n",
       "    <tr>\n",
       "      <th>996</th>\n",
       "      <td>0.5175</td>\n",
       "      <td>0.0175</td>\n",
       "    </tr>\n",
       "    <tr>\n",
       "      <th>997</th>\n",
       "      <td>0.5375</td>\n",
       "      <td>0.0375</td>\n",
       "    </tr>\n",
       "    <tr>\n",
       "      <th>998</th>\n",
       "      <td>0.4875</td>\n",
       "      <td>0.0125</td>\n",
       "    </tr>\n",
       "    <tr>\n",
       "      <th>999</th>\n",
       "      <td>0.5225</td>\n",
       "      <td>0.0225</td>\n",
       "    </tr>\n",
       "  </tbody>\n",
       "</table>\n",
       "<p>1000 rows × 2 columns</p>\n",
       "</div>"
      ],
      "text/plain": [
       "         t1      t2\n",
       "0    0.5100  0.0100\n",
       "1    0.4575  0.0425\n",
       "2    0.5125  0.0125\n",
       "3    0.5600  0.0600\n",
       "4    0.5325  0.0325\n",
       "..      ...     ...\n",
       "995  0.4850  0.0150\n",
       "996  0.5175  0.0175\n",
       "997  0.5375  0.0375\n",
       "998  0.4875  0.0125\n",
       "999  0.5225  0.0225\n",
       "\n",
       "[1000 rows x 2 columns]"
      ]
     },
     "execution_count": 9,
     "metadata": {},
     "output_type": "execute_result"
    }
   ],
   "source": [
    "# 1. Make a lot of simulated data under the null hypothesis\n",
    "# 2. Calculate the statistics t1 and t2 from simulated data\n",
    "\n",
    "statistic = pd.DataFrame(columns=['t1', 't2'])\n",
    "\n",
    "for simulation in range(1000):\n",
    "    simulated_coins = pd.DataFrame(sample_coin(400), columns=['coin'])\n",
    "    heads = (simulated_coins['coin']=='H') # True, False array\n",
    "    sim_t1 = sum(heads) / len(simulated_coins) # proportion of heads\n",
    "    sim_t2 = abs(sim_t1-0.5) # difference from 50%\n",
    "    statistic.loc[len(statistic)] = [sim_t1, sim_t2]\n",
    "statistic"
   ]
  },
  {
   "cell_type": "code",
   "execution_count": 10,
   "id": "d0e9b095-7cd1-4c7f-9647-1912761d4bfc",
   "metadata": {},
   "outputs": [
    {
     "data": {
      "text/plain": [
       "<matplotlib.legend.Legend at 0x7f7a0854d210>"
      ]
     },
     "execution_count": 10,
     "metadata": {},
     "output_type": "execute_result"
    },
    {
     "data": {
      "image/png": "[encoded data removed]",
      "text/plain": [
       "<Figure size 640x480 with 1 Axes>"
      ]
     },
     "metadata": {},
     "output_type": "display_data"
    }
   ],
   "source": [
    "# 3. Plot empirical distribution of t1 and t2 (under the null)\n",
    "\n",
    "fig, ax = plt.subplots(1)\n",
    "sns.histplot(data=statistic, x='t1', stat='density', label='Under the null')\n",
    "ax.axvline(t1, color='k', linestyle='-.', label='In dataset')\n",
    "ax.legend()"
   ]
  },
  {
   "cell_type": "code",
   "execution_count": 11,
   "id": "66ca5e29-b420-4628-8945-f6ee88c4f06b",
   "metadata": {},
   "outputs": [
    {
     "data": {
      "text/plain": [
       "0.003"
      ]
     },
     "execution_count": 11,
     "metadata": {},
     "output_type": "execute_result"
    }
   ],
   "source": [
    "# p1: how many simulated t1s are larger than data t1?\n",
    "sum(statistic['t1']>t1)/len(statistic)"
   ]
  },
  {
   "cell_type": "code",
   "execution_count": 12,
   "id": "105d6168-c12e-4213-ac60-b335ce75faaf",
   "metadata": {},
   "outputs": [
    {
     "data": {
      "text/plain": [
       "<matplotlib.legend.Legend at 0x7f7a084065f0>"
      ]
     },
     "execution_count": 12,
     "metadata": {},
     "output_type": "execute_result"
    },
    {
     "data": {
      "image/png": "[encoded data removed]",
      "text/plain": [
       "<Figure size 640x480 with 1 Axes>"
      ]
     },
     "metadata": {},
     "output_type": "display_data"
    }
   ],
   "source": [
    "fig, ax = plt.subplots(1)\n",
    "sns.histplot(data=statistic, x='t2', stat='density', label='Under the null')\n",
    "ax.axvline(t2, color='k', linestyle='-.', label='In dataset')\n",
    "ax.legend()"
   ]
  },
  {
   "cell_type": "code",
   "execution_count": 13,
   "id": "fc9c0554-84c2-42ba-a1c7-dcbd11e59834",
   "metadata": {},
   "outputs": [
    {
     "data": {
      "text/plain": [
       "0.01"
      ]
     },
     "execution_count": 13,
     "metadata": {},
     "output_type": "execute_result"
    }
   ],
   "source": [
    "# p2: how many simulated t2s are larger than data t2?\n",
    "sum(statistic['t2']>t2)/len(statistic)"
   ]
  },
  {
   "cell_type": "markdown",
   "id": "df46d546-6162-4a29-b668-18b6e89dd162",
   "metadata": {},
   "source": [
    "Null: Group A and Group B are each sampled from population distributions that are approximately normal with potentially different standard deviations but the same mean.\n",
    "\n",
    "Alternative: No, B distribution has a higher mean than A distribution.\n",
    "\n",
    "Statistic: sample mean of B - sample mean of A (or some variation of it)\n"
   ]
  },
  {
   "cell_type": "code",
   "execution_count": 14,
   "id": "639452a3-dd37-4ce9-8a76-1069e80bcc80",
   "metadata": {},
   "outputs": [],
   "source": [
    "def sample_gauss(mean, std, k):\n",
    "    nums = []\n",
    "    for i in range(k):\n",
    "        nums.append(random.gauss(mean, std))\n",
    "    return nums"
   ]
  },
  {
   "cell_type": "code",
   "execution_count": 15,
   "id": "3b18dddd-af22-4b30-8718-c00d42af1fe6",
   "metadata": {},
   "outputs": [],
   "source": [
    "mean_A, std_A = 20, 3\n",
    "mean_B, std_B = 22, 4\n",
    "n_A = 30\n",
    "n_B = 20\n",
    "\n",
    "actual_A = sample_gauss(mean_A, std_A, n_A)\n",
    "actual_B = sample_gauss(mean_B, std_B, n_B)\n",
    "\n",
    "pd.DataFrame(actual_A, columns=['value']).to_csv('A.csv', index=False)\n",
    "pd.DataFrame(actual_B, columns=['value']).to_csv('B.csv', index=False)"
   ]
  },
  {
   "cell_type": "code",
   "execution_count": 16,
   "id": "93223fc2-17ad-44f9-89a5-259295c4e446",
   "metadata": {},
   "outputs": [
    {
     "data": {
      "text/html": [
       "<div>\n",
       "<style scoped>\n",
       "    .dataframe tbody tr th:only-of-type {\n",
       "        vertical-align: middle;\n",
       "    }\n",
       "\n",
       "    .dataframe tbody tr th {\n",
       "        vertical-align: top;\n",
       "    }\n",
       "\n",
       "    .dataframe thead th {\n",
       "        text-align: right;\n",
       "    }\n",
       "</style>\n",
       "<table border=\"1\" class=\"dataframe\">\n",
       "  <thead>\n",
       "    <tr style=\"text-align: right;\">\n",
       "      <th></th>\n",
       "      <th>value</th>\n",
       "    </tr>\n",
       "  </thead>\n",
       "  <tbody>\n",
       "    <tr>\n",
       "      <th>0</th>\n",
       "      <td>26.642039</td>\n",
       "    </tr>\n",
       "    <tr>\n",
       "      <th>1</th>\n",
       "      <td>24.772656</td>\n",
       "    </tr>\n",
       "    <tr>\n",
       "      <th>2</th>\n",
       "      <td>21.295907</td>\n",
       "    </tr>\n",
       "    <tr>\n",
       "      <th>3</th>\n",
       "      <td>26.939260</td>\n",
       "    </tr>\n",
       "    <tr>\n",
       "      <th>4</th>\n",
       "      <td>24.266245</td>\n",
       "    </tr>\n",
       "  </tbody>\n",
       "</table>\n",
       "</div>"
      ],
      "text/plain": [
       "       value\n",
       "0  26.642039\n",
       "1  24.772656\n",
       "2  21.295907\n",
       "3  26.939260\n",
       "4  24.266245"
      ]
     },
     "execution_count": 16,
     "metadata": {},
     "output_type": "execute_result"
    }
   ],
   "source": [
    "group_A = pd.read_csv('A.csv')\n",
    "group_B = pd.read_csv('B.csv')\n",
    "group_B.head()"
   ]
  },
  {
   "cell_type": "code",
   "execution_count": 17,
   "id": "c921a2fe-90a1-4e41-809b-ada1d1d099b8",
   "metadata": {},
   "outputs": [
    {
     "data": {
      "text/plain": [
       "np.float64(1.3378594249343436)"
      ]
     },
     "execution_count": 17,
     "metadata": {},
     "output_type": "execute_result"
    }
   ],
   "source": [
    "# one statistic = mean of B - mean of A\n",
    "group_B['value'].mean() - group_A['value'].mean()\n"
   ]
  },
  {
   "cell_type": "code",
   "execution_count": 18,
   "id": "27734a94-c3ca-48b4-99a9-545d4de0cc1c",
   "metadata": {},
   "outputs": [
    {
     "data": {
      "text/plain": [
       "np.float64(1.2359514548023025)"
      ]
     },
     "execution_count": 18,
     "metadata": {},
     "output_type": "execute_result"
    }
   ],
   "source": [
    "# t-statistic = (mB - mA)/sqrt(sA^2/nA + sB^2/nB)\n",
    "import math\n",
    "top = group_B['value'].mean() - group_A['value'].mean()\n",
    "bottom = group_A['value'].std()**2/len(group_A) + group_B['value'].std()**2/len(group_B) \n",
    "t = top/math.sqrt(bottom)\n",
    "t"
   ]
  },
  {
   "cell_type": "markdown",
   "id": "c80ff043-ed98-4c9e-865e-c831c3da7fa4",
   "metadata": {},
   "source": [
    "At this point, we can skip running the simulations, because the empirical distribution of t-statistic is known to come from a probability distribution called t-distribution. People have figured out what that distribution looks like and how to calculate the corresponding p-value in the theoretical curve.\n",
    "\n",
    "`df` stands for degrees of freedom, which is something that depends on number of samples and standard deviations. No need to memorize the formula.\n",
    "\n",
    "See parameters in \n",
    "https://docs.scipy.org/doc/scipy/reference/generated/scipy.stats.ttest_ind.html"
   ]
  },
  {
   "cell_type": "code",
   "execution_count": 19,
   "id": "034609a7-59d5-4308-9cae-98e61d8ddc97",
   "metadata": {},
   "outputs": [
    {
     "data": {
      "text/plain": [
       "TtestResult(statistic=np.float64(-1.2359514548023025), pvalue=np.float64(0.11266063489847224), df=np.float64(32.552814478876115))"
      ]
     },
     "execution_count": 19,
     "metadata": {},
     "output_type": "execute_result"
    }
   ],
   "source": [
    "#https://docs.scipy.org/doc/scipy/reference/generated/scipy.stats.ttest_ind.html\n",
    "from scipy.stats import ttest_ind\n",
    "\n",
    "ttest_ind(group_A['value'], group_B['value'], \n",
    "          equal_var=False, \n",
    "          alternative='less') # mean A < mean B\n"
   ]
  },
  {
   "cell_type": "code",
   "execution_count": null,
   "id": "f571abe4-cf66-4ea7-9ef0-8fbbdbdcd3bf",
   "metadata": {},
   "outputs": [],
   "source": []
  }
 ],
 "metadata": {
  "kernelspec": {
   "display_name": "Python 3 (ipykernel)",
   "language": "python",
   "name": "python3"
  },
  "language_info": {
   "codemirror_mode": {
    "name": "ipython",
    "version": 3
   },
   "file_extension": ".py",
   "mimetype": "text/x-python",
   "name": "python",
   "nbconvert_exporter": "python",
   "pygments_lexer": "ipython3",
   "version": "3.10.10"
  }
 },
 "nbformat": 4,
 "nbformat_minor": 5
}
