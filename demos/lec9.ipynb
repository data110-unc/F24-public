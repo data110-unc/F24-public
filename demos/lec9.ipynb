{
 "cells": [
  {
   "cell_type": "code",
   "execution_count": 1,
   "id": "9b481d4e-4ccd-4bb2-8ace-2250129518a3",
   "metadata": {},
   "outputs": [],
   "source": [
    "import seaborn as sns\n",
    "import pandas as pd\n",
    "import matplotlib.pyplot as plt"
   ]
  },
  {
   "cell_type": "code",
   "execution_count": null,
   "id": "d730c841-c821-4dff-bb86-ebae66649d7e",
   "metadata": {},
   "outputs": [],
   "source": [
    "movies = pd.read_csv('../data/top_movies_2017.csv')\n",
    "movies.head(10)\n"
   ]
  },
  {
   "cell_type": "code",
   "execution_count": null,
   "id": "f9796e99",
   "metadata": {},
   "outputs": [],
   "source": [
    "movies['Age']=2024-movies['Year']\n",
    "movies.head(10)"
   ]
  },
  {
   "cell_type": "code",
   "execution_count": null,
   "id": "f2b0cc6d",
   "metadata": {},
   "outputs": [],
   "source": [
    "movies.sort_values('Gross').head(10)"
   ]
  },
  {
   "cell_type": "code",
   "execution_count": null,
   "id": "10b47bda",
   "metadata": {},
   "outputs": [],
   "source": [
    "movies_sorted = movies.sort_values('Gross',ascending=False)\n",
    "movies_sorted.head(10)"
   ]
  },
  {
   "cell_type": "code",
   "execution_count": null,
   "id": "e2ecead7-9264-41d1-897d-004c60554578",
   "metadata": {},
   "outputs": [],
   "source": [
    "sns.barplot(data=movies_sorted.head(10), x='Age', y='Title')\n",
    "\n"
   ]
  },
  {
   "cell_type": "code",
   "execution_count": null,
   "id": "d2aa5fc1-0922-41f0-b581-61f408768163",
   "metadata": {},
   "outputs": [],
   "source": [
    "studio_count = movies.groupby('Studio').count()\n",
    "studio_count.head(10)"
   ]
  },
  {
   "cell_type": "code",
   "execution_count": null,
   "id": "7b7a5b09",
   "metadata": {},
   "outputs": [],
   "source": [
    "sns.barplot(data=studio_count, x='Studio', y='Title')"
   ]
  },
  {
   "cell_type": "code",
   "execution_count": null,
   "id": "3d7ca3f2",
   "metadata": {},
   "outputs": [],
   "source": [
    "sns.barplot(data=studio_count, x='Studio', y='Title', orient='h')"
   ]
  },
  {
   "cell_type": "code",
   "execution_count": null,
   "id": "9df9ee5b",
   "metadata": {},
   "outputs": [],
   "source": [
    "sns.barplot(data=studio_count, y='Studio', x='Title', orient='h')"
   ]
  },
  {
   "cell_type": "code",
   "execution_count": null,
   "id": "f856e003",
   "metadata": {},
   "outputs": [],
   "source": [
    "sns.barplot(data=studio_count/len(movies)*100, y='Studio', x='Title', orient='h')"
   ]
  },
  {
   "cell_type": "code",
   "execution_count": null,
   "id": "1874902c",
   "metadata": {},
   "outputs": [],
   "source": [
    "sns.barplot(data=studio_count/len(movies)*100, y='Studio', x='Title', orient='h')\n",
    "plt.xlabel('Title percentage')"
   ]
  },
  {
   "cell_type": "code",
   "execution_count": null,
   "id": "5ef90815",
   "metadata": {},
   "outputs": [],
   "source": [
    "sns.barplot(movies['Studio'].value_counts(),orient='h')"
   ]
  },
  {
   "cell_type": "code",
   "execution_count": null,
   "id": "89f46fa3",
   "metadata": {},
   "outputs": [],
   "source": [
    "sns.histplot(data=movies, x='Age')"
   ]
  },
  {
   "cell_type": "code",
   "execution_count": null,
   "id": "f555fb28",
   "metadata": {},
   "outputs": [],
   "source": [
    "movies['Age'].describe()\n"
   ]
  },
  {
   "cell_type": "code",
   "execution_count": null,
   "id": "426a6486",
   "metadata": {},
   "outputs": [],
   "source": [
    "#sns.histplot(data=movies, x='Age', bins = range(0,110,10)) # range goes up to but not including!\n",
    "sns.histplot(data=movies, x='Age', bins = range(0,111,10))"
   ]
  },
  {
   "cell_type": "code",
   "execution_count": null,
   "id": "d65fe77e",
   "metadata": {},
   "outputs": [],
   "source": [
    "my_bins = [0, 5, 10, 15, 25, 40, 65, 104] # bins also go up to but not including!\n",
    "sns.histplot(data=movies, x='Age', bins = my_bins)"
   ]
  },
  {
   "cell_type": "code",
   "execution_count": null,
   "id": "1b4a2db3",
   "metadata": {},
   "outputs": [],
   "source": [
    "\n",
    "sns.histplot(data=movies, x='Age',stat='percent',bins=my_bins)"
   ]
  },
  {
   "cell_type": "code",
   "execution_count": null,
   "id": "6d1e1b75",
   "metadata": {},
   "outputs": [],
   "source": [
    "sns.histplot(data=movies, x='Age',stat='density',bins=my_bins)"
   ]
  },
  {
   "cell_type": "code",
   "execution_count": null,
   "id": "871858bd",
   "metadata": {},
   "outputs": [],
   "source": [
    "incomes = pd.read_csv('../data/2022_female_actors.csv')\n",
    "incomes.head()"
   ]
  },
  {
   "cell_type": "code",
   "execution_count": null,
   "id": "5f1daa21",
   "metadata": {},
   "outputs": [],
   "source": [
    "incomes.describe()"
   ]
  },
  {
   "cell_type": "code",
   "execution_count": null,
   "id": "87663cf9",
   "metadata": {},
   "outputs": [],
   "source": [
    "sns.histplot( incomes, bins=10)"
   ]
  },
  {
   "cell_type": "code",
   "execution_count": null,
   "id": "18f992d7",
   "metadata": {},
   "outputs": [],
   "source": [
    "sns.histplot( incomes, bins=range(0,61,6)) # very different than above!"
   ]
  },
  {
   "cell_type": "code",
   "execution_count": null,
   "id": "2b979386",
   "metadata": {},
   "outputs": [],
   "source": [
    "my_bins = [0, 25, 30, 60]\n",
    "sns.histplot( incomes, bins=my_bins)"
   ]
  },
  {
   "cell_type": "code",
   "execution_count": null,
   "id": "87ed6312",
   "metadata": {},
   "outputs": [],
   "source": [
    "sns.histplot( incomes, bins=my_bins, stat='density')"
   ]
  },
  {
   "cell_type": "code",
   "execution_count": null,
   "id": "2a804e58",
   "metadata": {},
   "outputs": [],
   "source": [
    "lec1_poll=pd.DataFrame(data=['It will look good on my resume',\n",
    "                             \"I heard the teacher's cat is cute\",\n",
    "                             'It will look good on my resume',\n",
    "                             'I need some credits',\n",
    "                             'To learn about Data Science',\n",
    "                             'I need some credits',\n",
    "                             'I heard the teacher is great',\n",
    "                             \"I heard the teacher's cat is cute\",\n",
    "                             \"I heard the teacher's cat is cute\",\n",
    "                             'It will look good on my resume',\n",
    "                             'To learn about Data Science'], columns=['Response'])\n",
    "lec1_poll"
   ]
  },
  {
   "cell_type": "code",
   "execution_count": null,
   "id": "5b497507",
   "metadata": {},
   "outputs": [],
   "source": [
    "sns.barplot(data=lec1_poll.value_counts('Response'),orient='h')"
   ]
  },
  {
   "cell_type": "code",
   "execution_count": null,
   "id": "b4fca856",
   "metadata": {},
   "outputs": [],
   "source": [
    "sns.barplot(data=lec1_poll.value_counts('Response',normalize=True),orient='h')"
   ]
  },
  {
   "cell_type": "markdown",
   "id": "2cc66c54",
   "metadata": {},
   "source": [
    "## Practice: How would you do the above 2 bar plots for Response with groupby() instead of value_counts()?"
   ]
  },
  {
   "cell_type": "code",
   "execution_count": null,
   "id": "2b2da886",
   "metadata": {},
   "outputs": [],
   "source": [
    "# try here"
   ]
  }
 ],
 "metadata": {
  "kernelspec": {
   "display_name": "Python 3 (ipykernel)",
   "language": "python",
   "name": "python3"
  },
  "language_info": {
   "codemirror_mode": {
    "name": "ipython",
    "version": 3
   },
   "file_extension": ".py",
   "mimetype": "text/x-python",
   "name": "python",
   "nbconvert_exporter": "python",
   "pygments_lexer": "ipython3",
   "version": "3.12.6"
  }
 },
 "nbformat": 4,
 "nbformat_minor": 5
}
