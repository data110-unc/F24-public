{
 "cells": [
  {
   "cell_type": "code",
   "execution_count": null,
   "id": "9b481d4e-4ccd-4bb2-8ace-2250129518a3",
   "metadata": {},
   "outputs": [],
   "source": [
    "import seaborn as sns\n",
    "import pandas as pd\n",
    "import matplotlib.pyplot as plt"
   ]
  },
  {
   "cell_type": "code",
   "execution_count": null,
   "id": "d730c841-c821-4dff-bb86-ebae66649d7e",
   "metadata": {},
   "outputs": [],
   "source": [
    "movies = pd.read_csv('~/F24-public/data/top_movies_2017.csv')\n",
    "movies.head()"
   ]
  },
  {
   "cell_type": "markdown",
   "id": "4fd38c72-353f-43b9-967c-a69bdb2a6bc4",
   "metadata": {},
   "source": [
    "# Bar charts\n",
    "\n",
    "## The age of top 10 grossing movies"
   ]
  },
  {
   "cell_type": "code",
   "execution_count": null,
   "id": "f9796e99",
   "metadata": {},
   "outputs": [],
   "source": [
    "movies['Age'] = 2024-movies['Year']\n",
    "movies.head(10)"
   ]
  },
  {
   "cell_type": "code",
   "execution_count": null,
   "id": "f2b0cc6d",
   "metadata": {},
   "outputs": [],
   "source": [
    "movies.sort_values('Gross').head(10)"
   ]
  },
  {
   "cell_type": "code",
   "execution_count": null,
   "id": "10b47bda",
   "metadata": {},
   "outputs": [],
   "source": [
    "movies_sorted = movies.sort_values('Gross',ascending=False)\n",
    "movies_sorted.head(10)"
   ]
  },
  {
   "cell_type": "code",
   "execution_count": null,
   "id": "e2ecead7-9264-41d1-897d-004c60554578",
   "metadata": {},
   "outputs": [],
   "source": [
    "sns.barplot(data=movies_sorted.head(10), x='Age', y='Title' )\n",
    "plt.grid()"
   ]
  },
  {
   "cell_type": "markdown",
   "id": "4a952ec9-80cf-42a0-a5fc-9804f568282c",
   "metadata": {},
   "source": [
    "## Number of movies per studio"
   ]
  },
  {
   "cell_type": "code",
   "execution_count": null,
   "id": "d2aa5fc1-0922-41f0-b581-61f408768163",
   "metadata": {},
   "outputs": [],
   "source": [
    "studio_count = movies.groupby('Studio').count()\n",
    "studio_count.head(10)"
   ]
  },
  {
   "cell_type": "code",
   "execution_count": null,
   "id": "7b7a5b09",
   "metadata": {},
   "outputs": [],
   "source": [
    "sns.barplot(data=studio_count, x='Studio', y='Title')"
   ]
  },
  {
   "cell_type": "code",
   "execution_count": null,
   "id": "3d7ca3f2",
   "metadata": {},
   "outputs": [],
   "source": [
    "sns.barplot(data=studio_count, x='Studio', y='Title', orient='h')"
   ]
  },
  {
   "cell_type": "code",
   "execution_count": null,
   "id": "9df9ee5b",
   "metadata": {},
   "outputs": [],
   "source": [
    "sns.barplot(data=studio_count, y='Studio', x='Title', orient='h')"
   ]
  },
  {
   "cell_type": "code",
   "execution_count": null,
   "id": "b424d708-7151-49a2-a1fb-4a51b23704d6",
   "metadata": {},
   "outputs": [],
   "source": [
    "movies['Studio'].value_counts()"
   ]
  },
  {
   "cell_type": "code",
   "execution_count": null,
   "id": "5ef90815",
   "metadata": {},
   "outputs": [],
   "source": [
    "sns.barplot(movies['Studio'].value_counts(),orient='h')"
   ]
  },
  {
   "cell_type": "markdown",
   "id": "80503489-eae3-4907-8452-f662604cb379",
   "metadata": {},
   "source": [
    "# Histograms"
   ]
  },
  {
   "cell_type": "code",
   "execution_count": null,
   "id": "f555fb28",
   "metadata": {},
   "outputs": [],
   "source": [
    "movies['Age'].describe()"
   ]
  },
  {
   "cell_type": "code",
   "execution_count": null,
   "id": "07062780-6cb2-4ac5-ad80-e11283113029",
   "metadata": {},
   "outputs": [],
   "source": [
    "sns.histplot(data=movies, x='Age', bins=100)"
   ]
  },
  {
   "cell_type": "code",
   "execution_count": null,
   "id": "295d836e-83b5-45b1-96f5-d0c3aa4293f1",
   "metadata": {},
   "outputs": [],
   "source": [
    "sns.histplot(data=movies, x='Age', bins=2)"
   ]
  },
  {
   "cell_type": "code",
   "execution_count": null,
   "id": "89f46fa3",
   "metadata": {},
   "outputs": [],
   "source": [
    "sns.histplot(data=movies, x='Age')"
   ]
  },
  {
   "cell_type": "code",
   "execution_count": null,
   "id": "426a6486",
   "metadata": {},
   "outputs": [],
   "source": [
    "#sns.histplot(data=movies, x='Age', bins = range(0,110,10)) # range goes up to but not including!\n",
    "sns.histplot(data=movies, x='Age', bins = range(0,111,10))"
   ]
  },
  {
   "cell_type": "code",
   "execution_count": null,
   "id": "d65fe77e",
   "metadata": {},
   "outputs": [],
   "source": [
    "my_bins = [0, 5, 10, 15, 25, 40, 65, 104] # bins also go up to but not including!\n",
    "sns.histplot(data=movies, x='Age', bins = my_bins)"
   ]
  },
  {
   "cell_type": "code",
   "execution_count": null,
   "id": "81ef8995-c3e2-4b50-bdf6-03b748c84b75",
   "metadata": {},
   "outputs": [],
   "source": [
    "sum((40<= movies['Age']) & (movies['Age']< 65))"
   ]
  },
  {
   "cell_type": "code",
   "execution_count": null,
   "id": "1b4a2db3",
   "metadata": {},
   "outputs": [],
   "source": [
    "sns.histplot(data=movies, x='Age',stat='percent',bins=my_bins)"
   ]
  },
  {
   "cell_type": "code",
   "execution_count": null,
   "id": "6d1e1b75",
   "metadata": {},
   "outputs": [],
   "source": [
    "sns.histplot(data=movies, x='Age',stat='density',bins=my_bins)"
   ]
  },
  {
   "cell_type": "markdown",
   "id": "dfce07eb-5308-4edf-ba95-7636b3076ecd",
   "metadata": {},
   "source": [
    "# Question"
   ]
  },
  {
   "cell_type": "code",
   "execution_count": null,
   "id": "871858bd",
   "metadata": {},
   "outputs": [],
   "source": [
    "incomes = pd.read_csv('~/F24-public/data/2022_female_actors.csv')\n",
    "incomes"
   ]
  },
  {
   "cell_type": "code",
   "execution_count": null,
   "id": "5f1daa21",
   "metadata": {},
   "outputs": [],
   "source": [
    "incomes.describe()"
   ]
  },
  {
   "cell_type": "code",
   "execution_count": null,
   "id": "87663cf9",
   "metadata": {},
   "outputs": [],
   "source": [
    "sns.histplot( incomes, bins=10)"
   ]
  },
  {
   "cell_type": "code",
   "execution_count": null,
   "id": "18f992d7",
   "metadata": {},
   "outputs": [],
   "source": [
    "sns.histplot( incomes, bins=range(0,61,6)) # very different from above!"
   ]
  },
  {
   "cell_type": "code",
   "execution_count": null,
   "id": "2b979386",
   "metadata": {},
   "outputs": [],
   "source": [
    "my_bins = [0, 25, 30, 60]\n",
    "sns.histplot( incomes, bins=my_bins)"
   ]
  },
  {
   "cell_type": "code",
   "execution_count": null,
   "id": "87ed6312",
   "metadata": {},
   "outputs": [],
   "source": [
    "sns.histplot( incomes, bins=my_bins, stat='density')"
   ]
  },
  {
   "cell_type": "code",
   "execution_count": null,
   "id": "74a3b054-c0b4-4cd5-afaf-e9393ede06e9",
   "metadata": {},
   "outputs": [],
   "source": [
    "sum(incomes['Income (millions)'] < 25)"
   ]
  },
  {
   "cell_type": "code",
   "execution_count": null,
   "id": "1d776824-e355-440a-8174-cd54d50ffa94",
   "metadata": {},
   "outputs": [],
   "source": [
    "sum((25 <= incomes['Income (millions)']) & (incomes['Income (millions)'] < 30))"
   ]
  },
  {
   "cell_type": "code",
   "execution_count": null,
   "id": "e788b8ed-19f6-4244-884e-45cb86bf1d18",
   "metadata": {},
   "outputs": [],
   "source": [
    "sum((30 <= incomes['Income (millions)']) & (incomes['Income (millions)'] < 60))"
   ]
  },
  {
   "cell_type": "code",
   "execution_count": null,
   "id": "37076a3c-f50b-42fa-9fb5-413bdc3e221c",
   "metadata": {},
   "outputs": [],
   "source": []
  },
  {
   "cell_type": "code",
   "execution_count": null,
   "id": "5f1acc0e-b0d1-4d07-bfb8-c064fa75ef62",
   "metadata": {},
   "outputs": [],
   "source": []
  }
 ],
 "metadata": {
  "kernelspec": {
   "display_name": "Python 3 (ipykernel)",
   "language": "python",
   "name": "python3"
  },
  "language_info": {
   "codemirror_mode": {
    "name": "ipython",
    "version": 3
   },
   "file_extension": ".py",
   "mimetype": "text/x-python",
   "name": "python",
   "nbconvert_exporter": "python",
   "pygments_lexer": "ipython3",
   "version": "3.10.10"
  }
 },
 "nbformat": 4,
 "nbformat_minor": 5
}
