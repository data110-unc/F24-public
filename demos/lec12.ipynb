{
 "cells": [
  {
   "cell_type": "code",
   "execution_count": 76,
   "id": "9b481d4e-4ccd-4bb2-8ace-2250129518a3",
   "metadata": {},
   "outputs": [],
   "source": [
    "import seaborn as sns\n",
    "import pandas as pd"
   ]
  },
  {
   "cell_type": "code",
   "execution_count": 77,
   "id": "5fae591f",
   "metadata": {},
   "outputs": [],
   "source": [
    "wordle = pd.read_csv('for-wordle-what-starting-word-do-you-results.csv')"
   ]
  },
  {
   "cell_type": "code",
   "execution_count": null,
   "id": "6b668ed0",
   "metadata": {},
   "outputs": [],
   "source": [
    "sns.histplot(wordle['Response'])"
   ]
  },
  {
   "cell_type": "code",
   "execution_count": null,
   "id": "4b9ba668",
   "metadata": {},
   "outputs": [],
   "source": [
    "sns.histplot(y=wordle['Response'])"
   ]
  },
  {
   "cell_type": "code",
   "execution_count": null,
   "id": "be9e29a2",
   "metadata": {},
   "outputs": [],
   "source": [
    "sns.countplot(wordle['Response'])"
   ]
  },
  {
   "cell_type": "code",
   "execution_count": null,
   "id": "0222d1d3",
   "metadata": {},
   "outputs": [],
   "source": [
    "wordle['Response'].mode()"
   ]
  },
  {
   "cell_type": "code",
   "execution_count": 81,
   "id": "d730c841-c821-4dff-bb86-ebae66649d7e",
   "metadata": {},
   "outputs": [],
   "source": [
    "rouses = pd.read_csv('../hw/hw2/ROUSes.csv')\n"
   ]
  },
  {
   "cell_type": "code",
   "execution_count": null,
   "id": "f9796e99",
   "metadata": {},
   "outputs": [],
   "source": [
    "rouses.mean()"
   ]
  },
  {
   "cell_type": "code",
   "execution_count": null,
   "id": "f2b0cc6d",
   "metadata": {},
   "outputs": [],
   "source": [
    "rouses.mean(numeric_only=True)"
   ]
  },
  {
   "cell_type": "code",
   "execution_count": null,
   "id": "10b47bda",
   "metadata": {},
   "outputs": [],
   "source": [
    "rouses.median(numeric_only=True)"
   ]
  },
  {
   "cell_type": "code",
   "execution_count": null,
   "id": "e2ecead7-9264-41d1-897d-004c60554578",
   "metadata": {},
   "outputs": [],
   "source": [
    "rouses.mode()\n"
   ]
  },
  {
   "cell_type": "code",
   "execution_count": null,
   "id": "acd3b2b3",
   "metadata": {},
   "outputs": [],
   "source": [
    "rouses.mode().head(1)"
   ]
  },
  {
   "cell_type": "code",
   "execution_count": null,
   "id": "f883e3c1",
   "metadata": {},
   "outputs": [],
   "source": [
    "test = pd.DataFrame([ 'red', 'green', 'blue' ])\n",
    "test.mode()\n"
   ]
  },
  {
   "cell_type": "code",
   "execution_count": null,
   "id": "ec07a380",
   "metadata": {},
   "outputs": [],
   "source": [
    "sns.histplot(rouses['Temperament'])"
   ]
  },
  {
   "cell_type": "code",
   "execution_count": null,
   "id": "392b7d04",
   "metadata": {},
   "outputs": [],
   "source": [
    "rouses.std(numeric_only=True)"
   ]
  },
  {
   "cell_type": "code",
   "execution_count": null,
   "id": "d2aa5fc1-0922-41f0-b581-61f408768163",
   "metadata": {},
   "outputs": [],
   "source": [
    "rouses.describe()"
   ]
  },
  {
   "cell_type": "code",
   "execution_count": null,
   "id": "7b7a5b09",
   "metadata": {},
   "outputs": [],
   "source": [
    "sns.boxplot(x=rouses['Weight'])"
   ]
  },
  {
   "cell_type": "code",
   "execution_count": null,
   "id": "3d7ca3f2",
   "metadata": {},
   "outputs": [],
   "source": [
    "sns.boxplot(rouses['Weight'])"
   ]
  },
  {
   "cell_type": "code",
   "execution_count": null,
   "id": "9df9ee5b",
   "metadata": {},
   "outputs": [],
   "source": [
    "sns.boxplot(rouses)"
   ]
  },
  {
   "cell_type": "code",
   "execution_count": null,
   "id": "f856e003",
   "metadata": {},
   "outputs": [],
   "source": [
    "sns.boxplot(rouses,whis=1.5)"
   ]
  },
  {
   "cell_type": "code",
   "execution_count": null,
   "id": "1874902c",
   "metadata": {},
   "outputs": [],
   "source": [
    "sns.boxplot(rouses,whis=100)"
   ]
  }
 ],
 "metadata": {
  "kernelspec": {
   "display_name": "Python 3 (ipykernel)",
   "language": "python",
   "name": "python3"
  },
  "language_info": {
   "codemirror_mode": {
    "name": "ipython",
    "version": 3
   },
   "file_extension": ".py",
   "mimetype": "text/x-python",
   "name": "python",
   "nbconvert_exporter": "python",
   "pygments_lexer": "ipython3",
   "version": "3.12.6"
  }
 },
 "nbformat": 4,
 "nbformat_minor": 5
}
