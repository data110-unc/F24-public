{
 "cells": [
  {
   "cell_type": "code",
   "execution_count": null,
   "id": "cf55d4e4-a6fc-49d2-9b4e-fa435bd69ae3",
   "metadata": {},
   "outputs": [],
   "source": [
    "import random \n",
    "import pandas as pd\n",
    "import seaborn as sns\n",
    "import matplotlib.pyplot as plt"
   ]
  },
  {
   "cell_type": "code",
   "execution_count": null,
   "id": "0569d6ac-5f72-49a6-aca5-f1cb60c2fa68",
   "metadata": {},
   "outputs": [],
   "source": [
    "# coin toss\n",
    "random.choice(['H', 'T'])"
   ]
  },
  {
   "cell_type": "code",
   "execution_count": null,
   "id": "26ee9963-9577-48f0-a431-b99703b1ec11",
   "metadata": {},
   "outputs": [],
   "source": [
    "# die roll\n",
    "random.choice([1, 2, 3, 4, 5, 6]) "
   ]
  },
  {
   "cell_type": "code",
   "execution_count": null,
   "id": "9fcf5775-cee9-4aef-830a-5ca8de78dd94",
   "metadata": {},
   "outputs": [],
   "source": [
    "# bus is late anywhere from 0 to 10 minutes, uniform distribution\n",
    "random.uniform(0, 10) \n",
    "\n",
    "# how is this different from random.choice([1, 2, 3, 4, 5, 6, 7, 8, 9, 10])?"
   ]
  },
  {
   "cell_type": "markdown",
   "id": "c7f04f7a-db19-4ee7-9834-b67df99b862e",
   "metadata": {},
   "source": [
    "# Sampling from probability distribution\n",
    "\n",
    "What happens when you change the number of experiments (i.e. coin flip, die roll, bus arrival time measurement) from 20 to 100? 1000? 5?"
   ]
  },
  {
   "cell_type": "code",
   "execution_count": null,
   "id": "e0ba4a92-e223-4f71-bc9e-85ca89c6bf30",
   "metadata": {},
   "outputs": [],
   "source": [
    "def sample_coin(k): \n",
    "    flips = random.choices(['H', 'T'], k=k) # This is sampling from uniform distribution\n",
    "    return flips"
   ]
  },
  {
   "cell_type": "code",
   "execution_count": null,
   "id": "0bd448f4-0d2f-4dd7-b4b1-157d084b86a5",
   "metadata": {},
   "outputs": [],
   "source": [
    "flips = sample_coin(20)\n",
    "sns.histplot(flips, stat='density') # This is empirical distribution of simulated data"
   ]
  },
  {
   "cell_type": "code",
   "execution_count": null,
   "id": "6d48e5e5-a3a5-4209-9876-0ef24d71302f",
   "metadata": {},
   "outputs": [],
   "source": [
    "def sample_dice(k):\n",
    "    rolls = random.choices([1, 2, 3, 4, 5, 6], k=k)\n",
    "    return rolls"
   ]
  },
  {
   "cell_type": "code",
   "execution_count": null,
   "id": "02c0f33f-756b-4e85-9806-622f0b7e4517",
   "metadata": {},
   "outputs": [],
   "source": [
    "rolls = sample_dice(20)\n",
    "sns.histplot(rolls, stat='density', bins=range(1,7))"
   ]
  },
  {
   "cell_type": "code",
   "execution_count": null,
   "id": "ecda3d6b-ac86-4cbf-947e-3cb069b4fd55",
   "metadata": {},
   "outputs": [],
   "source": [
    "def sample_bus(n):\n",
    "    times = []\n",
    "    for bus in range(n):\n",
    "        t = random.uniform(0, 10)\n",
    "        times.append(t)\n",
    "    return times"
   ]
  },
  {
   "cell_type": "code",
   "execution_count": null,
   "id": "900d6f25-5db4-45fe-ad7a-d76e7794aa53",
   "metadata": {},
   "outputs": [],
   "source": [
    "times = sample_bus(20)\n",
    "sns.histplot(times, stat='density', bins=range(0,11))"
   ]
  },
  {
   "cell_type": "markdown",
   "id": "3c6c31ea-769c-4336-8b3c-2fd0feaa8015",
   "metadata": {},
   "source": [
    "# Law of large numbers\n",
    "\n",
    "Sample mean approaches population mean"
   ]
  },
  {
   "cell_type": "code",
   "execution_count": null,
   "id": "8bbace68-e6b1-4b42-9e7a-85a1511f709b",
   "metadata": {},
   "outputs": [],
   "source": [
    "# expected value is 3.5 (lec 14)\n",
    "\n",
    "rolls = sample_dice(20)\n",
    "sum(rolls)/len(rolls) # calculate sample mean"
   ]
  },
  {
   "cell_type": "code",
   "execution_count": null,
   "id": "d568ce6f-1274-42a4-8e66-74817c54c927",
   "metadata": {},
   "outputs": [],
   "source": [
    "ks = range(1, 1001) \n",
    "# Number of samples drawn from uniform distribution, try 1 to 1000\n",
    "\n",
    "all_means = []\n",
    "\n",
    "for k in ks:\n",
    "    rolls = sample_dice(k)\n",
    "    m = sum(rolls)/len(rolls) # calculate sample mean\n",
    "    all_means.append(m) # save sample mean\n",
    "\n",
    "fig, ax = plt.subplots(1)\n",
    "sns.scatterplot(x=ks, y=all_means, label='sample mean')\n",
    "ax.set_xlabel('Number of samples')\n",
    "ax.set_ylabel('Mean of observed data')\n",
    "ax.axhline(3.5, color='k', label='expected value')\n",
    "ax.legend()"
   ]
  },
  {
   "cell_type": "code",
   "execution_count": null,
   "id": "2a5303ab-35d6-45a9-a09f-c0ba49acd34e",
   "metadata": {},
   "outputs": [],
   "source": [
    "ks = range(1, 1001) \n",
    "# Number of samples drawn from uniform distribution, try 1 to 1000\n",
    "\n",
    "all_means = []\n",
    "\n",
    "for k in ks:\n",
    "    times = sample_bus(k)\n",
    "    m = sum(times)/len(times) # calculate sample mean\n",
    "    all_means.append(m) # save sample mean\n",
    "\n",
    "fig, ax = plt.subplots(1)\n",
    "sns.scatterplot(x=ks, y=all_means, label='sample mean')\n",
    "ax.set_xlabel('Number of samples')\n",
    "ax.set_ylabel('Mean of observed data')\n",
    "ax.axhline(5, color='k', label='expected value')\n",
    "ax.legend()"
   ]
  },
  {
   "cell_type": "markdown",
   "id": "6b597d76-09fb-46f8-8fbc-3c9a3a3c606e",
   "metadata": {},
   "source": [
    "# Central Limit Theorem\n",
    "\n",
    "Distribution of sample means approaches normal distribution.\n",
    "\n",
    "Try the different values for `num_rolls_per_expt` and `num_buses_per_expt`. Do you notice anything change in the mean and std of sample means? In the shape?"
   ]
  },
  {
   "cell_type": "code",
   "execution_count": null,
   "id": "4003ec5c-22a4-4863-b3cf-8bea01bcce64",
   "metadata": {},
   "outputs": [],
   "source": [
    "num_experiment = 1000 # number of times you repeat the experiment\n",
    "\n",
    "num_rolls_per_expt = 5 # number of samples you draw from uniform distribution\n",
    "#num_rolls_per_expt = 20\n",
    "#num_rolls_per_expt = 80\n",
    "#num_rolls_per_expt = 320\n",
    "\n",
    "all_means = []\n",
    "\n",
    "\n",
    "for roll in range(num_experiment): \n",
    "    rolls = sample_dice(num_rolls_per_expt) \n",
    "    m = sum(rolls)/len(rolls) # calulate sample mean\n",
    "    all_means.append(m)\n",
    "\n",
    "fig, ax = plt.subplots(1)\n",
    "sns.histplot(all_means, label='sample means', stat='density')\n",
    "ax.set_xlabel('Sample mean of die roll')\n",
    "ax.axvline(3.5, label='expected value', color='k', linestyle='-.')\n",
    "ax.legend()\n",
    "\n",
    "print('num_experiment:', num_experiment)\n",
    "print('num_rolls_per_expt:', num_rolls_per_expt)\n",
    "print('mean of sample means:', pd.DataFrame(all_means).mean()[0])\n",
    "print('standard deviation of sample means:', pd.DataFrame(all_means).std()[0])"
   ]
  },
  {
   "cell_type": "code",
   "execution_count": null,
   "id": "81746083-f108-49ec-919e-91cc61d7d567",
   "metadata": {},
   "outputs": [],
   "source": [
    "num_experiment = 1000  # number of times you repeat the experiment\n",
    "\n",
    "num_buses_per_expt = 5 # number of samples you draw from uniform distribution\n",
    "#num_buses_per_expt = 20\n",
    "#num_buses_per_expt = 80\n",
    "#num_buses_per_expt = 320\n",
    "\n",
    "all_means = []\n",
    "\n",
    "for measurement in range(num_experiment):\n",
    "    times = sample_bus(num_buses_per_expt) \n",
    "    m = sum(times)/len(times) # calulate sample mean\n",
    "    all_means.append(m)\n",
    "\n",
    "fig, ax = plt.subplots(1)\n",
    "sns.histplot(all_means, label='sample means', stat='density')\n",
    "ax.set_xlabel('Sample mean of bus arrival times')\n",
    "ax.axvline(5, label='expected value', color='k', linestyle='-.')\n",
    "ax.legend()\n",
    "\n",
    "print('num_experiment:', num_experiment)\n",
    "print('num_rolls_per_expt:', num_buses_per_expt)\n",
    "print('mean of sample means:', pd.DataFrame(all_means).mean()[0])\n",
    "print('standard deviation of sample means:', pd.DataFrame(all_means).std()[0])"
   ]
  },
  {
   "cell_type": "markdown",
   "id": "8c65fb2f-d105-4fce-9fbe-68831f6f5a40",
   "metadata": {},
   "source": [
    "# Hypothesis test\n",
    "\n",
    "(a)\n",
    "\n",
    "Null hypothesis: The coin is fair.\n",
    "\n",
    "Alternative: No, it’s biased towards heads.\n",
    "\n",
    "(b)\n",
    "\n",
    "Null hypothesis: The coin is fair.\n",
    "\n",
    "Alternative: No, it's not."
   ]
  },
  {
   "cell_type": "code",
   "execution_count": null,
   "id": "8531416c-d043-4dcd-817e-bb0f9ebe20fa",
   "metadata": {},
   "outputs": [],
   "source": [
    "actual_coin = random.choices(['H', 'T'], k=400, weights=[0.4, 0.6])\n",
    "pd.DataFrame(actual_coin, columns=['coin']).to_csv('coins_400.csv', index=False)"
   ]
  },
  {
   "cell_type": "code",
   "execution_count": null,
   "id": "f7473832-10cd-4eaa-a17e-ff1ea6bc969e",
   "metadata": {},
   "outputs": [],
   "source": [
    "coins_400 = pd.read_csv('coins_400.csv')\n",
    "sns.histplot(coins_400, x='coin', stat='density')\n",
    "coins_400.head()"
   ]
  },
  {
   "cell_type": "code",
   "execution_count": null,
   "id": "e56b5a82-7a2a-4510-b4e1-d22a0d3bc7db",
   "metadata": {},
   "outputs": [],
   "source": [
    "# (a) percent of heads\n",
    "heads = (coins_400['coin']=='H')\n",
    "t1 = sum(heads) / len(coins_400)\n",
    "t1"
   ]
  },
  {
   "cell_type": "code",
   "execution_count": null,
   "id": "d7864843-0860-46e5-bf42-c37bd6b7d563",
   "metadata": {},
   "outputs": [],
   "source": [
    "# (b) | percent of heads - 50% | \n",
    "t2 = abs(t1 - 0.5)\n",
    "t2"
   ]
  },
  {
   "cell_type": "code",
   "execution_count": null,
   "id": "f4e42520-d8b4-4c68-80ed-ebad533ea732",
   "metadata": {},
   "outputs": [],
   "source": [
    "# 1. Make a lot of simulated data under the null hypothesis\n",
    "# 2. Calculate the statistics t1 and t2 from simulated data\n",
    "\n",
    "statistic = pd.DataFrame(columns=['t1', 't2'])\n",
    "\n",
    "for simulation in range(1000):\n",
    "    simulated_coins = pd.DataFrame(sample_coin(400), columns=['coin'])\n",
    "    heads = (simulated_coins['coin']=='H') # True, False array\n",
    "    sim_t1 = sum(heads) / len(simulated_coins) # proportion of heads\n",
    "    sim_t2 = abs(sim_t1-0.5) # difference from 50%\n",
    "    statistic.loc[len(statistic)] = [sim_t1, sim_t2]\n",
    "statistic"
   ]
  },
  {
   "cell_type": "code",
   "execution_count": null,
   "id": "d0e9b095-7cd1-4c7f-9647-1912761d4bfc",
   "metadata": {},
   "outputs": [],
   "source": [
    "# 3. Plot empirical distribution of t1 and t2 (under the null)\n",
    "\n",
    "fig, ax = plt.subplots(1)\n",
    "sns.histplot(data=statistic, x='t1', label='Under the null')\n",
    "ax.axvline(t1, color='k', linestyle='-.', label='In dataset')\n",
    "ax.legend()"
   ]
  },
  {
   "cell_type": "code",
   "execution_count": null,
   "id": "105d6168-c12e-4213-ac60-b335ce75faaf",
   "metadata": {},
   "outputs": [],
   "source": [
    "fig, ax = plt.subplots(1)\n",
    "sns.histplot(data=statistic, x='t2', label='Under the null')\n",
    "ax.axvline(t2, color='k', linestyle='-.', label='In dataset')\n",
    "ax.legend()"
   ]
  },
  {
   "cell_type": "markdown",
   "id": "99e1cf6a-e180-4d8f-8fda-46906e1c733c",
   "metadata": {},
   "source": [
    "# Draft"
   ]
  },
  {
   "cell_type": "code",
   "execution_count": null,
   "id": "36dbdb38-a09f-41d8-aab3-c98a59c6349b",
   "metadata": {},
   "outputs": [],
   "source": [
    "draft = pd.read_csv('~/F24-public/data/draft70yr.csv')"
   ]
  },
  {
   "cell_type": "code",
   "execution_count": null,
   "id": "d8bd60f8-5e02-49b3-b5b5-9f4855f2929b",
   "metadata": {},
   "outputs": [],
   "source": [
    "month_data = draft.groupby('Month').mean()\n",
    "month_data"
   ]
  },
  {
   "cell_type": "code",
   "execution_count": null,
   "id": "4e63489e-2234-435a-8072-1a5b22c37004",
   "metadata": {},
   "outputs": [],
   "source": [
    "sns.barplot(data=month_data, x='Month', y='Pick')"
   ]
  },
  {
   "cell_type": "code",
   "execution_count": null,
   "id": "27c3902a-8c8e-4223-9926-9bb2ce012e38",
   "metadata": {},
   "outputs": [],
   "source": []
  }
 ],
 "metadata": {
  "kernelspec": {
   "display_name": "Python 3 (ipykernel)",
   "language": "python",
   "name": "python3"
  },
  "language_info": {
   "codemirror_mode": {
    "name": "ipython",
    "version": 3
   },
   "file_extension": ".py",
   "mimetype": "text/x-python",
   "name": "python",
   "nbconvert_exporter": "python",
   "pygments_lexer": "ipython3",
   "version": "3.10.10"
  }
 },
 "nbformat": 4,
 "nbformat_minor": 5
}
