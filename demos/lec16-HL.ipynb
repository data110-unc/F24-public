{
 "cells": [
  {
   "cell_type": "code",
   "execution_count": null,
   "id": "cf55d4e4-a6fc-49d2-9b4e-fa435bd69ae3",
   "metadata": {},
   "outputs": [],
   "source": [
    "import random \n",
    "import pandas as pd\n",
    "import seaborn as sns\n",
    "import matplotlib.pyplot as plt"
   ]
  },
  {
   "cell_type": "code",
   "execution_count": null,
   "id": "0569d6ac-5f72-49a6-aca5-f1cb60c2fa68",
   "metadata": {},
   "outputs": [],
   "source": [
    "random.choice(['H', 'T'])"
   ]
  },
  {
   "cell_type": "code",
   "execution_count": null,
   "id": "26ee9963-9577-48f0-a431-b99703b1ec11",
   "metadata": {},
   "outputs": [],
   "source": [
    "random.choice([1, 2, 3, 4, 5, 6])"
   ]
  },
  {
   "cell_type": "code",
   "execution_count": null,
   "id": "9fcf5775-cee9-4aef-830a-5ca8de78dd94",
   "metadata": {},
   "outputs": [],
   "source": [
    "random.uniform(0, 10)"
   ]
  },
  {
   "cell_type": "markdown",
   "id": "c7f04f7a-db19-4ee7-9834-b67df99b862e",
   "metadata": {},
   "source": [
    "# Sampling from probability distribution"
   ]
  },
  {
   "cell_type": "code",
   "execution_count": null,
   "id": "e0ba4a92-e223-4f71-bc9e-85ca89c6bf30",
   "metadata": {},
   "outputs": [],
   "source": [
    "def sample_coin(k): \n",
    "    flips = random.choices(['H', 'T'], k=k) # This is sampling from uniform distribution\n",
    "    return flips"
   ]
  },
  {
   "cell_type": "code",
   "execution_count": null,
   "id": "0bd448f4-0d2f-4dd7-b4b1-157d084b86a5",
   "metadata": {},
   "outputs": [],
   "source": [
    "flips = sample_coin(20)\n",
    "sns.histplot(flips, stat='density') # This is empirical distribution"
   ]
  },
  {
   "cell_type": "code",
   "execution_count": null,
   "id": "6d48e5e5-a3a5-4209-9876-0ef24d71302f",
   "metadata": {},
   "outputs": [],
   "source": [
    "def sample_dice(k):\n",
    "    rolls = random.choices([1, 2, 3, 4, 5, 6], k=k)\n",
    "    return rolls"
   ]
  },
  {
   "cell_type": "code",
   "execution_count": null,
   "id": "02c0f33f-756b-4e85-9806-622f0b7e4517",
   "metadata": {},
   "outputs": [],
   "source": [
    "rolls = sample_dice(2)\n",
    "sns.histplot(rolls, stat='density')"
   ]
  },
  {
   "cell_type": "code",
   "execution_count": null,
   "id": "ecda3d6b-ac86-4cbf-947e-3cb069b4fd55",
   "metadata": {},
   "outputs": [],
   "source": [
    "def sample_bus(n):\n",
    "    times = []\n",
    "    for bus in range(n):\n",
    "        t = random.uniform(0, 10)\n",
    "        times.append(t)\n",
    "    return times"
   ]
  },
  {
   "cell_type": "code",
   "execution_count": null,
   "id": "900d6f25-5db4-45fe-ad7a-d76e7794aa53",
   "metadata": {},
   "outputs": [],
   "source": [
    "times = sample_bus(5)\n",
    "sns.histplot(times, stat='density')"
   ]
  },
  {
   "cell_type": "markdown",
   "id": "3c6c31ea-769c-4336-8b3c-2fd0feaa8015",
   "metadata": {},
   "source": [
    "# Law of large numbers"
   ]
  },
  {
   "cell_type": "code",
   "execution_count": null,
   "id": "8bbace68-e6b1-4b42-9e7a-85a1511f709b",
   "metadata": {},
   "outputs": [],
   "source": [
    "# expected value is 3.5\n",
    "rolls = sample_dice(20)\n",
    "sum(rolls)/len(rolls) # calculate mean"
   ]
  },
  {
   "cell_type": "code",
   "execution_count": null,
   "id": "d568ce6f-1274-42a4-8e66-74817c54c927",
   "metadata": {},
   "outputs": [],
   "source": [
    "ks = range(1, 1000) # Number of samples drawn from uniform distribution\n",
    "\n",
    "all_means = []\n",
    "\n",
    "for k in ks:\n",
    "    rolls = sample_dice(k)\n",
    "    m = sum(rolls)/len(rolls)\n",
    "    all_means.append(m)\n",
    "\n",
    "fig, ax = plt.subplots(1)\n",
    "sns.scatterplot(x=ks, y=all_means, label='sample mean')\n",
    "ax.set_xlabel('Number of samples')\n",
    "ax.set_ylabel('Mean of observed data')\n",
    "ax.axhline(3.5, color='k', label='expected value')\n",
    "ax.legend()"
   ]
  },
  {
   "cell_type": "code",
   "execution_count": null,
   "id": "2a5303ab-35d6-45a9-a09f-c0ba49acd34e",
   "metadata": {},
   "outputs": [],
   "source": [
    "ks = range(1, 1000) # Number of samples drawn from uniform distribution\n",
    "\n",
    "all_means = []\n",
    "\n",
    "for k in ks:\n",
    "    times = sample_bus(k)\n",
    "    m = sum(times)/len(times)\n",
    "    all_means.append(m)\n",
    "\n",
    "fig, ax = plt.subplots(1)\n",
    "sns.scatterplot(x=ks, y=all_means, label='sample mean')\n",
    "ax.set_xlabel('Number of samples')\n",
    "ax.set_ylabel('Mean of observed data')\n",
    "ax.axhline(5, color='k', label='expected value')\n",
    "ax.legend()"
   ]
  },
  {
   "cell_type": "markdown",
   "id": "8f827ab8-b60f-4fc3-91dd-133def7003a9",
   "metadata": {},
   "source": [
    "# Penguins"
   ]
  },
  {
   "cell_type": "code",
   "execution_count": null,
   "id": "fff19357-0a39-40e2-8aed-1aab3dcb2520",
   "metadata": {},
   "outputs": [],
   "source": [
    "penguins = pd.read_csv('~/F24-public/palmer_penguins.csv')"
   ]
  },
  {
   "cell_type": "code",
   "execution_count": null,
   "id": "290773eb-2ec0-446c-8533-097222aa57de",
   "metadata": {},
   "outputs": [],
   "source": [
    "sns.countplot(data=penguins, x='Island') "
   ]
  },
  {
   "cell_type": "code",
   "execution_count": null,
   "id": "16444f6b-2743-4275-a1e2-36a37fe46739",
   "metadata": {},
   "outputs": [],
   "source": [
    "sns.histplot(data=penguins, x='Body Mass (g)', stat='density')"
   ]
  },
  {
   "cell_type": "code",
   "execution_count": null,
   "id": "37a367b1-91b0-48e6-9ae2-56054bc535f0",
   "metadata": {},
   "outputs": [],
   "source": [
    "sns.histplot(data=penguins, x='Culmen Depth (mm)', stat='density')"
   ]
  },
  {
   "cell_type": "markdown",
   "id": "6b597d76-09fb-46f8-8fbc-3c9a3a3c606e",
   "metadata": {},
   "source": [
    "# Central Limit Theorem"
   ]
  },
  {
   "cell_type": "code",
   "execution_count": null,
   "id": "4003ec5c-22a4-4863-b3cf-8bea01bcce64",
   "metadata": {},
   "outputs": [],
   "source": [
    "all_means = []\n",
    "\n",
    "for roll in range(10000): # number of times you repeat the experiment\n",
    "    rolls = sample_dice(100) # number of samples you draw from uniform distribution\n",
    "    m = sum(rolls)/len(rolls) # calulate sample mean\n",
    "    all_means.append(m)\n",
    "\n",
    "fig, ax = plt.subplots(1)\n",
    "sns.histplot(all_means, label='sample means', stat='density')\n",
    "ax.set_xlabel('Sample mean of die roll')\n",
    "ax.axvline(3.5, label='expected value', color='k', linestyle='-.')"
   ]
  },
  {
   "cell_type": "code",
   "execution_count": null,
   "id": "81746083-f108-49ec-919e-91cc61d7d567",
   "metadata": {},
   "outputs": [],
   "source": [
    "all_means = []\n",
    "\n",
    "for measurement in range(10000): # number of times you repeat the experiment\n",
    "    times = sample_bus(100) # number of samples you draw from uniform distribution\n",
    "    m = sum(times)/len(times) # calulate sample mean\n",
    "    all_means.append(m)\n",
    "\n",
    "fig, ax = plt.subplots(1)\n",
    "sns.histplot(all_means, label='sample means', stat='density')\n",
    "ax.set_xlabel('Sample mean of bus arrival times')\n",
    "ax.axvline(5, label='expected value', color='k', linestyle='-.')"
   ]
  },
  {
   "cell_type": "markdown",
   "id": "99e1cf6a-e180-4d8f-8fda-46906e1c733c",
   "metadata": {},
   "source": [
    "# Draft"
   ]
  },
  {
   "cell_type": "code",
   "execution_count": null,
   "id": "36dbdb38-a09f-41d8-aab3-c98a59c6349b",
   "metadata": {},
   "outputs": [],
   "source": [
    "draft = pd.read_csv('~/F24-public/data/draft70yr.csv')"
   ]
  },
  {
   "cell_type": "code",
   "execution_count": null,
   "id": "d8bd60f8-5e02-49b3-b5b5-9f4855f2929b",
   "metadata": {},
   "outputs": [],
   "source": [
    "month_data = draft.groupby('Month').mean()\n",
    "month_data"
   ]
  },
  {
   "cell_type": "code",
   "execution_count": null,
   "id": "4e63489e-2234-435a-8072-1a5b22c37004",
   "metadata": {},
   "outputs": [],
   "source": [
    "sns.barplot(data=month_data, x='Month', y='Pick')"
   ]
  },
  {
   "cell_type": "code",
   "execution_count": null,
   "id": "27c3902a-8c8e-4223-9926-9bb2ce012e38",
   "metadata": {},
   "outputs": [],
   "source": []
  }
 ],
 "metadata": {
  "kernelspec": {
   "display_name": "Python 3 (ipykernel)",
   "language": "python",
   "name": "python3"
  },
  "language_info": {
   "codemirror_mode": {
    "name": "ipython",
    "version": 3
   },
   "file_extension": ".py",
   "mimetype": "text/x-python",
   "name": "python",
   "nbconvert_exporter": "python",
   "pygments_lexer": "ipython3",
   "version": "3.10.10"
  }
 },
 "nbformat": 4,
 "nbformat_minor": 5
}
