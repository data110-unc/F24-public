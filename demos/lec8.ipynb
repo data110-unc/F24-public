{
 "cells": [
  {
   "cell_type": "code",
   "execution_count": null,
   "id": "9b481d4e-4ccd-4bb2-8ace-2250129518a3",
   "metadata": {},
   "outputs": [],
   "source": [
    "import seaborn as sns\n",
    "import pandas as pd"
   ]
  },
  {
   "cell_type": "markdown",
   "id": "0b438ed8-9792-416a-b60c-2c9ed7979857",
   "metadata": {},
   "source": [
    "Review of table operations\n",
    "\n",
    "Q) Find the names of all point guards (PG) who made more than $15M.\n",
    "\n",
    "When working with tables on the kinds of questions in this lab and in lecture, start by thinking:\n",
    "\n",
    "1. row selection: \"Which rows do I need? How do I get those rows?\"\n",
    "2. column selection: \"Which columns do I need?\"\n",
    "3. action: \"What do I want to do with these columns? Do I want to calculate a single number like average? Do I need to manipulate all rows in this column to get another column of the same size?\"\n",
    "4. result: \"Do I need to assign the output of this to another variable?\"\n",
    "\n",
    "Thinking through what you are trying to do step by step makes these kinds of problems much easier."
   ]
  },
  {
   "cell_type": "markdown",
   "id": "5fb6c1ff-8c93-4f03-b061-60a58045c2a5",
   "metadata": {},
   "source": [
    "A) \n"
   ]
  },
  {
   "cell_type": "code",
   "execution_count": null,
   "id": "143987c9-6c86-4cfd-92f2-aee33d7f2d6e",
   "metadata": {},
   "outputs": [],
   "source": []
  },
  {
   "cell_type": "code",
   "execution_count": null,
   "id": "36909619-4e0a-4650-a8bf-280b84dbe938",
   "metadata": {},
   "outputs": [],
   "source": [
    "penguins = pd.read_csv('~/F24-public/data/palmer_penguins.csv')\n",
    "penguins.tail()"
   ]
  },
  {
   "cell_type": "code",
   "execution_count": null,
   "id": "9d7ff9d5-4163-4e0e-9188-30c9b5ef03e3",
   "metadata": {},
   "outputs": [],
   "source": [
    "gme = pd.read_csv('~/F24-public/data/gamestop.csv')\n",
    "sns.lineplot(data=gme, x='Date', y='Open')"
   ]
  },
  {
   "cell_type": "code",
   "execution_count": null,
   "id": "9eb4ee17-5688-4de1-ac95-78b79d1a4d6c",
   "metadata": {},
   "outputs": [],
   "source": [
    "gme = pd.read_csv('~/F24-public/data/gamestop.csv', \n",
    "                  index_col=\"Date\", \n",
    "                  parse_dates=True)\n",
    "sns.lineplot(data=gme, x='Date', y='Open')"
   ]
  },
  {
   "cell_type": "code",
   "execution_count": null,
   "id": "9cc7afe7-346c-44a8-bd36-aea77b49d4c1",
   "metadata": {},
   "outputs": [],
   "source": [
    "dugong = pd.read_csv('~/F24-public/data/dugong.csv')\n",
    "dugong.head()"
   ]
  },
  {
   "cell_type": "code",
   "execution_count": null,
   "id": "37a4f601-50bf-40a5-a5c8-f755226254d5",
   "metadata": {},
   "outputs": [],
   "source": [
    "sns.scatterplot(data=dugong, x='Age', y='Length')"
   ]
  },
  {
   "cell_type": "code",
   "execution_count": null,
   "id": "d730c841-c821-4dff-bb86-ebae66649d7e",
   "metadata": {},
   "outputs": [],
   "source": [
    "movies = pd.read_csv('~/F24-public/data/top_movies_2017.csv')\n",
    "movies.head()"
   ]
  },
  {
   "cell_type": "code",
   "execution_count": null,
   "id": "e2ecead7-9264-41d1-897d-004c60554578",
   "metadata": {},
   "outputs": [],
   "source": [
    "count_df = movies.groupby('Year').count()\n",
    "#count_df = movies.groupby('Year').nunique()\n",
    "\n",
    "count_df.head()"
   ]
  },
  {
   "cell_type": "code",
   "execution_count": null,
   "id": "d2aa5fc1-0922-41f0-b581-61f408768163",
   "metadata": {},
   "outputs": [],
   "source": [
    "sns.lineplot(data=count_df, x='Year', y='Title')"
   ]
  },
  {
   "cell_type": "code",
   "execution_count": null,
   "id": "e801def9-b044-45e4-bad4-2fabfaa058c0",
   "metadata": {},
   "outputs": [],
   "source": [
    "avg_df = movies.groupby('Year').mean(numeric_only=True)\n",
    "avg_df"
   ]
  },
  {
   "cell_type": "code",
   "execution_count": null,
   "id": "47c1a79b-8a56-4529-8ad6-50f5c4717a83",
   "metadata": {},
   "outputs": [],
   "source": [
    "sns.scatterplot(data=avg_df, x='Year', y='Gross')"
   ]
  },
  {
   "cell_type": "code",
   "execution_count": null,
   "id": "bca26332-65a9-4258-87fe-7cfbda87aaaf",
   "metadata": {},
   "outputs": [],
   "source": [
    "sns.lineplot(data=avg_df, x='Year', y='Gross')"
   ]
  },
  {
   "cell_type": "code",
   "execution_count": null,
   "id": "8c23bda0-2707-4863-b4d7-abb0db7eab4c",
   "metadata": {},
   "outputs": [],
   "source": [
    "sns.scatterplot(data=avg_df, x='Year', y='Gross')\n",
    "sns.scatterplot(data=avg_df, x='Year', y='Gross (Adjusted)')"
   ]
  },
  {
   "cell_type": "code",
   "execution_count": null,
   "id": "08bd800b-60fe-4e2f-a6d8-2caf46e3da8f",
   "metadata": {},
   "outputs": [],
   "source": [
    "studio = movies.groupby('Studio').count()\n",
    "sns.barplot(data=studio, y='Studio', x='Gross', orient='h')"
   ]
  },
  {
   "cell_type": "code",
   "execution_count": null,
   "id": "8fe1f83c-a362-4563-a6c4-c8d683f49d41",
   "metadata": {},
   "outputs": [],
   "source": []
  }
 ],
 "metadata": {
  "kernelspec": {
   "display_name": "Python 3 (ipykernel)",
   "language": "python",
   "name": "python3"
  },
  "language_info": {
   "codemirror_mode": {
    "name": "ipython",
    "version": 3
   },
   "file_extension": ".py",
   "mimetype": "text/x-python",
   "name": "python",
   "nbconvert_exporter": "python",
   "pygments_lexer": "ipython3",
   "version": "3.10.10"
  }
 },
 "nbformat": 4,
 "nbformat_minor": 5
}
