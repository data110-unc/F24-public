{
 "cells": [
  {
   "cell_type": "code",
   "execution_count": 1,
   "id": "b2462e72-2303-45dd-970a-44d72e88b060",
   "metadata": {},
   "outputs": [],
   "source": [
    "import pandas as pd"
   ]
  },
  {
   "cell_type": "code",
   "execution_count": 2,
   "id": "ac87eff8-609b-4f5a-8cff-a5fa9ea309f0",
   "metadata": {},
   "outputs": [
    {
     "data": {
      "text/html": [
       "<div>\n",
       "<style scoped>\n",
       "    .dataframe tbody tr th:only-of-type {\n",
       "        vertical-align: middle;\n",
       "    }\n",
       "\n",
       "    .dataframe tbody tr th {\n",
       "        vertical-align: top;\n",
       "    }\n",
       "\n",
       "    .dataframe thead th {\n",
       "        text-align: right;\n",
       "    }\n",
       "</style>\n",
       "<table border=\"1\" class=\"dataframe\">\n",
       "  <thead>\n",
       "    <tr style=\"text-align: right;\">\n",
       "      <th></th>\n",
       "      <th>rank</th>\n",
       "      <th>name</th>\n",
       "      <th>position</th>\n",
       "      <th>team</th>\n",
       "      <th>salary</th>\n",
       "      <th>season</th>\n",
       "    </tr>\n",
       "  </thead>\n",
       "  <tbody>\n",
       "    <tr>\n",
       "      <th>0</th>\n",
       "      <td>1</td>\n",
       "      <td>Shaquille O'Neal</td>\n",
       "      <td>C</td>\n",
       "      <td>Los Angeles Lakers</td>\n",
       "      <td>17142000</td>\n",
       "      <td>2000</td>\n",
       "    </tr>\n",
       "    <tr>\n",
       "      <th>1</th>\n",
       "      <td>2</td>\n",
       "      <td>Kevin Garnett</td>\n",
       "      <td>PF</td>\n",
       "      <td>Minnesota Timberwolves</td>\n",
       "      <td>16806000</td>\n",
       "      <td>2000</td>\n",
       "    </tr>\n",
       "    <tr>\n",
       "      <th>2</th>\n",
       "      <td>3</td>\n",
       "      <td>Alonzo Mourning</td>\n",
       "      <td>C</td>\n",
       "      <td>Miami Heat</td>\n",
       "      <td>15004000</td>\n",
       "      <td>2000</td>\n",
       "    </tr>\n",
       "    <tr>\n",
       "      <th>3</th>\n",
       "      <td>4</td>\n",
       "      <td>Juwan Howard</td>\n",
       "      <td>PF</td>\n",
       "      <td>Washington Wizards</td>\n",
       "      <td>15000000</td>\n",
       "      <td>2000</td>\n",
       "    </tr>\n",
       "    <tr>\n",
       "      <th>4</th>\n",
       "      <td>5</td>\n",
       "      <td>Scottie Pippen</td>\n",
       "      <td>SF</td>\n",
       "      <td>Portland Trail Blazers</td>\n",
       "      <td>14795000</td>\n",
       "      <td>2000</td>\n",
       "    </tr>\n",
       "    <tr>\n",
       "      <th>...</th>\n",
       "      <td>...</td>\n",
       "      <td>...</td>\n",
       "      <td>...</td>\n",
       "      <td>...</td>\n",
       "      <td>...</td>\n",
       "      <td>...</td>\n",
       "    </tr>\n",
       "    <tr>\n",
       "      <th>9451</th>\n",
       "      <td>524</td>\n",
       "      <td>Jimmer Fredette</td>\n",
       "      <td>G</td>\n",
       "      <td>Phoenix Suns</td>\n",
       "      <td>208509</td>\n",
       "      <td>2020</td>\n",
       "    </tr>\n",
       "    <tr>\n",
       "      <th>9452</th>\n",
       "      <td>525</td>\n",
       "      <td>Jontay Porter</td>\n",
       "      <td>PF</td>\n",
       "      <td>Memphis Grizzlies</td>\n",
       "      <td>197933</td>\n",
       "      <td>2020</td>\n",
       "    </tr>\n",
       "    <tr>\n",
       "      <th>9453</th>\n",
       "      <td>526</td>\n",
       "      <td>Anthony Tolliver</td>\n",
       "      <td>PF</td>\n",
       "      <td>Memphis Grizzlies</td>\n",
       "      <td>183115</td>\n",
       "      <td>2020</td>\n",
       "    </tr>\n",
       "    <tr>\n",
       "      <th>9454</th>\n",
       "      <td>527</td>\n",
       "      <td>Tyler Johnson</td>\n",
       "      <td>SG</td>\n",
       "      <td>Phoenix Suns</td>\n",
       "      <td>183115</td>\n",
       "      <td>2020</td>\n",
       "    </tr>\n",
       "    <tr>\n",
       "      <th>9455</th>\n",
       "      <td>528</td>\n",
       "      <td>Luguentz Dort</td>\n",
       "      <td>SG</td>\n",
       "      <td>Oklahoma City Thunder</td>\n",
       "      <td>155647</td>\n",
       "      <td>2020</td>\n",
       "    </tr>\n",
       "  </tbody>\n",
       "</table>\n",
       "<p>9456 rows × 6 columns</p>\n",
       "</div>"
      ],
      "text/plain": [
       "      rank              name position                    team    salary  \\\n",
       "0        1  Shaquille O'Neal        C      Los Angeles Lakers  17142000   \n",
       "1        2     Kevin Garnett       PF  Minnesota Timberwolves  16806000   \n",
       "2        3   Alonzo Mourning        C              Miami Heat  15004000   \n",
       "3        4      Juwan Howard       PF      Washington Wizards  15000000   \n",
       "4        5    Scottie Pippen       SF  Portland Trail Blazers  14795000   \n",
       "...    ...               ...      ...                     ...       ...   \n",
       "9451   524   Jimmer Fredette        G            Phoenix Suns    208509   \n",
       "9452   525     Jontay Porter       PF       Memphis Grizzlies    197933   \n",
       "9453   526  Anthony Tolliver       PF       Memphis Grizzlies    183115   \n",
       "9454   527     Tyler Johnson       SG            Phoenix Suns    183115   \n",
       "9455   528     Luguentz Dort       SG   Oklahoma City Thunder    155647   \n",
       "\n",
       "      season  \n",
       "0       2000  \n",
       "1       2000  \n",
       "2       2000  \n",
       "3       2000  \n",
       "4       2000  \n",
       "...      ...  \n",
       "9451    2020  \n",
       "9452    2020  \n",
       "9453    2020  \n",
       "9454    2020  \n",
       "9455    2020  \n",
       "\n",
       "[9456 rows x 6 columns]"
      ]
     },
     "execution_count": 2,
     "metadata": {},
     "output_type": "execute_result"
    }
   ],
   "source": [
    "nba = pd.read_csv('~/F24-public/data/nba_salaries.csv')\n",
    "nba"
   ]
  },
  {
   "cell_type": "code",
   "execution_count": 3,
   "id": "6ba16744-3778-4d27-9cf4-bb0887b4e37d",
   "metadata": {},
   "outputs": [
    {
     "data": {
      "text/plain": [
       "pandas.core.frame.DataFrame"
      ]
     },
     "execution_count": 3,
     "metadata": {},
     "output_type": "execute_result"
    }
   ],
   "source": [
    "type(nba)"
   ]
  },
  {
   "cell_type": "code",
   "execution_count": 4,
   "id": "86f97bd2-e0a8-4b7d-bd73-12cf23d0e91f",
   "metadata": {},
   "outputs": [
    {
     "data": {
      "text/html": [
       "<div>\n",
       "<style scoped>\n",
       "    .dataframe tbody tr th:only-of-type {\n",
       "        vertical-align: middle;\n",
       "    }\n",
       "\n",
       "    .dataframe tbody tr th {\n",
       "        vertical-align: top;\n",
       "    }\n",
       "\n",
       "    .dataframe thead th {\n",
       "        text-align: right;\n",
       "    }\n",
       "</style>\n",
       "<table border=\"1\" class=\"dataframe\">\n",
       "  <thead>\n",
       "    <tr style=\"text-align: right;\">\n",
       "      <th></th>\n",
       "      <th>rank</th>\n",
       "      <th>name</th>\n",
       "      <th>position</th>\n",
       "      <th>team</th>\n",
       "      <th>salary</th>\n",
       "      <th>season</th>\n",
       "    </tr>\n",
       "  </thead>\n",
       "  <tbody>\n",
       "    <tr>\n",
       "      <th>0</th>\n",
       "      <td>1</td>\n",
       "      <td>Shaquille O'Neal</td>\n",
       "      <td>C</td>\n",
       "      <td>Los Angeles Lakers</td>\n",
       "      <td>17142000</td>\n",
       "      <td>2000</td>\n",
       "    </tr>\n",
       "    <tr>\n",
       "      <th>1</th>\n",
       "      <td>2</td>\n",
       "      <td>Kevin Garnett</td>\n",
       "      <td>PF</td>\n",
       "      <td>Minnesota Timberwolves</td>\n",
       "      <td>16806000</td>\n",
       "      <td>2000</td>\n",
       "    </tr>\n",
       "    <tr>\n",
       "      <th>2</th>\n",
       "      <td>3</td>\n",
       "      <td>Alonzo Mourning</td>\n",
       "      <td>C</td>\n",
       "      <td>Miami Heat</td>\n",
       "      <td>15004000</td>\n",
       "      <td>2000</td>\n",
       "    </tr>\n",
       "    <tr>\n",
       "      <th>3</th>\n",
       "      <td>4</td>\n",
       "      <td>Juwan Howard</td>\n",
       "      <td>PF</td>\n",
       "      <td>Washington Wizards</td>\n",
       "      <td>15000000</td>\n",
       "      <td>2000</td>\n",
       "    </tr>\n",
       "    <tr>\n",
       "      <th>4</th>\n",
       "      <td>5</td>\n",
       "      <td>Scottie Pippen</td>\n",
       "      <td>SF</td>\n",
       "      <td>Portland Trail Blazers</td>\n",
       "      <td>14795000</td>\n",
       "      <td>2000</td>\n",
       "    </tr>\n",
       "    <tr>\n",
       "      <th>5</th>\n",
       "      <td>6</td>\n",
       "      <td>Karl Malone</td>\n",
       "      <td>PF</td>\n",
       "      <td>Utah Jazz</td>\n",
       "      <td>14000000</td>\n",
       "      <td>2000</td>\n",
       "    </tr>\n",
       "    <tr>\n",
       "      <th>6</th>\n",
       "      <td>7</td>\n",
       "      <td>Larry Johnson</td>\n",
       "      <td>F</td>\n",
       "      <td>New York Knicks</td>\n",
       "      <td>11910000</td>\n",
       "      <td>2000</td>\n",
       "    </tr>\n",
       "    <tr>\n",
       "      <th>7</th>\n",
       "      <td>8</td>\n",
       "      <td>Gary Payton</td>\n",
       "      <td>PG</td>\n",
       "      <td>Seattle SuperSonics</td>\n",
       "      <td>11020000</td>\n",
       "      <td>2000</td>\n",
       "    </tr>\n",
       "    <tr>\n",
       "      <th>8</th>\n",
       "      <td>9</td>\n",
       "      <td>Rasheed Wallace</td>\n",
       "      <td>PF</td>\n",
       "      <td>Portland Trail Blazers</td>\n",
       "      <td>10800000</td>\n",
       "      <td>2000</td>\n",
       "    </tr>\n",
       "    <tr>\n",
       "      <th>9</th>\n",
       "      <td>10</td>\n",
       "      <td>Shawn Kemp</td>\n",
       "      <td>C</td>\n",
       "      <td>Cleveland Cavaliers</td>\n",
       "      <td>10780000</td>\n",
       "      <td>2000</td>\n",
       "    </tr>\n",
       "  </tbody>\n",
       "</table>\n",
       "</div>"
      ],
      "text/plain": [
       "   rank              name position                    team    salary  season\n",
       "0     1  Shaquille O'Neal        C      Los Angeles Lakers  17142000    2000\n",
       "1     2     Kevin Garnett       PF  Minnesota Timberwolves  16806000    2000\n",
       "2     3   Alonzo Mourning        C              Miami Heat  15004000    2000\n",
       "3     4      Juwan Howard       PF      Washington Wizards  15000000    2000\n",
       "4     5    Scottie Pippen       SF  Portland Trail Blazers  14795000    2000\n",
       "5     6       Karl Malone       PF               Utah Jazz  14000000    2000\n",
       "6     7     Larry Johnson        F         New York Knicks  11910000    2000\n",
       "7     8       Gary Payton       PG     Seattle SuperSonics  11020000    2000\n",
       "8     9   Rasheed Wallace       PF  Portland Trail Blazers  10800000    2000\n",
       "9    10        Shawn Kemp        C     Cleveland Cavaliers  10780000    2000"
      ]
     },
     "execution_count": 4,
     "metadata": {},
     "output_type": "execute_result"
    }
   ],
   "source": [
    "nba.head(10)"
   ]
  },
  {
   "cell_type": "code",
   "execution_count": 5,
   "id": "af7e6efa-3dd5-4f39-b6a9-373ce62dc6ed",
   "metadata": {},
   "outputs": [
    {
     "data": {
      "text/html": [
       "<div>\n",
       "<style scoped>\n",
       "    .dataframe tbody tr th:only-of-type {\n",
       "        vertical-align: middle;\n",
       "    }\n",
       "\n",
       "    .dataframe tbody tr th {\n",
       "        vertical-align: top;\n",
       "    }\n",
       "\n",
       "    .dataframe thead th {\n",
       "        text-align: right;\n",
       "    }\n",
       "</style>\n",
       "<table border=\"1\" class=\"dataframe\">\n",
       "  <thead>\n",
       "    <tr style=\"text-align: right;\">\n",
       "      <th></th>\n",
       "      <th>rank</th>\n",
       "      <th>name</th>\n",
       "      <th>position</th>\n",
       "      <th>team</th>\n",
       "      <th>salary</th>\n",
       "      <th>season</th>\n",
       "    </tr>\n",
       "  </thead>\n",
       "  <tbody>\n",
       "    <tr>\n",
       "      <th>9451</th>\n",
       "      <td>524</td>\n",
       "      <td>Jimmer Fredette</td>\n",
       "      <td>G</td>\n",
       "      <td>Phoenix Suns</td>\n",
       "      <td>208509</td>\n",
       "      <td>2020</td>\n",
       "    </tr>\n",
       "    <tr>\n",
       "      <th>9452</th>\n",
       "      <td>525</td>\n",
       "      <td>Jontay Porter</td>\n",
       "      <td>PF</td>\n",
       "      <td>Memphis Grizzlies</td>\n",
       "      <td>197933</td>\n",
       "      <td>2020</td>\n",
       "    </tr>\n",
       "    <tr>\n",
       "      <th>9453</th>\n",
       "      <td>526</td>\n",
       "      <td>Anthony Tolliver</td>\n",
       "      <td>PF</td>\n",
       "      <td>Memphis Grizzlies</td>\n",
       "      <td>183115</td>\n",
       "      <td>2020</td>\n",
       "    </tr>\n",
       "    <tr>\n",
       "      <th>9454</th>\n",
       "      <td>527</td>\n",
       "      <td>Tyler Johnson</td>\n",
       "      <td>SG</td>\n",
       "      <td>Phoenix Suns</td>\n",
       "      <td>183115</td>\n",
       "      <td>2020</td>\n",
       "    </tr>\n",
       "    <tr>\n",
       "      <th>9455</th>\n",
       "      <td>528</td>\n",
       "      <td>Luguentz Dort</td>\n",
       "      <td>SG</td>\n",
       "      <td>Oklahoma City Thunder</td>\n",
       "      <td>155647</td>\n",
       "      <td>2020</td>\n",
       "    </tr>\n",
       "  </tbody>\n",
       "</table>\n",
       "</div>"
      ],
      "text/plain": [
       "      rank              name position                   team  salary  season\n",
       "9451   524   Jimmer Fredette        G           Phoenix Suns  208509    2020\n",
       "9452   525     Jontay Porter       PF      Memphis Grizzlies  197933    2020\n",
       "9453   526  Anthony Tolliver       PF      Memphis Grizzlies  183115    2020\n",
       "9454   527     Tyler Johnson       SG           Phoenix Suns  183115    2020\n",
       "9455   528     Luguentz Dort       SG  Oklahoma City Thunder  155647    2020"
      ]
     },
     "execution_count": 5,
     "metadata": {},
     "output_type": "execute_result"
    }
   ],
   "source": [
    "nba.tail()"
   ]
  },
  {
   "cell_type": "code",
   "execution_count": 6,
   "id": "c5c1e64f-3c5b-4b2c-86f6-f82d61b412bd",
   "metadata": {},
   "outputs": [
    {
     "data": {
      "text/html": [
       "<div>\n",
       "<style scoped>\n",
       "    .dataframe tbody tr th:only-of-type {\n",
       "        vertical-align: middle;\n",
       "    }\n",
       "\n",
       "    .dataframe tbody tr th {\n",
       "        vertical-align: top;\n",
       "    }\n",
       "\n",
       "    .dataframe thead th {\n",
       "        text-align: right;\n",
       "    }\n",
       "</style>\n",
       "<table border=\"1\" class=\"dataframe\">\n",
       "  <thead>\n",
       "    <tr style=\"text-align: right;\">\n",
       "      <th></th>\n",
       "      <th>rank</th>\n",
       "      <th>name</th>\n",
       "      <th>position</th>\n",
       "      <th>team</th>\n",
       "      <th>salary</th>\n",
       "      <th>season</th>\n",
       "    </tr>\n",
       "  </thead>\n",
       "  <tbody>\n",
       "    <tr>\n",
       "      <th>6967</th>\n",
       "      <td>256</td>\n",
       "      <td>Aaron Brooks</td>\n",
       "      <td>G</td>\n",
       "      <td>Chicago Bulls</td>\n",
       "      <td>2250000</td>\n",
       "      <td>2016</td>\n",
       "    </tr>\n",
       "    <tr>\n",
       "      <th>2255</th>\n",
       "      <td>293</td>\n",
       "      <td>Cedric Simmons</td>\n",
       "      <td>SF</td>\n",
       "      <td>NO/Oklahoma City Hornets</td>\n",
       "      <td>1515480</td>\n",
       "      <td>2007</td>\n",
       "    </tr>\n",
       "    <tr>\n",
       "      <th>1246</th>\n",
       "      <td>20</td>\n",
       "      <td>Keith Van Horn</td>\n",
       "      <td>PF</td>\n",
       "      <td>New York Knicks</td>\n",
       "      <td>13280000</td>\n",
       "      <td>2004</td>\n",
       "    </tr>\n",
       "    <tr>\n",
       "      <th>3694</th>\n",
       "      <td>286</td>\n",
       "      <td>J.J. Barea</td>\n",
       "      <td>PG</td>\n",
       "      <td>Dallas Mavericks</td>\n",
       "      <td>1657500</td>\n",
       "      <td>2010</td>\n",
       "    </tr>\n",
       "    <tr>\n",
       "      <th>302</th>\n",
       "      <td>146</td>\n",
       "      <td>Chucky Atkins</td>\n",
       "      <td>PG</td>\n",
       "      <td>Detroit Pistons</td>\n",
       "      <td>3000000</td>\n",
       "      <td>2001</td>\n",
       "    </tr>\n",
       "  </tbody>\n",
       "</table>\n",
       "</div>"
      ],
      "text/plain": [
       "      rank            name position                      team    salary  \\\n",
       "6967   256    Aaron Brooks        G             Chicago Bulls   2250000   \n",
       "2255   293  Cedric Simmons       SF  NO/Oklahoma City Hornets   1515480   \n",
       "1246    20  Keith Van Horn       PF           New York Knicks  13280000   \n",
       "3694   286      J.J. Barea       PG          Dallas Mavericks   1657500   \n",
       "302    146   Chucky Atkins       PG           Detroit Pistons   3000000   \n",
       "\n",
       "      season  \n",
       "6967    2016  \n",
       "2255    2007  \n",
       "1246    2004  \n",
       "3694    2010  \n",
       "302     2001  "
      ]
     },
     "execution_count": 6,
     "metadata": {},
     "output_type": "execute_result"
    }
   ],
   "source": [
    "nba.sample(5)"
   ]
  },
  {
   "cell_type": "code",
   "execution_count": 7,
   "id": "f66c3cd7-65bf-4f67-abc6-028b5db320ee",
   "metadata": {},
   "outputs": [
    {
     "name": "stdout",
     "output_type": "stream",
     "text": [
      "<class 'pandas.core.frame.DataFrame'>\n",
      "RangeIndex: 9456 entries, 0 to 9455\n",
      "Data columns (total 6 columns):\n",
      " #   Column    Non-Null Count  Dtype \n",
      "---  ------    --------------  ----- \n",
      " 0   rank      9456 non-null   int64 \n",
      " 1   name      9456 non-null   object\n",
      " 2   position  9399 non-null   object\n",
      " 3   team      9456 non-null   object\n",
      " 4   salary    9456 non-null   int64 \n",
      " 5   season    9456 non-null   int64 \n",
      "dtypes: int64(3), object(3)\n",
      "memory usage: 443.4+ KB\n"
     ]
    }
   ],
   "source": [
    "nba.info()"
   ]
  },
  {
   "cell_type": "code",
   "execution_count": 8,
   "id": "c0393a5c-8292-4b20-9b00-c5d1fefaa954",
   "metadata": {},
   "outputs": [
    {
     "data": {
      "text/plain": [
       "(9456, 6)"
      ]
     },
     "execution_count": 8,
     "metadata": {},
     "output_type": "execute_result"
    }
   ],
   "source": [
    "nba.shape # number of rows, number of columns"
   ]
  },
  {
   "cell_type": "code",
   "execution_count": 9,
   "id": "bcef635b-e04b-4a02-9502-ab9854fe2c6e",
   "metadata": {},
   "outputs": [
    {
     "data": {
      "text/plain": [
       "Index(['rank', 'name', 'position', 'team', 'salary', 'season'], dtype='object')"
      ]
     },
     "execution_count": 9,
     "metadata": {},
     "output_type": "execute_result"
    }
   ],
   "source": [
    "nba.columns"
   ]
  },
  {
   "cell_type": "code",
   "execution_count": 10,
   "id": "1ddf55b8-4dba-42e8-bb79-4830cb35de12",
   "metadata": {},
   "outputs": [
    {
     "data": {
      "text/plain": [
       "RangeIndex(start=0, stop=9456, step=1)"
      ]
     },
     "execution_count": 10,
     "metadata": {},
     "output_type": "execute_result"
    }
   ],
   "source": [
    "nba.index"
   ]
  },
  {
   "cell_type": "code",
   "execution_count": 11,
   "id": "4022a89c-fc6d-4233-ba0b-a349bab5d362",
   "metadata": {},
   "outputs": [
    {
     "data": {
      "text/plain": [
       "rank         int64\n",
       "name        object\n",
       "position    object\n",
       "team        object\n",
       "salary       int64\n",
       "season       int64\n",
       "dtype: object"
      ]
     },
     "execution_count": 11,
     "metadata": {},
     "output_type": "execute_result"
    }
   ],
   "source": [
    "nba.dtypes"
   ]
  },
  {
   "cell_type": "code",
   "execution_count": 12,
   "id": "07cdf340-290f-4d00-8e14-1c4a00e4b844",
   "metadata": {},
   "outputs": [
    {
     "data": {
      "text/html": [
       "<div>\n",
       "<style scoped>\n",
       "    .dataframe tbody tr th:only-of-type {\n",
       "        vertical-align: middle;\n",
       "    }\n",
       "\n",
       "    .dataframe tbody tr th {\n",
       "        vertical-align: top;\n",
       "    }\n",
       "\n",
       "    .dataframe thead th {\n",
       "        text-align: right;\n",
       "    }\n",
       "</style>\n",
       "<table border=\"1\" class=\"dataframe\">\n",
       "  <thead>\n",
       "    <tr style=\"text-align: right;\">\n",
       "      <th></th>\n",
       "      <th>rank</th>\n",
       "      <th>salary</th>\n",
       "      <th>season</th>\n",
       "    </tr>\n",
       "  </thead>\n",
       "  <tbody>\n",
       "    <tr>\n",
       "      <th>count</th>\n",
       "      <td>9456.000000</td>\n",
       "      <td>9.456000e+03</td>\n",
       "      <td>9456.000000</td>\n",
       "    </tr>\n",
       "    <tr>\n",
       "      <th>mean</th>\n",
       "      <td>250.483714</td>\n",
       "      <td>4.486115e+06</td>\n",
       "      <td>2011.438029</td>\n",
       "    </tr>\n",
       "    <tr>\n",
       "      <th>std</th>\n",
       "      <td>159.477367</td>\n",
       "      <td>5.366191e+06</td>\n",
       "      <td>5.623698</td>\n",
       "    </tr>\n",
       "    <tr>\n",
       "      <th>min</th>\n",
       "      <td>1.000000</td>\n",
       "      <td>2.692000e+03</td>\n",
       "      <td>2000.000000</td>\n",
       "    </tr>\n",
       "    <tr>\n",
       "      <th>25%</th>\n",
       "      <td>113.000000</td>\n",
       "      <td>9.152430e+05</td>\n",
       "      <td>2007.000000</td>\n",
       "    </tr>\n",
       "    <tr>\n",
       "      <th>50%</th>\n",
       "      <td>238.000000</td>\n",
       "      <td>2.351330e+06</td>\n",
       "      <td>2012.000000</td>\n",
       "    </tr>\n",
       "    <tr>\n",
       "      <th>75%</th>\n",
       "      <td>374.000000</td>\n",
       "      <td>5.822036e+06</td>\n",
       "      <td>2016.000000</td>\n",
       "    </tr>\n",
       "    <tr>\n",
       "      <th>max</th>\n",
       "      <td>699.000000</td>\n",
       "      <td>4.023176e+07</td>\n",
       "      <td>2020.000000</td>\n",
       "    </tr>\n",
       "  </tbody>\n",
       "</table>\n",
       "</div>"
      ],
      "text/plain": [
       "              rank        salary       season\n",
       "count  9456.000000  9.456000e+03  9456.000000\n",
       "mean    250.483714  4.486115e+06  2011.438029\n",
       "std     159.477367  5.366191e+06     5.623698\n",
       "min       1.000000  2.692000e+03  2000.000000\n",
       "25%     113.000000  9.152430e+05  2007.000000\n",
       "50%     238.000000  2.351330e+06  2012.000000\n",
       "75%     374.000000  5.822036e+06  2016.000000\n",
       "max     699.000000  4.023176e+07  2020.000000"
      ]
     },
     "execution_count": 12,
     "metadata": {},
     "output_type": "execute_result"
    }
   ],
   "source": [
    "nba.describe() # only works on numerical columns"
   ]
  },
  {
   "cell_type": "code",
   "execution_count": 13,
   "id": "de19f6f0-b086-4b44-8b80-8e06484b1302",
   "metadata": {},
   "outputs": [
    {
     "data": {
      "text/plain": [
       "0       Shaquille O'Neal\n",
       "1          Kevin Garnett\n",
       "2        Alonzo Mourning\n",
       "3           Juwan Howard\n",
       "4         Scottie Pippen\n",
       "              ...       \n",
       "9451     Jimmer Fredette\n",
       "9452       Jontay Porter\n",
       "9453    Anthony Tolliver\n",
       "9454       Tyler Johnson\n",
       "9455       Luguentz Dort\n",
       "Name: name, Length: 9456, dtype: object"
      ]
     },
     "execution_count": 13,
     "metadata": {},
     "output_type": "execute_result"
    }
   ],
   "source": [
    "nba.name"
   ]
  },
  {
   "cell_type": "code",
   "execution_count": 14,
   "id": "587d5bd5-b184-4bd7-a713-d67d218b7331",
   "metadata": {},
   "outputs": [
    {
     "data": {
      "text/plain": [
       "0       Shaquille O'Neal\n",
       "1          Kevin Garnett\n",
       "2        Alonzo Mourning\n",
       "3           Juwan Howard\n",
       "4         Scottie Pippen\n",
       "              ...       \n",
       "9451     Jimmer Fredette\n",
       "9452       Jontay Porter\n",
       "9453    Anthony Tolliver\n",
       "9454       Tyler Johnson\n",
       "9455       Luguentz Dort\n",
       "Name: name, Length: 9456, dtype: object"
      ]
     },
     "execution_count": 14,
     "metadata": {},
     "output_type": "execute_result"
    }
   ],
   "source": [
    "nba['name']"
   ]
  },
  {
   "cell_type": "code",
   "execution_count": 15,
   "id": "92c63ce3-0919-4ae5-83f0-b691c1b66edf",
   "metadata": {},
   "outputs": [
    {
     "data": {
      "text/plain": [
       "'Juwan Howard'"
      ]
     },
     "execution_count": 15,
     "metadata": {},
     "output_type": "execute_result"
    }
   ],
   "source": [
    "nba.at[3, 'name'] # this is row label 3, not 3 from the top"
   ]
  },
  {
   "cell_type": "code",
   "execution_count": 16,
   "id": "0935c508-0a0e-4619-8f03-dd5bfaba6cd5",
   "metadata": {},
   "outputs": [
    {
     "data": {
      "text/plain": [
       "(np.int64(2692), np.int64(40231758))"
      ]
     },
     "execution_count": 16,
     "metadata": {},
     "output_type": "execute_result"
    }
   ],
   "source": [
    "nba.salary.min(), nba.salary.max()"
   ]
  },
  {
   "cell_type": "code",
   "execution_count": 17,
   "id": "752dfebe-72c3-4cfa-8d3d-ea47e5dd2df7",
   "metadata": {},
   "outputs": [
    {
     "data": {
      "text/plain": [
       "(np.float64(4486115.181154822), np.int64(42420705153))"
      ]
     },
     "execution_count": 17,
     "metadata": {},
     "output_type": "execute_result"
    }
   ],
   "source": [
    "nba.salary.mean(), nba.salary.sum()"
   ]
  },
  {
   "cell_type": "code",
   "execution_count": 18,
   "id": "2586db8d-49ff-48de-98c6-815a44a43f24",
   "metadata": {},
   "outputs": [
    {
     "data": {
      "text/plain": [
       "0       17142.000\n",
       "1       16806.000\n",
       "2       15004.000\n",
       "3       15000.000\n",
       "4       14795.000\n",
       "          ...    \n",
       "9451      208.509\n",
       "9452      197.933\n",
       "9453      183.115\n",
       "9454      183.115\n",
       "9455      155.647\n",
       "Name: salary, Length: 9456, dtype: float64"
      ]
     },
     "execution_count": 18,
     "metadata": {},
     "output_type": "execute_result"
    }
   ],
   "source": [
    "nba.salary/1000"
   ]
  },
  {
   "cell_type": "code",
   "execution_count": 19,
   "id": "1a4e1c2b-2081-4b25-a1d0-7352409d1c1c",
   "metadata": {},
   "outputs": [
    {
     "data": {
      "text/plain": [
       "0         Shaquille O'Neal (Los Angeles Lakers)\n",
       "1        Kevin Garnett (Minnesota Timberwolves)\n",
       "2                  Alonzo Mourning (Miami Heat)\n",
       "3             Juwan Howard (Washington Wizards)\n",
       "4       Scottie Pippen (Portland Trail Blazers)\n",
       "                         ...                   \n",
       "9451             Jimmer Fredette (Phoenix Suns)\n",
       "9452          Jontay Porter (Memphis Grizzlies)\n",
       "9453       Anthony Tolliver (Memphis Grizzlies)\n",
       "9454               Tyler Johnson (Phoenix Suns)\n",
       "9455      Luguentz Dort (Oklahoma City Thunder)\n",
       "Length: 9456, dtype: object"
      ]
     },
     "execution_count": 19,
     "metadata": {},
     "output_type": "execute_result"
    }
   ],
   "source": [
    "nba.name + ' (' + nba.team + ')'"
   ]
  },
  {
   "cell_type": "code",
   "execution_count": 20,
   "id": "db348c12-5dd2-4ca0-9380-fe5040c297b3",
   "metadata": {},
   "outputs": [
    {
     "data": {
      "text/plain": [
       "0       Shaquille O'Neal (17142000)\n",
       "1          Kevin Garnett (16806000)\n",
       "2        Alonzo Mourning (15004000)\n",
       "3           Juwan Howard (15000000)\n",
       "4         Scottie Pippen (14795000)\n",
       "                   ...             \n",
       "9451       Jimmer Fredette (208509)\n",
       "9452         Jontay Porter (197933)\n",
       "9453      Anthony Tolliver (183115)\n",
       "9454         Tyler Johnson (183115)\n",
       "9455         Luguentz Dort (155647)\n",
       "Length: 9456, dtype: object"
      ]
     },
     "execution_count": 20,
     "metadata": {},
     "output_type": "execute_result"
    }
   ],
   "source": [
    "nba.name + ' (' + nba.salary.astype(str) + ')'"
   ]
  },
  {
   "cell_type": "code",
   "execution_count": 21,
   "id": "47d41e22-5393-4754-8d08-5df4c53502b1",
   "metadata": {},
   "outputs": [
    {
     "data": {
      "text/plain": [
       "position\n",
       "C     1765\n",
       "PF    1731\n",
       "SG    1699\n",
       "PG    1475\n",
       "SF    1454\n",
       "G      696\n",
       "F      578\n",
       "GF       1\n",
       "Name: count, dtype: int64"
      ]
     },
     "execution_count": 21,
     "metadata": {},
     "output_type": "execute_result"
    }
   ],
   "source": [
    "nba.position.value_counts() # only meaningful in categorical columns"
   ]
  },
  {
   "cell_type": "markdown",
   "id": "fd67f809-db64-4412-bbbf-657dfc1059c0",
   "metadata": {},
   "source": [
    "Someone asked: Why does this look different? \n",
    "\n",
    "This is a Pandas data type for arrays (as opposed to tables). "
   ]
  },
  {
   "cell_type": "code",
   "execution_count": 22,
   "id": "4dae501f-bf14-46a3-8e9c-ef209ba3b65d",
   "metadata": {},
   "outputs": [
    {
     "data": {
      "text/plain": [
       "pandas.core.series.Series"
      ]
     },
     "execution_count": 22,
     "metadata": {},
     "output_type": "execute_result"
    }
   ],
   "source": [
    "pos_counts = nba.position.value_counts()\n",
    "type(pos_counts)"
   ]
  },
  {
   "cell_type": "markdown",
   "id": "3d5dbde9-cf12-4581-880b-c0942bc4b6d5",
   "metadata": {},
   "source": [
    "If we want, we can turn it into a table with one column by running the following code."
   ]
  },
  {
   "cell_type": "code",
   "execution_count": 23,
   "id": "36ff011f-d502-4742-843f-6c53e604b4f4",
   "metadata": {},
   "outputs": [
    {
     "data": {
      "text/html": [
       "<div>\n",
       "<style scoped>\n",
       "    .dataframe tbody tr th:only-of-type {\n",
       "        vertical-align: middle;\n",
       "    }\n",
       "\n",
       "    .dataframe tbody tr th {\n",
       "        vertical-align: top;\n",
       "    }\n",
       "\n",
       "    .dataframe thead th {\n",
       "        text-align: right;\n",
       "    }\n",
       "</style>\n",
       "<table border=\"1\" class=\"dataframe\">\n",
       "  <thead>\n",
       "    <tr style=\"text-align: right;\">\n",
       "      <th></th>\n",
       "      <th>count</th>\n",
       "    </tr>\n",
       "    <tr>\n",
       "      <th>position</th>\n",
       "      <th></th>\n",
       "    </tr>\n",
       "  </thead>\n",
       "  <tbody>\n",
       "    <tr>\n",
       "      <th>C</th>\n",
       "      <td>1765</td>\n",
       "    </tr>\n",
       "    <tr>\n",
       "      <th>PF</th>\n",
       "      <td>1731</td>\n",
       "    </tr>\n",
       "    <tr>\n",
       "      <th>SG</th>\n",
       "      <td>1699</td>\n",
       "    </tr>\n",
       "    <tr>\n",
       "      <th>PG</th>\n",
       "      <td>1475</td>\n",
       "    </tr>\n",
       "    <tr>\n",
       "      <th>SF</th>\n",
       "      <td>1454</td>\n",
       "    </tr>\n",
       "    <tr>\n",
       "      <th>G</th>\n",
       "      <td>696</td>\n",
       "    </tr>\n",
       "    <tr>\n",
       "      <th>F</th>\n",
       "      <td>578</td>\n",
       "    </tr>\n",
       "    <tr>\n",
       "      <th>GF</th>\n",
       "      <td>1</td>\n",
       "    </tr>\n",
       "  </tbody>\n",
       "</table>\n",
       "</div>"
      ],
      "text/plain": [
       "          count\n",
       "position       \n",
       "C          1765\n",
       "PF         1731\n",
       "SG         1699\n",
       "PG         1475\n",
       "SF         1454\n",
       "G           696\n",
       "F           578\n",
       "GF            1"
      ]
     },
     "execution_count": 23,
     "metadata": {},
     "output_type": "execute_result"
    }
   ],
   "source": [
    "pd.DataFrame(pos_counts)"
   ]
  },
  {
   "cell_type": "code",
   "execution_count": 24,
   "id": "ac84bba8-6579-49d8-803e-9bc6ddb2853e",
   "metadata": {},
   "outputs": [
    {
     "data": {
      "text/html": [
       "<div>\n",
       "<style scoped>\n",
       "    .dataframe tbody tr th:only-of-type {\n",
       "        vertical-align: middle;\n",
       "    }\n",
       "\n",
       "    .dataframe tbody tr th {\n",
       "        vertical-align: top;\n",
       "    }\n",
       "\n",
       "    .dataframe thead th {\n",
       "        text-align: right;\n",
       "    }\n",
       "</style>\n",
       "<table border=\"1\" class=\"dataframe\">\n",
       "  <thead>\n",
       "    <tr style=\"text-align: right;\">\n",
       "      <th></th>\n",
       "      <th>name</th>\n",
       "      <th>salary</th>\n",
       "    </tr>\n",
       "  </thead>\n",
       "  <tbody>\n",
       "    <tr>\n",
       "      <th>0</th>\n",
       "      <td>Shaquille O'Neal</td>\n",
       "      <td>17142000</td>\n",
       "    </tr>\n",
       "    <tr>\n",
       "      <th>1</th>\n",
       "      <td>Kevin Garnett</td>\n",
       "      <td>16806000</td>\n",
       "    </tr>\n",
       "    <tr>\n",
       "      <th>2</th>\n",
       "      <td>Alonzo Mourning</td>\n",
       "      <td>15004000</td>\n",
       "    </tr>\n",
       "    <tr>\n",
       "      <th>3</th>\n",
       "      <td>Juwan Howard</td>\n",
       "      <td>15000000</td>\n",
       "    </tr>\n",
       "    <tr>\n",
       "      <th>4</th>\n",
       "      <td>Scottie Pippen</td>\n",
       "      <td>14795000</td>\n",
       "    </tr>\n",
       "    <tr>\n",
       "      <th>...</th>\n",
       "      <td>...</td>\n",
       "      <td>...</td>\n",
       "    </tr>\n",
       "    <tr>\n",
       "      <th>9451</th>\n",
       "      <td>Jimmer Fredette</td>\n",
       "      <td>208509</td>\n",
       "    </tr>\n",
       "    <tr>\n",
       "      <th>9452</th>\n",
       "      <td>Jontay Porter</td>\n",
       "      <td>197933</td>\n",
       "    </tr>\n",
       "    <tr>\n",
       "      <th>9453</th>\n",
       "      <td>Anthony Tolliver</td>\n",
       "      <td>183115</td>\n",
       "    </tr>\n",
       "    <tr>\n",
       "      <th>9454</th>\n",
       "      <td>Tyler Johnson</td>\n",
       "      <td>183115</td>\n",
       "    </tr>\n",
       "    <tr>\n",
       "      <th>9455</th>\n",
       "      <td>Luguentz Dort</td>\n",
       "      <td>155647</td>\n",
       "    </tr>\n",
       "  </tbody>\n",
       "</table>\n",
       "<p>9456 rows × 2 columns</p>\n",
       "</div>"
      ],
      "text/plain": [
       "                  name    salary\n",
       "0     Shaquille O'Neal  17142000\n",
       "1        Kevin Garnett  16806000\n",
       "2      Alonzo Mourning  15004000\n",
       "3         Juwan Howard  15000000\n",
       "4       Scottie Pippen  14795000\n",
       "...                ...       ...\n",
       "9451   Jimmer Fredette    208509\n",
       "9452     Jontay Porter    197933\n",
       "9453  Anthony Tolliver    183115\n",
       "9454     Tyler Johnson    183115\n",
       "9455     Luguentz Dort    155647\n",
       "\n",
       "[9456 rows x 2 columns]"
      ]
     },
     "execution_count": 24,
     "metadata": {},
     "output_type": "execute_result"
    }
   ],
   "source": [
    "nba.filter(['name', 'salary']) # list of column names"
   ]
  },
  {
   "cell_type": "code",
   "execution_count": 25,
   "id": "cbbace6e-fb35-46d4-acb8-6f433ed42989",
   "metadata": {},
   "outputs": [
    {
     "data": {
      "text/html": [
       "<div>\n",
       "<style scoped>\n",
       "    .dataframe tbody tr th:only-of-type {\n",
       "        vertical-align: middle;\n",
       "    }\n",
       "\n",
       "    .dataframe tbody tr th {\n",
       "        vertical-align: top;\n",
       "    }\n",
       "\n",
       "    .dataframe thead th {\n",
       "        text-align: right;\n",
       "    }\n",
       "</style>\n",
       "<table border=\"1\" class=\"dataframe\">\n",
       "  <thead>\n",
       "    <tr style=\"text-align: right;\">\n",
       "      <th></th>\n",
       "      <th>name</th>\n",
       "      <th>position</th>\n",
       "      <th>team</th>\n",
       "      <th>salary</th>\n",
       "      <th>season</th>\n",
       "    </tr>\n",
       "  </thead>\n",
       "  <tbody>\n",
       "    <tr>\n",
       "      <th>0</th>\n",
       "      <td>Shaquille O'Neal</td>\n",
       "      <td>C</td>\n",
       "      <td>Los Angeles Lakers</td>\n",
       "      <td>17142000</td>\n",
       "      <td>2000</td>\n",
       "    </tr>\n",
       "    <tr>\n",
       "      <th>1</th>\n",
       "      <td>Kevin Garnett</td>\n",
       "      <td>PF</td>\n",
       "      <td>Minnesota Timberwolves</td>\n",
       "      <td>16806000</td>\n",
       "      <td>2000</td>\n",
       "    </tr>\n",
       "    <tr>\n",
       "      <th>2</th>\n",
       "      <td>Alonzo Mourning</td>\n",
       "      <td>C</td>\n",
       "      <td>Miami Heat</td>\n",
       "      <td>15004000</td>\n",
       "      <td>2000</td>\n",
       "    </tr>\n",
       "    <tr>\n",
       "      <th>3</th>\n",
       "      <td>Juwan Howard</td>\n",
       "      <td>PF</td>\n",
       "      <td>Washington Wizards</td>\n",
       "      <td>15000000</td>\n",
       "      <td>2000</td>\n",
       "    </tr>\n",
       "    <tr>\n",
       "      <th>4</th>\n",
       "      <td>Scottie Pippen</td>\n",
       "      <td>SF</td>\n",
       "      <td>Portland Trail Blazers</td>\n",
       "      <td>14795000</td>\n",
       "      <td>2000</td>\n",
       "    </tr>\n",
       "    <tr>\n",
       "      <th>...</th>\n",
       "      <td>...</td>\n",
       "      <td>...</td>\n",
       "      <td>...</td>\n",
       "      <td>...</td>\n",
       "      <td>...</td>\n",
       "    </tr>\n",
       "    <tr>\n",
       "      <th>9451</th>\n",
       "      <td>Jimmer Fredette</td>\n",
       "      <td>G</td>\n",
       "      <td>Phoenix Suns</td>\n",
       "      <td>208509</td>\n",
       "      <td>2020</td>\n",
       "    </tr>\n",
       "    <tr>\n",
       "      <th>9452</th>\n",
       "      <td>Jontay Porter</td>\n",
       "      <td>PF</td>\n",
       "      <td>Memphis Grizzlies</td>\n",
       "      <td>197933</td>\n",
       "      <td>2020</td>\n",
       "    </tr>\n",
       "    <tr>\n",
       "      <th>9453</th>\n",
       "      <td>Anthony Tolliver</td>\n",
       "      <td>PF</td>\n",
       "      <td>Memphis Grizzlies</td>\n",
       "      <td>183115</td>\n",
       "      <td>2020</td>\n",
       "    </tr>\n",
       "    <tr>\n",
       "      <th>9454</th>\n",
       "      <td>Tyler Johnson</td>\n",
       "      <td>SG</td>\n",
       "      <td>Phoenix Suns</td>\n",
       "      <td>183115</td>\n",
       "      <td>2020</td>\n",
       "    </tr>\n",
       "    <tr>\n",
       "      <th>9455</th>\n",
       "      <td>Luguentz Dort</td>\n",
       "      <td>SG</td>\n",
       "      <td>Oklahoma City Thunder</td>\n",
       "      <td>155647</td>\n",
       "      <td>2020</td>\n",
       "    </tr>\n",
       "  </tbody>\n",
       "</table>\n",
       "<p>9456 rows × 5 columns</p>\n",
       "</div>"
      ],
      "text/plain": [
       "                  name position                    team    salary  season\n",
       "0     Shaquille O'Neal        C      Los Angeles Lakers  17142000    2000\n",
       "1        Kevin Garnett       PF  Minnesota Timberwolves  16806000    2000\n",
       "2      Alonzo Mourning        C              Miami Heat  15004000    2000\n",
       "3         Juwan Howard       PF      Washington Wizards  15000000    2000\n",
       "4       Scottie Pippen       SF  Portland Trail Blazers  14795000    2000\n",
       "...                ...      ...                     ...       ...     ...\n",
       "9451   Jimmer Fredette        G            Phoenix Suns    208509    2020\n",
       "9452     Jontay Porter       PF       Memphis Grizzlies    197933    2020\n",
       "9453  Anthony Tolliver       PF       Memphis Grizzlies    183115    2020\n",
       "9454     Tyler Johnson       SG            Phoenix Suns    183115    2020\n",
       "9455     Luguentz Dort       SG   Oklahoma City Thunder    155647    2020\n",
       "\n",
       "[9456 rows x 5 columns]"
      ]
     },
     "execution_count": 25,
     "metadata": {},
     "output_type": "execute_result"
    }
   ],
   "source": [
    "nba.drop(columns=['rank']) # columns = list of column names"
   ]
  },
  {
   "cell_type": "markdown",
   "id": "782e4c12-4e73-481b-bada-a2588196105b",
   "metadata": {},
   "source": [
    "Nothing we've done so far changed the original table `nba`."
   ]
  },
  {
   "cell_type": "code",
   "execution_count": 26,
   "id": "4bfb18a0-2fea-47d4-8b3f-feddaee013d1",
   "metadata": {},
   "outputs": [
    {
     "data": {
      "text/html": [
       "<div>\n",
       "<style scoped>\n",
       "    .dataframe tbody tr th:only-of-type {\n",
       "        vertical-align: middle;\n",
       "    }\n",
       "\n",
       "    .dataframe tbody tr th {\n",
       "        vertical-align: top;\n",
       "    }\n",
       "\n",
       "    .dataframe thead th {\n",
       "        text-align: right;\n",
       "    }\n",
       "</style>\n",
       "<table border=\"1\" class=\"dataframe\">\n",
       "  <thead>\n",
       "    <tr style=\"text-align: right;\">\n",
       "      <th></th>\n",
       "      <th>rank</th>\n",
       "      <th>name</th>\n",
       "      <th>position</th>\n",
       "      <th>team</th>\n",
       "      <th>salary</th>\n",
       "      <th>season</th>\n",
       "      <th>sport</th>\n",
       "    </tr>\n",
       "  </thead>\n",
       "  <tbody>\n",
       "    <tr>\n",
       "      <th>0</th>\n",
       "      <td>1</td>\n",
       "      <td>Shaquille O'Neal</td>\n",
       "      <td>C</td>\n",
       "      <td>Los Angeles Lakers</td>\n",
       "      <td>17142000</td>\n",
       "      <td>2000</td>\n",
       "      <td>basketball</td>\n",
       "    </tr>\n",
       "    <tr>\n",
       "      <th>1</th>\n",
       "      <td>2</td>\n",
       "      <td>Kevin Garnett</td>\n",
       "      <td>PF</td>\n",
       "      <td>Minnesota Timberwolves</td>\n",
       "      <td>16806000</td>\n",
       "      <td>2000</td>\n",
       "      <td>basketball</td>\n",
       "    </tr>\n",
       "    <tr>\n",
       "      <th>2</th>\n",
       "      <td>3</td>\n",
       "      <td>Alonzo Mourning</td>\n",
       "      <td>C</td>\n",
       "      <td>Miami Heat</td>\n",
       "      <td>15004000</td>\n",
       "      <td>2000</td>\n",
       "      <td>basketball</td>\n",
       "    </tr>\n",
       "    <tr>\n",
       "      <th>3</th>\n",
       "      <td>4</td>\n",
       "      <td>Juwan Howard</td>\n",
       "      <td>PF</td>\n",
       "      <td>Washington Wizards</td>\n",
       "      <td>15000000</td>\n",
       "      <td>2000</td>\n",
       "      <td>basketball</td>\n",
       "    </tr>\n",
       "    <tr>\n",
       "      <th>4</th>\n",
       "      <td>5</td>\n",
       "      <td>Scottie Pippen</td>\n",
       "      <td>SF</td>\n",
       "      <td>Portland Trail Blazers</td>\n",
       "      <td>14795000</td>\n",
       "      <td>2000</td>\n",
       "      <td>basketball</td>\n",
       "    </tr>\n",
       "    <tr>\n",
       "      <th>...</th>\n",
       "      <td>...</td>\n",
       "      <td>...</td>\n",
       "      <td>...</td>\n",
       "      <td>...</td>\n",
       "      <td>...</td>\n",
       "      <td>...</td>\n",
       "      <td>...</td>\n",
       "    </tr>\n",
       "    <tr>\n",
       "      <th>9451</th>\n",
       "      <td>524</td>\n",
       "      <td>Jimmer Fredette</td>\n",
       "      <td>G</td>\n",
       "      <td>Phoenix Suns</td>\n",
       "      <td>208509</td>\n",
       "      <td>2020</td>\n",
       "      <td>basketball</td>\n",
       "    </tr>\n",
       "    <tr>\n",
       "      <th>9452</th>\n",
       "      <td>525</td>\n",
       "      <td>Jontay Porter</td>\n",
       "      <td>PF</td>\n",
       "      <td>Memphis Grizzlies</td>\n",
       "      <td>197933</td>\n",
       "      <td>2020</td>\n",
       "      <td>basketball</td>\n",
       "    </tr>\n",
       "    <tr>\n",
       "      <th>9453</th>\n",
       "      <td>526</td>\n",
       "      <td>Anthony Tolliver</td>\n",
       "      <td>PF</td>\n",
       "      <td>Memphis Grizzlies</td>\n",
       "      <td>183115</td>\n",
       "      <td>2020</td>\n",
       "      <td>basketball</td>\n",
       "    </tr>\n",
       "    <tr>\n",
       "      <th>9454</th>\n",
       "      <td>527</td>\n",
       "      <td>Tyler Johnson</td>\n",
       "      <td>SG</td>\n",
       "      <td>Phoenix Suns</td>\n",
       "      <td>183115</td>\n",
       "      <td>2020</td>\n",
       "      <td>basketball</td>\n",
       "    </tr>\n",
       "    <tr>\n",
       "      <th>9455</th>\n",
       "      <td>528</td>\n",
       "      <td>Luguentz Dort</td>\n",
       "      <td>SG</td>\n",
       "      <td>Oklahoma City Thunder</td>\n",
       "      <td>155647</td>\n",
       "      <td>2020</td>\n",
       "      <td>basketball</td>\n",
       "    </tr>\n",
       "  </tbody>\n",
       "</table>\n",
       "<p>9456 rows × 7 columns</p>\n",
       "</div>"
      ],
      "text/plain": [
       "      rank              name position                    team    salary  \\\n",
       "0        1  Shaquille O'Neal        C      Los Angeles Lakers  17142000   \n",
       "1        2     Kevin Garnett       PF  Minnesota Timberwolves  16806000   \n",
       "2        3   Alonzo Mourning        C              Miami Heat  15004000   \n",
       "3        4      Juwan Howard       PF      Washington Wizards  15000000   \n",
       "4        5    Scottie Pippen       SF  Portland Trail Blazers  14795000   \n",
       "...    ...               ...      ...                     ...       ...   \n",
       "9451   524   Jimmer Fredette        G            Phoenix Suns    208509   \n",
       "9452   525     Jontay Porter       PF       Memphis Grizzlies    197933   \n",
       "9453   526  Anthony Tolliver       PF       Memphis Grizzlies    183115   \n",
       "9454   527     Tyler Johnson       SG            Phoenix Suns    183115   \n",
       "9455   528     Luguentz Dort       SG   Oklahoma City Thunder    155647   \n",
       "\n",
       "      season       sport  \n",
       "0       2000  basketball  \n",
       "1       2000  basketball  \n",
       "2       2000  basketball  \n",
       "3       2000  basketball  \n",
       "4       2000  basketball  \n",
       "...      ...         ...  \n",
       "9451    2020  basketball  \n",
       "9452    2020  basketball  \n",
       "9453    2020  basketball  \n",
       "9454    2020  basketball  \n",
       "9455    2020  basketball  \n",
       "\n",
       "[9456 rows x 7 columns]"
      ]
     },
     "execution_count": 26,
     "metadata": {},
     "output_type": "execute_result"
    }
   ],
   "source": [
    "nba['sport'] = 'basketball'\n",
    "nba"
   ]
  },
  {
   "cell_type": "code",
   "execution_count": 27,
   "id": "33293c8b-43a1-4c3b-bc76-8856e2e07d49",
   "metadata": {},
   "outputs": [
    {
     "data": {
      "text/html": [
       "<div>\n",
       "<style scoped>\n",
       "    .dataframe tbody tr th:only-of-type {\n",
       "        vertical-align: middle;\n",
       "    }\n",
       "\n",
       "    .dataframe tbody tr th {\n",
       "        vertical-align: top;\n",
       "    }\n",
       "\n",
       "    .dataframe thead th {\n",
       "        text-align: right;\n",
       "    }\n",
       "</style>\n",
       "<table border=\"1\" class=\"dataframe\">\n",
       "  <thead>\n",
       "    <tr style=\"text-align: right;\">\n",
       "      <th></th>\n",
       "      <th>rank</th>\n",
       "      <th>name</th>\n",
       "      <th>position</th>\n",
       "      <th>team</th>\n",
       "      <th>salary</th>\n",
       "      <th>season</th>\n",
       "      <th>sport</th>\n",
       "      <th>salary (in millions)</th>\n",
       "    </tr>\n",
       "  </thead>\n",
       "  <tbody>\n",
       "    <tr>\n",
       "      <th>0</th>\n",
       "      <td>1</td>\n",
       "      <td>Shaquille O'Neal</td>\n",
       "      <td>C</td>\n",
       "      <td>Los Angeles Lakers</td>\n",
       "      <td>17142000</td>\n",
       "      <td>2000</td>\n",
       "      <td>basketball</td>\n",
       "      <td>17.142000</td>\n",
       "    </tr>\n",
       "    <tr>\n",
       "      <th>1</th>\n",
       "      <td>2</td>\n",
       "      <td>Kevin Garnett</td>\n",
       "      <td>PF</td>\n",
       "      <td>Minnesota Timberwolves</td>\n",
       "      <td>16806000</td>\n",
       "      <td>2000</td>\n",
       "      <td>basketball</td>\n",
       "      <td>16.806000</td>\n",
       "    </tr>\n",
       "    <tr>\n",
       "      <th>2</th>\n",
       "      <td>3</td>\n",
       "      <td>Alonzo Mourning</td>\n",
       "      <td>C</td>\n",
       "      <td>Miami Heat</td>\n",
       "      <td>15004000</td>\n",
       "      <td>2000</td>\n",
       "      <td>basketball</td>\n",
       "      <td>15.004000</td>\n",
       "    </tr>\n",
       "    <tr>\n",
       "      <th>3</th>\n",
       "      <td>4</td>\n",
       "      <td>Juwan Howard</td>\n",
       "      <td>PF</td>\n",
       "      <td>Washington Wizards</td>\n",
       "      <td>15000000</td>\n",
       "      <td>2000</td>\n",
       "      <td>basketball</td>\n",
       "      <td>15.000000</td>\n",
       "    </tr>\n",
       "    <tr>\n",
       "      <th>4</th>\n",
       "      <td>5</td>\n",
       "      <td>Scottie Pippen</td>\n",
       "      <td>SF</td>\n",
       "      <td>Portland Trail Blazers</td>\n",
       "      <td>14795000</td>\n",
       "      <td>2000</td>\n",
       "      <td>basketball</td>\n",
       "      <td>14.795000</td>\n",
       "    </tr>\n",
       "    <tr>\n",
       "      <th>...</th>\n",
       "      <td>...</td>\n",
       "      <td>...</td>\n",
       "      <td>...</td>\n",
       "      <td>...</td>\n",
       "      <td>...</td>\n",
       "      <td>...</td>\n",
       "      <td>...</td>\n",
       "      <td>...</td>\n",
       "    </tr>\n",
       "    <tr>\n",
       "      <th>9451</th>\n",
       "      <td>524</td>\n",
       "      <td>Jimmer Fredette</td>\n",
       "      <td>G</td>\n",
       "      <td>Phoenix Suns</td>\n",
       "      <td>208509</td>\n",
       "      <td>2020</td>\n",
       "      <td>basketball</td>\n",
       "      <td>0.208509</td>\n",
       "    </tr>\n",
       "    <tr>\n",
       "      <th>9452</th>\n",
       "      <td>525</td>\n",
       "      <td>Jontay Porter</td>\n",
       "      <td>PF</td>\n",
       "      <td>Memphis Grizzlies</td>\n",
       "      <td>197933</td>\n",
       "      <td>2020</td>\n",
       "      <td>basketball</td>\n",
       "      <td>0.197933</td>\n",
       "    </tr>\n",
       "    <tr>\n",
       "      <th>9453</th>\n",
       "      <td>526</td>\n",
       "      <td>Anthony Tolliver</td>\n",
       "      <td>PF</td>\n",
       "      <td>Memphis Grizzlies</td>\n",
       "      <td>183115</td>\n",
       "      <td>2020</td>\n",
       "      <td>basketball</td>\n",
       "      <td>0.183115</td>\n",
       "    </tr>\n",
       "    <tr>\n",
       "      <th>9454</th>\n",
       "      <td>527</td>\n",
       "      <td>Tyler Johnson</td>\n",
       "      <td>SG</td>\n",
       "      <td>Phoenix Suns</td>\n",
       "      <td>183115</td>\n",
       "      <td>2020</td>\n",
       "      <td>basketball</td>\n",
       "      <td>0.183115</td>\n",
       "    </tr>\n",
       "    <tr>\n",
       "      <th>9455</th>\n",
       "      <td>528</td>\n",
       "      <td>Luguentz Dort</td>\n",
       "      <td>SG</td>\n",
       "      <td>Oklahoma City Thunder</td>\n",
       "      <td>155647</td>\n",
       "      <td>2020</td>\n",
       "      <td>basketball</td>\n",
       "      <td>0.155647</td>\n",
       "    </tr>\n",
       "  </tbody>\n",
       "</table>\n",
       "<p>9456 rows × 8 columns</p>\n",
       "</div>"
      ],
      "text/plain": [
       "      rank              name position                    team    salary  \\\n",
       "0        1  Shaquille O'Neal        C      Los Angeles Lakers  17142000   \n",
       "1        2     Kevin Garnett       PF  Minnesota Timberwolves  16806000   \n",
       "2        3   Alonzo Mourning        C              Miami Heat  15004000   \n",
       "3        4      Juwan Howard       PF      Washington Wizards  15000000   \n",
       "4        5    Scottie Pippen       SF  Portland Trail Blazers  14795000   \n",
       "...    ...               ...      ...                     ...       ...   \n",
       "9451   524   Jimmer Fredette        G            Phoenix Suns    208509   \n",
       "9452   525     Jontay Porter       PF       Memphis Grizzlies    197933   \n",
       "9453   526  Anthony Tolliver       PF       Memphis Grizzlies    183115   \n",
       "9454   527     Tyler Johnson       SG            Phoenix Suns    183115   \n",
       "9455   528     Luguentz Dort       SG   Oklahoma City Thunder    155647   \n",
       "\n",
       "      season       sport  salary (in millions)  \n",
       "0       2000  basketball             17.142000  \n",
       "1       2000  basketball             16.806000  \n",
       "2       2000  basketball             15.004000  \n",
       "3       2000  basketball             15.000000  \n",
       "4       2000  basketball             14.795000  \n",
       "...      ...         ...                   ...  \n",
       "9451    2020  basketball              0.208509  \n",
       "9452    2020  basketball              0.197933  \n",
       "9453    2020  basketball              0.183115  \n",
       "9454    2020  basketball              0.183115  \n",
       "9455    2020  basketball              0.155647  \n",
       "\n",
       "[9456 rows x 8 columns]"
      ]
     },
     "execution_count": 27,
     "metadata": {},
     "output_type": "execute_result"
    }
   ],
   "source": [
    "nba['salary (in millions)'] = nba['salary']/1000000\n",
    "nba"
   ]
  },
  {
   "cell_type": "code",
   "execution_count": 28,
   "id": "db770fa4-9781-4161-82db-129cb28fb1db",
   "metadata": {},
   "outputs": [
    {
     "data": {
      "text/plain": [
       "0       shaquille o'neal\n",
       "1          kevin garnett\n",
       "2        alonzo mourning\n",
       "3           juwan howard\n",
       "4         scottie pippen\n",
       "              ...       \n",
       "9451     jimmer fredette\n",
       "9452       jontay porter\n",
       "9453    anthony tolliver\n",
       "9454       tyler johnson\n",
       "9455       luguentz dort\n",
       "Name: name, Length: 9456, dtype: object"
      ]
     },
     "execution_count": 28,
     "metadata": {},
     "output_type": "execute_result"
    }
   ],
   "source": [
    "nba.name.str.lower()"
   ]
  },
  {
   "cell_type": "code",
   "execution_count": 29,
   "id": "23c53ff3-cd77-4d7c-b107-0a8f7fb64e7c",
   "metadata": {},
   "outputs": [
    {
     "data": {
      "text/plain": [
       "0       [Shaquille, O'Neal]\n",
       "1          [Kevin, Garnett]\n",
       "2        [Alonzo, Mourning]\n",
       "3           [Juwan, Howard]\n",
       "4         [Scottie, Pippen]\n",
       "               ...         \n",
       "9451     [Jimmer, Fredette]\n",
       "9452       [Jontay, Porter]\n",
       "9453    [Anthony, Tolliver]\n",
       "9454       [Tyler, Johnson]\n",
       "9455       [Luguentz, Dort]\n",
       "Name: name, Length: 9456, dtype: object"
      ]
     },
     "execution_count": 29,
     "metadata": {},
     "output_type": "execute_result"
    }
   ],
   "source": [
    "nba.name.str.split()"
   ]
  },
  {
   "cell_type": "code",
   "execution_count": 30,
   "id": "e877d8d3-02a2-4210-bbe3-a120ebf9d987",
   "metadata": {},
   "outputs": [
    {
     "data": {
      "text/plain": [
       "0       S\n",
       "1       K\n",
       "2       A\n",
       "3       J\n",
       "4       S\n",
       "       ..\n",
       "9451    J\n",
       "9452    J\n",
       "9453    A\n",
       "9454    T\n",
       "9455    L\n",
       "Name: name, Length: 9456, dtype: object"
      ]
     },
     "execution_count": 30,
     "metadata": {},
     "output_type": "execute_result"
    }
   ],
   "source": [
    "nba.name.str.get(0)"
   ]
  },
  {
   "cell_type": "code",
   "execution_count": 31,
   "id": "ade3d60c-f050-409b-9f28-9b0f22dba62f",
   "metadata": {},
   "outputs": [
    {
     "data": {
      "text/plain": [
       "0       Shaquille\n",
       "1           Kevin\n",
       "2          Alonzo\n",
       "3           Juwan\n",
       "4         Scottie\n",
       "          ...    \n",
       "9451       Jimmer\n",
       "9452       Jontay\n",
       "9453      Anthony\n",
       "9454        Tyler\n",
       "9455     Luguentz\n",
       "Name: name, Length: 9456, dtype: object"
      ]
     },
     "execution_count": 31,
     "metadata": {},
     "output_type": "execute_result"
    }
   ],
   "source": [
    "nba.name.str.split().str.get(0) # you can combine them"
   ]
  },
  {
   "cell_type": "code",
   "execution_count": 32,
   "id": "8ecfee91-f45d-4d9a-b3c5-ea6f843145be",
   "metadata": {},
   "outputs": [],
   "source": [
    "# How would you get just the team names, for example 'Los Angeles Lakers' -> 'Lakers'\n"
   ]
  }
 ],
 "metadata": {
  "kernelspec": {
   "display_name": "Python 3 (ipykernel)",
   "language": "python",
   "name": "python3"
  },
  "language_info": {
   "codemirror_mode": {
    "name": "ipython",
    "version": 3
   },
   "file_extension": ".py",
   "mimetype": "text/x-python",
   "name": "python",
   "nbconvert_exporter": "python",
   "pygments_lexer": "ipython3",
   "version": "3.10.10"
  }
 },
 "nbformat": 4,
 "nbformat_minor": 5
}
