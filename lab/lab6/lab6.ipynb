{
 "cells": [
  {
   "cell_type": "markdown",
   "id": "689b7c13-31f2-4113-86a3-2bc5fe8d61c0",
   "metadata": {},
   "source": [
    "# Your name and your onyen\n",
    "\n",
    "Classmates you worked with today:\n",
    "\n",
    "1. name\n",
    "2. name\n",
    "3. name\n",
    "\n",
    "\n",
    "**Submission instruction**: Please create a `pdf` via File -> Print (or cmd + P on mac), and upload it to Gradescope. No autograder since there are many correct ways to approach this question. You are **not** required to finish the entire worksheet provided that you were actively engaged during the entire class period. As long as you've collaborated, put in good effort and made **reasonable progress** during the lab period, you can expect to get full credit. So even if you decide to finish it at home, please submit what you have by the end of 50 minutes to make sure you get credit! "
   ]
  },
  {
   "cell_type": "markdown",
   "id": "99c84be4-4dac-4907-9355-0babc8e6ff43",
   "metadata": {},
   "source": [
    "## Time series data\n",
    "\n",
    "We have downloaded the monthly unemployment rate from the U.S. Bureu of Labor Statistics (http://data.bls.gov/dataViewer/view/timeseries/LNU04000000) for you today.\n"
   ]
  },
  {
   "cell_type": "code",
   "execution_count": null,
   "id": "dc5f0567-b057-4a82-9d0c-5aa5face7084",
   "metadata": {},
   "outputs": [],
   "source": [
    "import pandas as pd\n",
    "import seaborn as sns\n",
    "import matplotlib.pyplot as plt"
   ]
  },
  {
   "cell_type": "code",
   "execution_count": null,
   "id": "295b56c7-5455-419b-9a03-9a6926c89c13",
   "metadata": {},
   "outputs": [],
   "source": [
    "def clean_data(file_name):\n",
    "    # read csv file into pandas table\n",
    "    unemployment = pd.read_csv(file_name)\n",
    "    # drop irrelevant column\n",
    "    unemployment = unemployment.drop(columns=['Series ID'])\n",
    "    # rename columns (I don't expect you to know how to do this)\n",
    "    unemployment = unemployment.rename(columns={'Label': 'Time', 'Value': 'Rate','Period':'Month'})\n",
    "    # change data type of Time to datetime from string\n",
    "    unemployment['Time'] = pd.to_datetime(unemployment['Time'], format='%Y %b')\n",
    "    # change data type of Rate to float from string\n",
    "    unemployment['Rate'] = unemployment['Rate'].astype(float)\n",
    "    # change Month column from something that looks like 'M01' to 1. \n",
    "    unemployment['Month'] = unemployment.Month.str.slice(1).astype(int)\n",
    "\n",
    "    return unemployment"
   ]
  },
  {
   "cell_type": "code",
   "execution_count": null,
   "id": "51705bde-77b8-4969-9112-2ffd9d88bbab",
   "metadata": {},
   "outputs": [],
   "source": [
    "unemployment = clean_data('unemployment_unadj.csv')\n",
    "unemployment"
   ]
  },
  {
   "cell_type": "markdown",
   "id": "bcffb193-5035-4354-ad09-640f041e136c",
   "metadata": {},
   "source": [
    "To see the overall trend, make the following plot:\n",
    "\n",
    "![trend.png](trend.png)\n",
    "\n",
    "You can do that by plugging in the appropriate parameters in the following line of code:\n",
    "\n",
    "```Python\n",
    "sns.lineplot(data=..., x=... , y=...)\n",
    "```"
   ]
  },
  {
   "cell_type": "code",
   "execution_count": null,
   "id": "76a18ae3-be1b-4292-b144-4ecbba9fdc16",
   "metadata": {},
   "outputs": [],
   "source": [
    "# Complete the code and run it here\n"
   ]
  },
  {
   "cell_type": "markdown",
   "id": "c439a748-5501-49ba-880e-65edb9f2475c",
   "metadata": {},
   "source": [
    "Do you observe any trends? Any peaks? Any cycles? If so, how many? And approximately how many years does each cycle last? No calculation or code needed. There are multiple valid answers. Don't spend more than 1~2 minutes on this question.\n",
    "\n",
    "[Write your answer here]"
   ]
  },
  {
   "cell_type": "markdown",
   "id": "5455885d-8fd2-447a-8603-33b378b6c7ca",
   "metadata": {},
   "source": [
    "Next, can you write 1~2 lines of code that only plots the unemployment rates from the past decade, i.e. 2014-2023? Do you observe anything interesting from this \"zoomed in\" plot?\n",
    "\n",
    "[Write your answer here]"
   ]
  },
  {
   "cell_type": "code",
   "execution_count": null,
   "id": "6c6533e0-4c15-4250-8656-4288017f2251",
   "metadata": {},
   "outputs": [],
   "source": [
    "# Write and run your code here\n"
   ]
  },
  {
   "cell_type": "markdown",
   "id": "a1c030e3-2aa6-4dad-9944-1f57f0527cbe",
   "metadata": {},
   "source": [
    "## Seasonality"
   ]
  },
  {
   "cell_type": "markdown",
   "id": "0ad286d4-0411-4b32-8971-18f519b5fb7b",
   "metadata": {},
   "source": [
    "Seasonality refers to regular trends that occur every calendar year (or at shorter intervals). For example, you would observe seasonal trends in ice cream sale, electricity usage, number of Google searches about college basketball, traffic at Franklin st, etc. Does unemployment rate have seasonal trends as well?\n",
    "\n",
    "To see the monthly trends, copy paste and run the following code:\n",
    "\n",
    "```Python\n",
    "sns.lineplot(data=unemployment, x='Month', y='Rate', hue='Year')\n",
    "```"
   ]
  },
  {
   "cell_type": "code",
   "execution_count": null,
   "id": "20a2b173-78ef-485c-8331-25e690e54b8d",
   "metadata": {},
   "outputs": [],
   "source": [
    "# Copy paste and run the code here\n",
    "\n"
   ]
  },
  {
   "cell_type": "markdown",
   "id": "30172530-8393-4310-9e37-9eaccd61694f",
   "metadata": {},
   "source": [
    "Hmm, this seems a little cluttered. Let's try this:\n",
    "\n",
    "```Python\n",
    "sns.lineplot(data=unemployment, x='Month', y='Rate')\n",
    "```\n",
    "\n",
    "When presented with multiple lines of data (in this case, each line = one year), seaborn automatically takes the **average** of those lines. Therefore that dark blue solid line is the monthly unemployment rate averaged over the years. \n",
    "\n",
    "The light blue area around the line represents the **level of uncertainty or randomness**. We'll discuss this concept (confidence intervals and standard deviations) at a later time, but for now, just think of it this way: thin light blue band around the line = super sure about the blue line being a good representation of the data across the years, thick band = not so sure, things really depend on the year."
   ]
  },
  {
   "cell_type": "code",
   "execution_count": null,
   "id": "d300c8c7-4cef-4c68-8237-fff9028df342",
   "metadata": {},
   "outputs": [],
   "source": [
    "# Copy paste and run the code here\n"
   ]
  },
  {
   "cell_type": "markdown",
   "id": "c91d12b5-0fbb-4129-9711-fb4e6f4345c9",
   "metadata": {},
   "source": [
    "Using pandas operations, how would you calculate the numbers in the dark blue line, i.e. unemployment rate averaged over the years? \n",
    "\n",
    "**Hint**: Use `Groupby`! Test your code by plotting your answer and comparing it against the blue line above."
   ]
  },
  {
   "cell_type": "code",
   "execution_count": null,
   "id": "4a29b14e-741b-4135-badc-b79171df18fe",
   "metadata": {},
   "outputs": [],
   "source": [
    "# Write and run your code here\n"
   ]
  },
  {
   "cell_type": "markdown",
   "id": "b69c5221-5c97-40d8-93ea-22d0de679d7f",
   "metadata": {},
   "source": [
    "Do you observe any seasonal trends? Do you have any guesses on why or why not?\n",
    "\n",
    "[Write your answer here]"
   ]
  },
  {
   "cell_type": "markdown",
   "id": "33e41d7f-0f5a-4c44-abf4-f2882b595c98",
   "metadata": {},
   "source": [
    "So it turns out that unemployment rate is affected by seasons! A few examples from government sources below:\n",
    "\n",
    "    Ski resorts, for instance, hire far more employees in the winter months to accommodate snow skiing season. Employment in education fluctuates greatly at the beginning and the ending of the school year. Retail businesses typically hire more employees during the holiday season late in the year. \n",
    "\n",
    "https://labormarketinfo.edd.ca.gov/LMID/What_is_a_Seasonal_Adjustment.html\n",
    "\n",
    "    Over the course of the year, Alaska schools open and close, seasonal tourism workers arrive and leave, and fisheries follow mostly regular seasons.\n",
    "\n",
    "This Alaska website even comes with a joke at the expense of economists:\n",
    "\n",
    "    An economist is waiting at a bus stop and notices a dejected young man sitting on a bench. She asks him what’s wrong, and he replies that summer is over, the place where he worked has closed for the winter, and he’s depressed to be out of work. The economist replies, “Don’t worry, then. Seasonally adjusted, you still have a job!”\n",
    "    \n",
    "https://live.laborstats.alaska.gov/labforce/seasonal.html\n",
    "\n",
    "This is why the government also releases **seasonally adjusted numbers**. This means that for every January rate, they subtracted the average January rate, and for every February rate, they subtracted the average February rate, and so on. This allows people to understand and compare the unemployment rate with seasonal/monthly effects already taken into account. \n",
    "\n",
    "I've downloaded that for you in a file called `unemployment_season.csv`. \n",
    "\n",
    "Write two lines of code below that \n",
    "\n",
    "1. calls the earlier defined function `clean_data` on this new file and saves the returned table to a variable called `unemployment_adj`.\n",
    "2. creates a lineplot across `Time` to see the overall trend in this new table."
   ]
  },
  {
   "cell_type": "code",
   "execution_count": null,
   "id": "d1eca6d9-dd76-4fdf-a04e-ccdc1299f5a4",
   "metadata": {},
   "outputs": [],
   "source": [
    "# Write and run your code here\n"
   ]
  },
  {
   "cell_type": "markdown",
   "id": "3d1dc248-46e2-49f9-8f07-cbb7d1cbe992",
   "metadata": {},
   "source": [
    "Compare this new plot with the first lineplot from the unadjusted unemployment rates. Do you observe any difference?\n",
    "\n",
    "[Write your answer here]"
   ]
  },
  {
   "cell_type": "markdown",
   "id": "85bab9f9-b6c0-4781-bcce-7c7067e1e8b2",
   "metadata": {},
   "source": [
    "Finally, \"zoom in\" to the most recent decade like you did earlier. You should be able to do so by copy pasting your code and swapping out the table names. What difference do you notice?\n",
    "\n",
    "[Write your answer here]"
   ]
  },
  {
   "cell_type": "code",
   "execution_count": null,
   "id": "cfcc064a-79d1-4ee4-b5c8-cd8b4e909604",
   "metadata": {},
   "outputs": [],
   "source": [
    "# Write and run your code here\n"
   ]
  },
  {
   "cell_type": "markdown",
   "id": "b37b90b0-6ca4-4cb0-8b4b-ab9236faae3f",
   "metadata": {},
   "source": [
    "**Bonus:**\n",
    "You can add text to your lineplot using the code below. Just sandwich your two lines where the ... are.\n",
    "\n",
    "```Python\n",
    "fig, ax = plt.subplots(1)\n",
    "...\n",
    "...\n",
    "ax.text(x= pd.to_datetime('2020-06-01'), y=14, s='RIP', fontsize=18)\n",
    "```\n",
    "Looks like the spike in unemployment rate from COVID can't be explained away by seasonality :(\n",
    "\n",
    "\n",
    "![rip_covid.png](rip_covid.png)"
   ]
  },
  {
   "cell_type": "code",
   "execution_count": null,
   "id": "9af78912-edfe-42b5-bf94-0ace5465170b",
   "metadata": {},
   "outputs": [],
   "source": [
    "# Write and run your code here\n"
   ]
  },
  {
   "cell_type": "code",
   "execution_count": null,
   "id": "0a1d78bf-5ae4-48e4-8449-8a95fe062036",
   "metadata": {},
   "outputs": [],
   "source": []
  }
 ],
 "metadata": {
  "kernelspec": {
   "display_name": "Python 3 (ipykernel)",
   "language": "python",
   "name": "python3"
  },
  "language_info": {
   "codemirror_mode": {
    "name": "ipython",
    "version": 3
   },
   "file_extension": ".py",
   "mimetype": "text/x-python",
   "name": "python",
   "nbconvert_exporter": "python",
   "pygments_lexer": "ipython3",
   "version": "3.10.10"
  }
 },
 "nbformat": 4,
 "nbformat_minor": 5
}
