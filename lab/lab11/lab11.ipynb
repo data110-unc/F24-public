{
 "cells": [
  {
   "cell_type": "markdown",
   "id": "a22c1ef1-260d-4990-a367-97ae32077397",
   "metadata": {},
   "source": [
    "# Your name and your onyen\n",
    "\n",
    "Classmates you worked with today:\n",
    "\n",
    "- name\n",
    "- name\n",
    "- name\n",
    "  \n",
    "**Submission instruction**: Please create a pdf via File -> Print (or cmd + P on mac), and upload it to Gradescope. No autograder since there are many correct ways to approach this question. You are not required to finish the entire worksheet provided that you were actively engaged during the entire class period. As long as you've collaborated, put in good effort and made reasonable progress during the lab period, you can expect to get full credit. So even if you decide to finish it at home, please submit what you have by the end of 50 minutes to make sure you get credit!"
   ]
  },
  {
   "cell_type": "markdown",
   "id": "1e96a986-5d98-46e2-bb79-ab69162df9a1",
   "metadata": {},
   "source": [
    "## Part A: Are we automating racism? Video by Vox (~25 minutes)\n",
    "\n",
    "The whole class will watch this video together:\n",
    "\n",
    "https://www.youtube.com/watch?v=Ok5sKLXqynQ\n",
    "\n",
    "By the way, the paper discussed around minute 14 is where project C2 comes from."
   ]
  },
  {
   "cell_type": "markdown",
   "id": "861e1a31-bdc0-4916-98bd-0eaefab23e35",
   "metadata": {},
   "source": [
    "While you're watching the video, answer this question: What are two new or interesting things you learned from this video?\n",
    "\n",
    "[Your answer]"
   ]
  },
  {
   "cell_type": "markdown",
   "id": "3974643b-7d68-4844-81f0-9f376798f8c9",
   "metadata": {},
   "source": [
    "### Discussion led by TA as a group (5 minutes)\n",
    "\n",
    "What is one thing you learned or find interesting from your classmates' answers?\n",
    "\n",
    "[Your answer]"
   ]
  },
  {
   "cell_type": "markdown",
   "id": "03270b5e-bd46-43ca-bea8-ee96e7ae5644",
   "metadata": {},
   "source": [
    "## Part B: Linear regression (20 minutes)\n",
    "\n",
    "Let's revisit the ROUSes dataset. Like we did in class, our goal is to predict the `Weight` of ROUSes.\n",
    "\n",
    "- Classification or regression?\n",
    "- Predictor variables?\n",
    "- Target variables?\n",
    "- Model: is this simiple or multiple linear regression?"
   ]
  },
  {
   "cell_type": "code",
   "execution_count": null,
   "id": "e4d5a273-2c76-432d-a8b7-1a72576215e6",
   "metadata": {},
   "outputs": [],
   "source": [
    "import pandas as pd\n",
    "import seaborn as sns"
   ]
  },
  {
   "cell_type": "code",
   "execution_count": null,
   "id": "f9501a89-6470-4ce1-8025-646998a25f38",
   "metadata": {},
   "outputs": [],
   "source": [
    "rouses = pd.read_csv('~/F24-public/data/ROUSes.csv')\n",
    "print(rouses.shape)\n",
    "rouses.head()"
   ]
  },
  {
   "cell_type": "markdown",
   "id": "e21abe58-07f8-4473-a4ee-0b5a40628737",
   "metadata": {},
   "source": [
    "Run the following code to drop the column `Temperament` from the table `rouses`. "
   ]
  },
  {
   "cell_type": "code",
   "execution_count": null,
   "id": "7c53cfa2-2066-4f3a-9d07-fe52cbb12888",
   "metadata": {},
   "outputs": [],
   "source": [
    "rouses = rouses.drop(columns='Temperament')"
   ]
  },
  {
   "cell_type": "markdown",
   "id": "f39908c9-55fd-40e0-a997-c91733025644",
   "metadata": {},
   "source": [
    "### Exploratory analysis"
   ]
  },
  {
   "cell_type": "markdown",
   "id": "95c18a79-4e4d-4751-9efd-5426999cc36b",
   "metadata": {},
   "source": [
    "Run the code `rouses.corr()`. This calculates the correlations between pairs of numerical columns."
   ]
  },
  {
   "cell_type": "code",
   "execution_count": null,
   "id": "90acde31-faf4-44b3-955f-21f8d67562d2",
   "metadata": {},
   "outputs": [],
   "source": [
    "# write your code here\n",
    "\n"
   ]
  },
  {
   "cell_type": "markdown",
   "id": "e0741317-afd6-4f15-b134-efcce01ffb75",
   "metadata": {},
   "source": [
    "Based on the correlations, which variable do you expect to be more helpful in predicting `Weight`: `Age` or `Length`?\n",
    "\n",
    "[Your answer]"
   ]
  },
  {
   "cell_type": "markdown",
   "id": "9615d667-affd-401d-9510-224395e4ecbc",
   "metadata": {},
   "source": [
    "### Setting up the data\n",
    "\n",
    "We usually split the dataset into train and test first and then split them into X and y. But for this exercise, let's go in a different order.\n",
    "\n",
    "Split the table `rouses` into `X` and `y` by completing the following code.\n",
    "\n",
    "```Python\n",
    "y = rouses[...]\n",
    "X = rouses.drop(columns=...)\n",
    "```"
   ]
  },
  {
   "cell_type": "code",
   "execution_count": null,
   "id": "f7165581-48cc-4a81-bda3-78d784c90b19",
   "metadata": {},
   "outputs": [],
   "source": [
    "# Write your code here\n",
    "\n"
   ]
  },
  {
   "cell_type": "markdown",
   "id": "f98acc5f-eba4-4a83-bb1c-ec2640821c1a",
   "metadata": {},
   "source": [
    "### Setting up regression pipeline\n",
    "\n",
    "We'll write our machine learning code inside a function so that we can call it multiple times later. Copy the following code, then fill in the missing spots marked by `...`.\n",
    "\n",
    "**Hint**: The six `...` are from these options: `X_train`, `X_test`, `y_train`, `y_test`.\n",
    "\n",
    "``` Python\n",
    "def rouses_lr(X, y, seed=0):\n",
    "\n",
    "    # Split X and y into X_train, X_test and y_train, y_test\n",
    "    # using the same seed ensures that the same rows are picked between X and y\n",
    "    \n",
    "    X_train = X.sample(frac=0.8, random_state=seed)\n",
    "    X_test = X.drop(index=X_train.index) \n",
    "    \n",
    "    y_train = y.sample(frac=0.8, random_state=seed)\n",
    "    y_test = y.drop(index=y_train.index)\n",
    "\n",
    "    # Create \"empty\" model\n",
    "    from sklearn.linear_model import LinearRegression\n",
    "    \n",
    "    lr = LinearRegression(fit_intercept=True)\n",
    "\n",
    "    # Fit model to data (or train model)\n",
    "    lr.fit(..., ...)\n",
    "\n",
    "    # Save coefficients of the trained model\n",
    "    coefs = pd.DataFrame(lr.coef_, \n",
    "                         index=lr.feature_names_in_, \n",
    "                        columns=['Coefficient vals'])\n",
    "\n",
    "    # Save model performance on train and test\n",
    "    coefs.loc['Train R2 score'] = lr.score(..., ...)\n",
    "    coefs.loc['Test R2 score'] = lr.score(..., ...)\n",
    "\n",
    "    return coefs\n",
    "``` \n"
   ]
  },
  {
   "cell_type": "code",
   "execution_count": null,
   "id": "bacf4031-c3b0-4781-8e0c-e6a9aa067519",
   "metadata": {},
   "outputs": [],
   "source": [
    "# complete and run your code here\n",
    "\n"
   ]
  },
  {
   "cell_type": "markdown",
   "id": "d9c54a86-4dfd-4ed7-9f5b-2dfe9adba57f",
   "metadata": {},
   "source": [
    "### Normalizing features\n",
    "\n",
    "In class, we talked about interpreting linear regression coefficients, and mentioned an important caviat: To use the **magnitude of the coefficients** as an indication of relative feature importance, **the features have to be in the same range or scale**. Today, we'll see a few different ways to acheive that goal. The technical term for this is **feature normalization**, if you want to Google it for your project."
   ]
  },
  {
   "cell_type": "markdown",
   "id": "98dafddd-f6ab-49e8-9dfb-fbb4e808cd2f",
   "metadata": {},
   "source": [
    "First, call the function `describe` on the table `X` to see the summary statistics of the numerical columns."
   ]
  },
  {
   "cell_type": "code",
   "execution_count": null,
   "id": "45d298a2-591b-491a-965b-61350f27b120",
   "metadata": {},
   "outputs": [],
   "source": [
    "# write your code here\n",
    "\n"
   ]
  },
  {
   "cell_type": "markdown",
   "id": "3db4ff00-886b-4430-940d-6d47c41e5bad",
   "metadata": {},
   "source": [
    "Question: Does `Age` and `Length` have the same ranges? Or the same means?\n",
    "\n",
    "[Your answer]\n",
    "\n",
    "We'll see how that affects the final model and interpretation of coefficients."
   ]
  },
  {
   "cell_type": "markdown",
   "id": "ef1ef6d0-2058-46d3-82c8-3c5a23dcd4fa",
   "metadata": {},
   "source": [
    "### 1. Whitening\n",
    "\n",
    "The first method is called **whitening**. This means that each variable will have mean of 0 and standard deviation of 1 after this process. You can acheive this by doing the following steps:\n",
    "   1. Within each column, subtract its mean. For example, if the mean `Age` is 13, subtract 13 from everyone's age.\n",
    "   2. Within each column, divide by its standard deviation. For example, if the std of `Age` 10, divide everyone's age by 10.\n",
    "\n",
    "The code to achieve this is very simple. Make sure you understand what's going on, then copy and run the lines below.\n",
    "\n",
    "```Python\n",
    "X_whitened = X - X.mean() # Subtract by column mean\n",
    "X_whitened = X_whitened/X_whitened.std() # Divide by column std\n",
    "\n",
    "X_whitened.describe()\n",
    "```\n"
   ]
  },
  {
   "cell_type": "code",
   "execution_count": null,
   "id": "f196ae6c-c246-4a21-9ea8-f752fe174e90",
   "metadata": {},
   "outputs": [],
   "source": [
    "# run your code\n"
   ]
  },
  {
   "cell_type": "markdown",
   "id": "b3fda7ad-c569-4059-90cd-7f54ff1c0853",
   "metadata": {},
   "source": [
    "Before we move on, check that each feature in `X_whitened` now has zero mean and 1 stadard deviation as expected."
   ]
  },
  {
   "cell_type": "markdown",
   "id": "017e0dd7-456e-421e-aa20-50cd91ef7dd7",
   "metadata": {},
   "source": [
    "### 2. Min-max scaling\n",
    "\n",
    "The second method is called **min-max scaling**. This makes all values in each column to fall between 0 and 1. The minimum value becomes 0, the maximum value becomes 1, and everything in between is scaled linearly.\n",
    "\n",
    "Here is the code that does that. As before, make sure you understand what's going on.\n",
    "\n",
    "```Python\n",
    "X_minmax = X - X.min() # this turns minimum value of each column to 0\n",
    "ranges = X.max() - X.min() # calculate the range per column\n",
    "X_minmax = X_minmax/ranges # this turns maximum value to 1\n",
    "\n",
    "X_minmax.describe()\n",
    "```"
   ]
  },
  {
   "cell_type": "code",
   "execution_count": null,
   "id": "7953ea96-aa22-4ac2-94ea-935cd5054ae4",
   "metadata": {},
   "outputs": [],
   "source": [
    "# run your code\n"
   ]
  },
  {
   "cell_type": "markdown",
   "id": "56f7a1d8-bdcd-4064-8138-0b031db710e5",
   "metadata": {},
   "source": [
    "Before we move on, check that each feature in `X_minimax` now has minimum 0 and maximum 1 as expected."
   ]
  },
  {
   "cell_type": "markdown",
   "id": "b304b2b9-ce39-4841-a9d6-efcb3b7341f9",
   "metadata": {},
   "source": [
    "### Check the results!\n",
    "\n",
    "Finally it's time to put everything together. Run the following code to check:\n",
    "\n",
    "rows: \n",
    "- the resulting coefficients (`Age`, `Length`) of the linear regression model, and the\n",
    "- $R^2$ scores (`Train R2 score`, `Test R2 score`), for\n",
    "\n",
    "columns:\n",
    "- the three different versions of feature tables (unnormalized `X`, whitened `X_whitened`, min-max scaled `X_minmax`), and\n",
    "- the unnormalized coefficients muliplied by the std of the unnormalized features (`Unnormalized * std`)"
   ]
  },
  {
   "cell_type": "code",
   "execution_count": null,
   "id": "4d067d1c-6b59-4bc9-9cd6-7053974ae4f3",
   "metadata": {},
   "outputs": [],
   "source": [
    "seed = 2024\n",
    "\n",
    "results = pd.DataFrame()\n",
    "for features, name in zip([X, X_whitened, X_minmax], \n",
    "                    [\"Unnormalized\", \"Whitened\", \"Min-max scaled\"]):\n",
    "    res = rouses_lr(features, y, seed)\n",
    "    res = res.rename(columns ={'Coefficient vals': name})\n",
    "    results = pd.concat((results, res), axis=1)\n",
    "\n",
    "results['Unnormalized * std'] = results['Unnormalized']*X.std()\n",
    "results"
   ]
  },
  {
   "cell_type": "markdown",
   "id": "d5dcc87c-dc39-446d-ad6f-76f780985f82",
   "metadata": {},
   "source": [
    "The last column is sometimes called **beta** or **standarized** coefficients. Does it look similar to any of the other columns?\n",
    "\n",
    "Question: Which feature is more important, according to the magnitude of the coefficients? Did that answer change for different versions of features?\n",
    "\n",
    "[Your answer]"
   ]
  },
  {
   "cell_type": "markdown",
   "id": "360157c9-a1d5-4b9c-8b51-4df077842545",
   "metadata": {},
   "source": [
    "I hope this convinces you to normalize your features for your project if you decide to do a predictive model, and especially if you plan to do linear regression.\n",
    "\n",
    "FYI, you get the same score regardless of feature normalization here. This is not the case for every dataset and every ML model. Often normalization improves accuracy of the model."
   ]
  }
 ],
 "metadata": {
  "kernelspec": {
   "display_name": "Python 3 (ipykernel)",
   "language": "python",
   "name": "python3"
  },
  "language_info": {
   "codemirror_mode": {
    "name": "ipython",
    "version": 3
   },
   "file_extension": ".py",
   "mimetype": "text/x-python",
   "name": "python",
   "nbconvert_exporter": "python",
   "pygments_lexer": "ipython3",
   "version": "3.10.10"
  }
 },
 "nbformat": 4,
 "nbformat_minor": 5
}
