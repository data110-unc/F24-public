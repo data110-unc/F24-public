{
 "cells": [
  {
   "cell_type": "code",
   "execution_count": null,
   "id": "ae6733d8",
   "metadata": {
    "deletable": false,
    "editable": false
   },
   "outputs": [],
   "source": [
    "# Initialize Otter\n",
    "import otter\n",
    "grader = otter.Notebook(\"lab2.ipynb\")"
   ]
  },
  {
   "cell_type": "markdown",
   "id": "53e30871-6f19-4106-8c87-de2d85d13147",
   "metadata": {},
   "source": [
    "# 1. Data collection\n",
    "\n",
    "We'll start today by collecting survey data from 4 classmates + yourself. We'll represent our collected data as a table, which you can write in Markdown as below. Here's a quick guide to Markdown tables (https://www.codecademy.com/resources/docs/markdown/tables), and you can also double click on the cell below to see how I wrote it."
   ]
  },
  {
   "cell_type": "markdown",
   "id": "2924d6b6-9fea-46ca-90ea-346e6a5c3d6b",
   "metadata": {},
   "source": [
    "| # | First name | What vegetable would you be? | Shoe size | Birthday month | (Question of your choice) |\n",
    "|---| -----------| -----------| -----------| -----------| -----------| \n",
    "|1 | | | | | \n",
    "|2 | | | | | \n",
    "|3 | | | | | \n",
    "|4 | | | | | \n",
    "|5 | | | | | \n"
   ]
  },
  {
   "cell_type": "markdown",
   "id": "d1480ad7-eacc-4364-9d07-ecb53f90ca8b",
   "metadata": {},
   "source": [
    "Please mingle (try to talk to someone you haven't talked to yet!) and fill out the table. For example, here's one row of data that I have gathered at home:\n",
    "\n",
    "| # | First name | What vegetable would you be? | Shoe size | Birthday month | Are you a cat? |\n",
    "|---| -----------| -----------| -----------| -----------| -----------| \n",
    "|1 | Puppycat | Corn | 0 | July | True |"
   ]
  },
  {
   "cell_type": "markdown",
   "id": "c62c8064-2545-41cc-bcc8-2e43b75f9af9",
   "metadata": {},
   "source": [
    "Fill in the blank with either `row` or `column`:\n",
    "\n",
    "- Each *classmate* corresponds to one _____.\n",
    "- Each *question* corresponds to one _____."
   ]
  },
  {
   "cell_type": "markdown",
   "id": "4e4356c8-3740-41e2-87fb-8c52f1db96d6",
   "metadata": {},
   "source": [
    "# 2. Data types\n",
    "\n",
    "For this part of the activity, form **groups of 2~3** and work on it together.\n",
    "\n",
    "In last lecture, we learned four different data types in Python: `int`, `float`, `str`, and `bool`. If you wanted to work with these data using Python, which types would be the best fit and why? Would you use the same type for all of them?"
   ]
  },
  {
   "cell_type": "markdown",
   "id": "2dcb6665-9e5c-4938-921b-860c0dca0d37",
   "metadata": {},
   "source": [
    "Fill in your guess for the best data type for each piece of information. \n",
    "\n",
    "- First name:\n",
    "- Vegetable:\n",
    "- Shoe size:\n",
    "- Birthday month:\n",
    "- Cat (or replace with your question):\n",
    "\n",
    "\n",
    "Discuss your answers with your group. There can be multiple valid answers. For example, `'July'` or `7` are both valid ways to talks about birthday months. "
   ]
  },
  {
   "cell_type": "markdown",
   "id": "11c8e81a-5712-4629-be9e-3b155205e2fa",
   "metadata": {},
   "source": [
    "# 3. Name (variable) assignment\n",
    "\n",
    "Now that you have made a decision on data types, let's practice using it. \n",
    "1. Pick one row from your table.\n",
    "2. In the cell below, assign the first name of the individual to the variable `name`. For example, `name = 'Puppycat'`.\n",
    "3. In the next cell below, check the type of the variable `name`. Do you remember what function to call?\n",
    "4. Repeat steps 2-3 with the remaining four columns. Add new cells as needed. Try to pay attention to the data type as well as what a descriptive variable name would be."
   ]
  },
  {
   "cell_type": "code",
   "execution_count": null,
   "id": "0885142e-d38b-4604-a3f5-57dbe14c029f",
   "metadata": {
    "tags": []
   },
   "outputs": [],
   "source": [
    "# Write your code here\n",
    "name = ..."
   ]
  },
  {
   "cell_type": "code",
   "execution_count": null,
   "id": "baefb51e",
   "metadata": {
    "deletable": false,
    "editable": false
   },
   "outputs": [],
   "source": [
    "grader.check(\"q1\")"
   ]
  },
  {
   "cell_type": "markdown",
   "id": "5c297c4e-de29-45a7-a72f-3321e8e2a789",
   "metadata": {},
   "source": [
    "**Note on grading**: If you have gotten to this point, you will get full credit for today's lab! It is not necessary to complete the entire worksheet in order to receive full credit, provided that you are actively working on the activity for the entirety of the Lab period. If, however, you would like to meet up later with your partners to finish up the activity, then please do -- this will be very helpful for your learning (and therefore your performance on exams). "
   ]
  },
  {
   "cell_type": "code",
   "execution_count": null,
   "id": "af6ee38a-6696-4cd7-8d2e-3e48de7a197b",
   "metadata": {},
   "outputs": [],
   "source": [
    "# Write your code for other variables here\n"
   ]
  },
  {
   "cell_type": "markdown",
   "id": "2adcf603-9223-49a9-9429-4a19d45adfe8",
   "metadata": {},
   "source": [
    "# 4. Discussion on units\n",
    "\n",
    "A very important aspect of data collection is **units**. \n",
    "\n",
    "Let's take shoe size for example. There are multiple size systems based on geography (http://www.shoesizes.co/) as well as Women/Men/Kid. Of course we can ignore these somewhat arbitrary size systems and stick to feet measurements with a ruler. But even then, are we measuring them in cm? inches? mm? feet? miles?\n",
    "\n",
    "This might not be a big problem if your dataset is small, because you can easy look through all 5 rows and check if any number stands out. But as your dataset gets larger, issues like this will start to pop up, or **even worse, stay hidden** and mess with your interpretation of data. \n",
    "\n",
    "This is a good thing to keep in mind before we dive into data analysis."
   ]
  },
  {
   "cell_type": "markdown",
   "id": "5c29bef8-d680-40fe-9d8a-db6be572da1e",
   "metadata": {},
   "source": [
    "# Bonus. Bag of Words\n",
    "\n",
    "**NOTE:** Bonus questions will often use programming elements beyond what we've learned so far.  Don't worry if you have trouble understanding the code in the Bonus questions! We do not expect you to fully understand it; we just want to expose you to new concepts! You are **not** expected to be an expert in this material or be able to write this code from scratch in an exam.\n",
    "\n",
    "In class we learned about **Bag-of-Words**, a statistical modeling approach for converting text to numbers.  A Bag-of-Words is a representation of text that describes the occurrence of words within a document. It involves two things:  \n",
    "1. A vocabulary of words.\n",
    "2. A count of how many times a word occurs.\n",
    "\n",
    "It is called a “bag” of words because the order of the words is discarded. Bag-of-Words does not represent where the words occur in the document, only their count.\n",
    "\n",
    "In this exercise, you will be implementing Bag-of-Words using only basic string operations.  There are higher level operations from some Python packages that could make this easier, and more efficient, but for this exercise, we won't be using them.\n",
    "\n",
    "Our Bag-of-Words result will be represented as a **Table**.  Each row (data sample) will correspond to a document (a string, in our case) and each column (feature) will correspond to a word in the vocabulary.  Each cell in the table will be the count of the word in the document. "
   ]
  },
  {
   "cell_type": "code",
   "execution_count": null,
   "id": "0e98f646-bfd7-48ca-9047-e25138bc3732",
   "metadata": {},
   "outputs": [],
   "source": [
    "import pandas as pd\n",
    "import numpy as np\n",
    "\n",
    "def empty_BoW():\n",
    "    return pd.DataFrame({'Document':[]})\n",
    "\n",
    "# process a particular document sample for Bag of Words (add new words to vocabulary, compute word counts)\n",
    "def update_BoW_for_rownum( table: pd.DataFrame, rownum: int ):\n",
    "    # set all counts for the row to zero\n",
    "    num_words_in_vocabulary = table.shape[1] - 1\n",
    "    table.loc[rownum] = [table.at[rownum,'Document']] + [0] * num_words_in_vocabulary\n",
    "    # process each word in the document\n",
    "    for word in table.at[rownum,'Document'].split():\n",
    "        # check if word is already in the vocabulary\n",
    "        if (word in table.columns):\n",
    "            # if so, increment count for this word\n",
    "            table.at[rownum,word] = table.at[rownum,word] + 1\n",
    "        else:\n",
    "            # otherwise, add word to vocabulary and set count for all rows to zero\n",
    "            num_rows = table.shape[0]\n",
    "            table[word] = [0] * num_rows\n",
    "            # then set count for new word for this row to 1\n",
    "            table.at[rownum,word] = 1\n",
    "\n",
    "# add a new document to the Bag of Words\n",
    "def add_document_to_BoW( table: pd.DataFrame, doc: str ):\n",
    "    num_words_in_vocabulary = table.shape[1] - 1\n",
    "    new_document_num = table.shape[0]\n",
    "    # add a new row that is the document plus 0 counts for every word in vocabulary\n",
    "    table.loc[new_document_num] = [doc] + [0]*num_words_in_vocabulary\n",
    "    # update the counts for the new row\n",
    "    update_BoW_for_rownum(table,new_document_num)\n",
    "\n"
   ]
  },
  {
   "cell_type": "markdown",
   "id": "6eed4502-0a0a-40a6-8538-d55fb4517ba0",
   "metadata": {},
   "source": [
    "The code above has several things that may be unfamiliar, but by experimenting you can probably figure some of them out.  To help understand parts of the code above, run each of the follow cells to learn what they do:"
   ]
  },
  {
   "cell_type": "code",
   "execution_count": null,
   "id": "22243244-2697-4ce0-8818-1011700b27a9",
   "metadata": {},
   "outputs": [],
   "source": [
    "[0] * 10"
   ]
  },
  {
   "cell_type": "code",
   "execution_count": null,
   "id": "aad16557-14fa-4cb9-8ef1-7e68b3c6064e",
   "metadata": {},
   "outputs": [],
   "source": [
    "s = 'this is strange'\n",
    "s.split()"
   ]
  },
  {
   "cell_type": "code",
   "execution_count": null,
   "id": "ba64fd1a-c266-43ae-b73d-5b0f2fd3f9c8",
   "metadata": {},
   "outputs": [],
   "source": [
    "table = pd.DataFrame({'name':['Harlin','Rick','Puppycat','Daisy'],\n",
    "                       'col1': [11, 12, 13, 14], \n",
    "                       'col2': [15, 16, 17, 18]})\n",
    "table"
   ]
  },
  {
   "cell_type": "code",
   "execution_count": null,
   "id": "0ce303f5-9757-463c-a1b7-31b6c0d15f1a",
   "metadata": {},
   "outputs": [],
   "source": [
    "table.shape # Is this (no. of rows, no. of columns) or (no. of columns, no. of rows)?"
   ]
  },
  {
   "cell_type": "code",
   "execution_count": null,
   "id": "6a2c9cf6-8177-4ba2-a883-3de7fd50cf21",
   "metadata": {},
   "outputs": [],
   "source": [
    "table['name'] # Is this a row or a column?"
   ]
  },
  {
   "cell_type": "code",
   "execution_count": null,
   "id": "ba228a71-7674-463f-9849-080ca6efec53",
   "metadata": {},
   "outputs": [],
   "source": [
    "table.loc[2] # Is this a row or a column?"
   ]
  },
  {
   "cell_type": "code",
   "execution_count": null,
   "id": "2bce9ecd-ce71-44db-9061-3d19fbcfd3da",
   "metadata": {},
   "outputs": [],
   "source": [
    "table.at[2,'name']"
   ]
  },
  {
   "cell_type": "markdown",
   "id": "43346b84-c870-44c3-864a-6e4b4ca9b68f",
   "metadata": {},
   "source": [
    "Okay, back to Bag-of-Words!  First, lets create an empty dataframe for our Bag-of-Words:"
   ]
  },
  {
   "cell_type": "code",
   "execution_count": null,
   "id": "acde7be2-862b-4d04-a31a-e65cbfb8db0b",
   "metadata": {},
   "outputs": [],
   "source": [
    "bow_table = empty_BoW()\n",
    "bow_table"
   ]
  },
  {
   "cell_type": "markdown",
   "id": "ec445118-08ea-475e-9db7-4c42f71841ad",
   "metadata": {},
   "source": [
    "And then start adding documents (sentences) to it:"
   ]
  },
  {
   "cell_type": "code",
   "execution_count": null,
   "id": "20cc590d-fbf6-4c76-90aa-803557d63d56",
   "metadata": {},
   "outputs": [],
   "source": [
    "add_document_to_BoW(bow_table,'Harlin loves cats but dislikes dogs')\n",
    "bow_table"
   ]
  },
  {
   "cell_type": "code",
   "execution_count": null,
   "id": "394f442e-c606-4968-979c-230209a37eb4",
   "metadata": {},
   "outputs": [],
   "source": [
    "add_document_to_BoW(bow_table,'Rick loves dogs and cats')\n",
    "bow_table"
   ]
  },
  {
   "cell_type": "code",
   "execution_count": null,
   "id": "52e7adfe-ca49-4cfb-ba15-03ceb34b3b00",
   "metadata": {},
   "outputs": [],
   "source": [
    "add_document_to_BoW(bow_table,'Harlin dislikes cats but loves dogs')\n",
    "bow_table"
   ]
  },
  {
   "cell_type": "markdown",
   "id": "3fdbf5b9-81bb-4c9f-96c2-40a234452ce8",
   "metadata": {},
   "source": [
    "What do you notice that is interesting about row 0 and row 2?\n",
    "\n",
    "[Write what you think here]"
   ]
  },
  {
   "cell_type": "markdown",
   "id": "1dbceafb-50f3-44eb-980e-4b193406a628",
   "metadata": {},
   "source": [
    "Try adding some documents of your own to see what happens."
   ]
  },
  {
   "cell_type": "code",
   "execution_count": null,
   "id": "2cd43c78-b59f-429e-a710-59d43a6367c6",
   "metadata": {},
   "outputs": [],
   "source": [
    "# Uncomment the next few lines, replace each ... with new a sentece and run this cell\n",
    "\n",
    "# add_document_to_BoW(bow_table, ...)\n",
    "# add_document_to_BoW(bow_table, ...)\n",
    "# bow_table"
   ]
  },
  {
   "cell_type": "markdown",
   "id": "fc04c5c0-3b4d-4f45-93e9-4104e2f21ce9",
   "metadata": {},
   "source": [
    "Sometimes, something can happen to corrupt the data in a table, so you want to recompute the data of the table.  The code below simulates the data getting corrupted:"
   ]
  },
  {
   "cell_type": "code",
   "execution_count": null,
   "id": "d7969e86-13d0-4356-8fb4-71314b987266",
   "metadata": {},
   "outputs": [],
   "source": [
    "bow_table['Harlin'].values[:] = 0\n",
    "bow_table['cats'].values[:] = 99\n",
    "bow_table"
   ]
  },
  {
   "cell_type": "markdown",
   "id": "eceabdf2-b543-4e4d-bcb8-02915ab283c8",
   "metadata": {},
   "source": [
    "Finish the code for the function below that will recompute the counts for an existing DataFrame:\n",
    "\n",
    "```Python\n",
    "def recompute_BoW(table: pd.DataFrame):\n",
    "    for docnum in range(table.shape[0]):\n",
    "      update_BoW_for_rownum( ... )\n",
    "\n",
    "recompute_BoW(bow_table)\n",
    "bow_table\n",
    "```\n",
    "\n",
    "If you're not sure what should replace the ... (which is, again, totally fair!), try running this following code to guess what `rownum` and `range` does:\n",
    "\n",
    "```Python\n",
    "print('table.shape[0] is', table.shape[0])\n",
    "\n",
    "print('list(range(table.shape[0])) is', list(range(table.shape[0])))\n",
    "\n",
    "for docnum in range(table.shape[0]):\n",
    "    print('docnum is', docnum)\n",
    "\n",
    "```"
   ]
  },
  {
   "cell_type": "code",
   "execution_count": null,
   "id": "472a0880-8905-4e79-8851-61579ef7b414",
   "metadata": {},
   "outputs": [],
   "source": [
    "# Copy paste the code from above, replace ... with a variable (what should it be?) and run this cell\n",
    "# to recompute the Bag of Words counts for all documents in the Table\n"
   ]
  },
  {
   "cell_type": "markdown",
   "id": "3319e799-ad26-4962-b7a9-6f7ab3115126",
   "metadata": {},
   "source": [
    "Bag-of-Words tends to be more useful for large documents, not individual sentences, so a summary Bag-of-Words for all the sentences combined would be useful.  We could write a function to compute this for our DataFrame, but the real power of DataFrames and pandas lies in the many functions that are already available.  For example, execute the line of code below:  "
   ]
  },
  {
   "cell_type": "code",
   "execution_count": null,
   "id": "01c3d558-1921-4dbc-8922-c818680b044d",
   "metadata": {},
   "outputs": [],
   "source": [
    "bow_table.sum(numeric_only=True)"
   ]
  },
  {
   "cell_type": "markdown",
   "id": "51b65c98-6b13-46c5-b996-42c307d6ced2",
   "metadata": {},
   "source": [
    "This implementation of Bag-of-Words is actually very simplistic and has many limitations dealing with general text input. Can you list any?"
   ]
  },
  {
   "cell_type": "markdown",
   "id": "568c08aa",
   "metadata": {
    "deletable": false,
    "editable": false
   },
   "source": [
    "## Submission\n",
    "\n",
    "Make sure you have run all cells in your notebook in order before running the cell below, so that all images/graphs appear in the output. The cell below will generate a zip file for you to submit. **Please save before exporting!**\n",
    "\n",
    "Gradescope Lab2"
   ]
  },
  {
   "cell_type": "code",
   "execution_count": null,
   "id": "050e60fa",
   "metadata": {
    "deletable": false,
    "editable": false
   },
   "outputs": [],
   "source": [
    "# Save your notebook first, then run this cell to export your submission.\n",
    "grader.export(pdf=False, run_tests=True)"
   ]
  },
  {
   "cell_type": "markdown",
   "id": "a871123d",
   "metadata": {},
   "source": [
    " "
   ]
  }
 ],
 "metadata": {
  "kernelspec": {
   "display_name": "Python 3 (ipykernel)",
   "language": "python",
   "name": "python3"
  },
  "language_info": {
   "codemirror_mode": {
    "name": "ipython",
    "version": 3
   },
   "file_extension": ".py",
   "mimetype": "text/x-python",
   "name": "python",
   "nbconvert_exporter": "python",
   "pygments_lexer": "ipython3",
   "version": "3.10.14"
  },
  "otter": {
   "OK_FORMAT": true,
   "tests": {
    "q1": {
     "name": "q1",
     "points": 1,
     "suites": [
      {
       "cases": [
        {
         "code": ">>> assert type(name) == str\n",
         "hidden": false,
         "locked": false
        }
       ],
       "scored": true,
       "setup": "",
       "teardown": "",
       "type": "doctest"
      }
     ]
    }
   }
  }
 },
 "nbformat": 4,
 "nbformat_minor": 5
}
