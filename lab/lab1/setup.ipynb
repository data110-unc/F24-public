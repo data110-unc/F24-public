{
 "cells": [
  {
   "cell_type": "code",
   "execution_count": 1,
   "id": "714d9a24",
   "metadata": {
    "deletable": false,
    "editable": false
   },
   "outputs": [],
   "source": [
    "# Initialize Otter\n",
    "import otter\n",
    "grader = otter.Notebook(\"setup.ipynb\")"
   ]
  },
  {
   "cell_type": "markdown",
   "id": "3ca24de5-8cce-49f0-9d44-3c29222c7d09",
   "metadata": {},
   "source": [
    "# 0. Setup\n",
    "\n",
    "Welcome! \n",
    "\n",
    "This is a Jupyter Notebook, which is an interactive “notebook” where we will be writing a mixture of Python code and text explanations of our results. Each of these boxes is a cell, which can contain a piece of code or text. You’ll become very familiar with it over the semester, but for now, let’s finish setting up the computer. Please click on the fastforward button above (>>)."
   ]
  },
  {
   "cell_type": "code",
   "execution_count": 2,
   "id": "fbc41ce5-72bb-4614-a323-29bbf3079250",
   "metadata": {},
   "outputs": [
    {
     "name": "stdout",
     "output_type": "stream",
     "text": [
      "Requirement already satisfied: pandas in /opt/anaconda3/envs/data110/lib/python3.10/site-packages (2.2.2)\n",
      "Requirement already satisfied: matplotlib in /opt/anaconda3/envs/data110/lib/python3.10/site-packages (3.9.1)\n",
      "Requirement already satisfied: scipy in /opt/anaconda3/envs/data110/lib/python3.10/site-packages (1.14.0)\n",
      "Requirement already satisfied: seaborn in /opt/anaconda3/envs/data110/lib/python3.10/site-packages (0.13.2)\n",
      "Requirement already satisfied: numpy in /opt/anaconda3/envs/data110/lib/python3.10/site-packages (2.0.1)\n",
      "Requirement already satisfied: scikit-learn in /opt/anaconda3/envs/data110/lib/python3.10/site-packages (1.5.1)\n",
      "Requirement already satisfied: python-dateutil>=2.8.2 in /opt/anaconda3/envs/data110/lib/python3.10/site-packages (from pandas) (2.9.0)\n",
      "Requirement already satisfied: pytz>=2020.1 in /opt/anaconda3/envs/data110/lib/python3.10/site-packages (from pandas) (2024.1)\n",
      "Requirement already satisfied: tzdata>=2022.7 in /opt/anaconda3/envs/data110/lib/python3.10/site-packages (from pandas) (2024.1)\n",
      "Requirement already satisfied: contourpy>=1.0.1 in /opt/anaconda3/envs/data110/lib/python3.10/site-packages (from matplotlib) (1.2.1)\n",
      "Requirement already satisfied: cycler>=0.10 in /opt/anaconda3/envs/data110/lib/python3.10/site-packages (from matplotlib) (0.12.1)\n",
      "Requirement already satisfied: fonttools>=4.22.0 in /opt/anaconda3/envs/data110/lib/python3.10/site-packages (from matplotlib) (4.53.1)\n",
      "Requirement already satisfied: kiwisolver>=1.3.1 in /opt/anaconda3/envs/data110/lib/python3.10/site-packages (from matplotlib) (1.4.5)\n",
      "Requirement already satisfied: packaging>=20.0 in /opt/anaconda3/envs/data110/lib/python3.10/site-packages (from matplotlib) (24.1)\n",
      "Requirement already satisfied: pillow>=8 in /opt/anaconda3/envs/data110/lib/python3.10/site-packages (from matplotlib) (10.4.0)\n",
      "Requirement already satisfied: pyparsing>=2.3.1 in /opt/anaconda3/envs/data110/lib/python3.10/site-packages (from matplotlib) (3.1.2)\n",
      "Requirement already satisfied: joblib>=1.2.0 in /opt/anaconda3/envs/data110/lib/python3.10/site-packages (from scikit-learn) (1.4.2)\n",
      "Requirement already satisfied: threadpoolctl>=3.1.0 in /opt/anaconda3/envs/data110/lib/python3.10/site-packages (from scikit-learn) (3.5.0)\n",
      "Requirement already satisfied: six>=1.5 in /opt/anaconda3/envs/data110/lib/python3.10/site-packages (from python-dateutil>=2.8.2->pandas) (1.16.0)\n",
      "Requirement already satisfied: otter-grader in /opt/anaconda3/envs/data110/lib/python3.10/site-packages (5.5.0)\n",
      "Requirement already satisfied: dill in /opt/anaconda3/envs/data110/lib/python3.10/site-packages (from otter-grader) (0.3.8)\n",
      "Requirement already satisfied: jinja2 in /opt/anaconda3/envs/data110/lib/python3.10/site-packages (from otter-grader) (3.1.4)\n",
      "Requirement already satisfied: nbformat in /opt/anaconda3/envs/data110/lib/python3.10/site-packages (from otter-grader) (5.10.4)\n",
      "Requirement already satisfied: pandas in /opt/anaconda3/envs/data110/lib/python3.10/site-packages (from otter-grader) (2.2.2)\n",
      "Requirement already satisfied: PyYAML in /opt/anaconda3/envs/data110/lib/python3.10/site-packages (from otter-grader) (6.0.2)\n",
      "Requirement already satisfied: python-on-whales in /opt/anaconda3/envs/data110/lib/python3.10/site-packages (from otter-grader) (0.72.0)\n",
      "Requirement already satisfied: requests in /opt/anaconda3/envs/data110/lib/python3.10/site-packages (from otter-grader) (2.32.3)\n",
      "Requirement already satisfied: wrapt in /opt/anaconda3/envs/data110/lib/python3.10/site-packages (from otter-grader) (1.16.0)\n",
      "Requirement already satisfied: jupytext in /opt/anaconda3/envs/data110/lib/python3.10/site-packages (from otter-grader) (1.16.4)\n",
      "Requirement already satisfied: click in /opt/anaconda3/envs/data110/lib/python3.10/site-packages (from otter-grader) (8.1.7)\n",
      "Requirement already satisfied: fica>=0.3.1 in /opt/anaconda3/envs/data110/lib/python3.10/site-packages (from otter-grader) (0.3.1)\n",
      "Requirement already satisfied: ipython in /opt/anaconda3/envs/data110/lib/python3.10/site-packages (from otter-grader) (8.26.0)\n",
      "Requirement already satisfied: astunparse in /opt/anaconda3/envs/data110/lib/python3.10/site-packages (from otter-grader) (1.6.3)\n",
      "Requirement already satisfied: ipywidgets in /opt/anaconda3/envs/data110/lib/python3.10/site-packages (from otter-grader) (8.1.3)\n",
      "Requirement already satisfied: ipylab in /opt/anaconda3/envs/data110/lib/python3.10/site-packages (from otter-grader) (1.0.0)\n",
      "Requirement already satisfied: nbconvert in /opt/anaconda3/envs/data110/lib/python3.10/site-packages (from otter-grader) (7.16.4)\n",
      "Requirement already satisfied: docutils in /opt/anaconda3/envs/data110/lib/python3.10/site-packages (from fica>=0.3.1->otter-grader) (0.21.2)\n",
      "Requirement already satisfied: sphinx in /opt/anaconda3/envs/data110/lib/python3.10/site-packages (from fica>=0.3.1->otter-grader) (8.0.2)\n",
      "Requirement already satisfied: wheel<1.0,>=0.23.0 in /opt/anaconda3/envs/data110/lib/python3.10/site-packages (from astunparse->otter-grader) (0.44.0)\n",
      "Requirement already satisfied: six<2.0,>=1.6.1 in /opt/anaconda3/envs/data110/lib/python3.10/site-packages (from astunparse->otter-grader) (1.16.0)\n",
      "Requirement already satisfied: comm>=0.1.3 in /opt/anaconda3/envs/data110/lib/python3.10/site-packages (from ipywidgets->otter-grader) (0.2.2)\n",
      "Requirement already satisfied: traitlets>=4.3.1 in /opt/anaconda3/envs/data110/lib/python3.10/site-packages (from ipywidgets->otter-grader) (5.14.3)\n",
      "Requirement already satisfied: widgetsnbextension~=4.0.11 in /opt/anaconda3/envs/data110/lib/python3.10/site-packages (from ipywidgets->otter-grader) (4.0.11)\n",
      "Requirement already satisfied: jupyterlab-widgets~=3.0.11 in /opt/anaconda3/envs/data110/lib/python3.10/site-packages (from ipywidgets->otter-grader) (3.0.11)\n",
      "Requirement already satisfied: decorator in /opt/anaconda3/envs/data110/lib/python3.10/site-packages (from ipython->otter-grader) (5.1.1)\n",
      "Requirement already satisfied: jedi>=0.16 in /opt/anaconda3/envs/data110/lib/python3.10/site-packages (from ipython->otter-grader) (0.19.1)\n",
      "Requirement already satisfied: matplotlib-inline in /opt/anaconda3/envs/data110/lib/python3.10/site-packages (from ipython->otter-grader) (0.1.7)\n",
      "Requirement already satisfied: prompt-toolkit<3.1.0,>=3.0.41 in /opt/anaconda3/envs/data110/lib/python3.10/site-packages (from ipython->otter-grader) (3.0.47)\n",
      "Requirement already satisfied: pygments>=2.4.0 in /opt/anaconda3/envs/data110/lib/python3.10/site-packages (from ipython->otter-grader) (2.18.0)\n",
      "Requirement already satisfied: stack-data in /opt/anaconda3/envs/data110/lib/python3.10/site-packages (from ipython->otter-grader) (0.6.2)\n",
      "Requirement already satisfied: exceptiongroup in /opt/anaconda3/envs/data110/lib/python3.10/site-packages (from ipython->otter-grader) (1.2.2)\n",
      "Requirement already satisfied: typing-extensions>=4.6 in /opt/anaconda3/envs/data110/lib/python3.10/site-packages (from ipython->otter-grader) (4.12.2)\n",
      "Requirement already satisfied: pexpect>4.3 in /opt/anaconda3/envs/data110/lib/python3.10/site-packages (from ipython->otter-grader) (4.9.0)\n",
      "Requirement already satisfied: MarkupSafe>=2.0 in /opt/anaconda3/envs/data110/lib/python3.10/site-packages (from jinja2->otter-grader) (2.1.5)\n",
      "Requirement already satisfied: markdown-it-py>=1.0 in /opt/anaconda3/envs/data110/lib/python3.10/site-packages (from jupytext->otter-grader) (3.0.0)\n",
      "Requirement already satisfied: mdit-py-plugins in /opt/anaconda3/envs/data110/lib/python3.10/site-packages (from jupytext->otter-grader) (0.4.1)\n",
      "Requirement already satisfied: packaging in /opt/anaconda3/envs/data110/lib/python3.10/site-packages (from jupytext->otter-grader) (24.1)\n",
      "Requirement already satisfied: tomli in /opt/anaconda3/envs/data110/lib/python3.10/site-packages (from jupytext->otter-grader) (2.0.1)\n",
      "Requirement already satisfied: beautifulsoup4 in /opt/anaconda3/envs/data110/lib/python3.10/site-packages (from nbconvert->otter-grader) (4.12.3)\n",
      "Requirement already satisfied: bleach!=5.0.0 in /opt/anaconda3/envs/data110/lib/python3.10/site-packages (from nbconvert->otter-grader) (6.1.0)\n",
      "Requirement already satisfied: defusedxml in /opt/anaconda3/envs/data110/lib/python3.10/site-packages (from nbconvert->otter-grader) (0.7.1)\n",
      "Requirement already satisfied: jupyter-core>=4.7 in /opt/anaconda3/envs/data110/lib/python3.10/site-packages (from nbconvert->otter-grader) (5.7.2)\n",
      "Requirement already satisfied: jupyterlab-pygments in /opt/anaconda3/envs/data110/lib/python3.10/site-packages (from nbconvert->otter-grader) (0.3.0)\n",
      "Requirement already satisfied: mistune<4,>=2.0.3 in /opt/anaconda3/envs/data110/lib/python3.10/site-packages (from nbconvert->otter-grader) (3.0.2)\n",
      "Requirement already satisfied: nbclient>=0.5.0 in /opt/anaconda3/envs/data110/lib/python3.10/site-packages (from nbconvert->otter-grader) (0.10.0)\n",
      "Requirement already satisfied: pandocfilters>=1.4.1 in /opt/anaconda3/envs/data110/lib/python3.10/site-packages (from nbconvert->otter-grader) (1.5.0)\n",
      "Requirement already satisfied: tinycss2 in /opt/anaconda3/envs/data110/lib/python3.10/site-packages (from nbconvert->otter-grader) (1.3.0)\n",
      "Requirement already satisfied: fastjsonschema>=2.15 in /opt/anaconda3/envs/data110/lib/python3.10/site-packages (from nbformat->otter-grader) (2.20.0)\n",
      "Requirement already satisfied: jsonschema>=2.6 in /opt/anaconda3/envs/data110/lib/python3.10/site-packages (from nbformat->otter-grader) (4.23.0)\n",
      "Requirement already satisfied: numpy>=1.22.4 in /opt/anaconda3/envs/data110/lib/python3.10/site-packages (from pandas->otter-grader) (2.0.1)\n",
      "Requirement already satisfied: python-dateutil>=2.8.2 in /opt/anaconda3/envs/data110/lib/python3.10/site-packages (from pandas->otter-grader) (2.9.0)\n",
      "Requirement already satisfied: pytz>=2020.1 in /opt/anaconda3/envs/data110/lib/python3.10/site-packages (from pandas->otter-grader) (2024.1)\n",
      "Requirement already satisfied: tzdata>=2022.7 in /opt/anaconda3/envs/data110/lib/python3.10/site-packages (from pandas->otter-grader) (2024.1)\n",
      "Requirement already satisfied: pydantic!=2.0.*,<3,>=1.9 in /opt/anaconda3/envs/data110/lib/python3.10/site-packages (from python-on-whales->otter-grader) (2.8.2)\n",
      "Requirement already satisfied: tqdm in /opt/anaconda3/envs/data110/lib/python3.10/site-packages (from python-on-whales->otter-grader) (4.66.5)\n",
      "Requirement already satisfied: typer>=0.4.1 in /opt/anaconda3/envs/data110/lib/python3.10/site-packages (from python-on-whales->otter-grader) (0.12.3)\n",
      "Requirement already satisfied: charset-normalizer<4,>=2 in /opt/anaconda3/envs/data110/lib/python3.10/site-packages (from requests->otter-grader) (3.3.2)\n",
      "Requirement already satisfied: idna<4,>=2.5 in /opt/anaconda3/envs/data110/lib/python3.10/site-packages (from requests->otter-grader) (3.7)\n",
      "Requirement already satisfied: urllib3<3,>=1.21.1 in /opt/anaconda3/envs/data110/lib/python3.10/site-packages (from requests->otter-grader) (2.2.2)\n",
      "Requirement already satisfied: certifi>=2017.4.17 in /opt/anaconda3/envs/data110/lib/python3.10/site-packages (from requests->otter-grader) (2024.7.4)\n",
      "Requirement already satisfied: webencodings in /opt/anaconda3/envs/data110/lib/python3.10/site-packages (from bleach!=5.0.0->nbconvert->otter-grader) (0.5.1)\n",
      "Requirement already satisfied: parso<0.9.0,>=0.8.3 in /opt/anaconda3/envs/data110/lib/python3.10/site-packages (from jedi>=0.16->ipython->otter-grader) (0.8.4)\n",
      "Requirement already satisfied: attrs>=22.2.0 in /opt/anaconda3/envs/data110/lib/python3.10/site-packages (from jsonschema>=2.6->nbformat->otter-grader) (24.2.0)\n",
      "Requirement already satisfied: jsonschema-specifications>=2023.03.6 in /opt/anaconda3/envs/data110/lib/python3.10/site-packages (from jsonschema>=2.6->nbformat->otter-grader) (2023.12.1)\n",
      "Requirement already satisfied: referencing>=0.28.4 in /opt/anaconda3/envs/data110/lib/python3.10/site-packages (from jsonschema>=2.6->nbformat->otter-grader) (0.35.1)\n",
      "Requirement already satisfied: rpds-py>=0.7.1 in /opt/anaconda3/envs/data110/lib/python3.10/site-packages (from jsonschema>=2.6->nbformat->otter-grader) (0.20.0)\n",
      "Requirement already satisfied: platformdirs>=2.5 in /opt/anaconda3/envs/data110/lib/python3.10/site-packages (from jupyter-core>=4.7->nbconvert->otter-grader) (4.2.2)\n",
      "Requirement already satisfied: mdurl~=0.1 in /opt/anaconda3/envs/data110/lib/python3.10/site-packages (from markdown-it-py>=1.0->jupytext->otter-grader) (0.1.2)\n",
      "Requirement already satisfied: jupyter-client>=6.1.12 in /opt/anaconda3/envs/data110/lib/python3.10/site-packages (from nbclient>=0.5.0->nbconvert->otter-grader) (8.6.2)\n",
      "Requirement already satisfied: ptyprocess>=0.5 in /opt/anaconda3/envs/data110/lib/python3.10/site-packages (from pexpect>4.3->ipython->otter-grader) (0.7.0)\n",
      "Requirement already satisfied: wcwidth in /opt/anaconda3/envs/data110/lib/python3.10/site-packages (from prompt-toolkit<3.1.0,>=3.0.41->ipython->otter-grader) (0.2.13)\n",
      "Requirement already satisfied: annotated-types>=0.4.0 in /opt/anaconda3/envs/data110/lib/python3.10/site-packages (from pydantic!=2.0.*,<3,>=1.9->python-on-whales->otter-grader) (0.7.0)\n",
      "Requirement already satisfied: pydantic-core==2.20.1 in /opt/anaconda3/envs/data110/lib/python3.10/site-packages (from pydantic!=2.0.*,<3,>=1.9->python-on-whales->otter-grader) (2.20.1)\n",
      "Requirement already satisfied: shellingham>=1.3.0 in /opt/anaconda3/envs/data110/lib/python3.10/site-packages (from typer>=0.4.1->python-on-whales->otter-grader) (1.5.4)\n",
      "Requirement already satisfied: rich>=10.11.0 in /opt/anaconda3/envs/data110/lib/python3.10/site-packages (from typer>=0.4.1->python-on-whales->otter-grader) (13.7.1)\n",
      "Requirement already satisfied: soupsieve>1.2 in /opt/anaconda3/envs/data110/lib/python3.10/site-packages (from beautifulsoup4->nbconvert->otter-grader) (2.5)\n",
      "Requirement already satisfied: sphinxcontrib-applehelp in /opt/anaconda3/envs/data110/lib/python3.10/site-packages (from sphinx->fica>=0.3.1->otter-grader) (2.0.0)\n",
      "Requirement already satisfied: sphinxcontrib-devhelp in /opt/anaconda3/envs/data110/lib/python3.10/site-packages (from sphinx->fica>=0.3.1->otter-grader) (2.0.0)\n",
      "Requirement already satisfied: sphinxcontrib-jsmath in /opt/anaconda3/envs/data110/lib/python3.10/site-packages (from sphinx->fica>=0.3.1->otter-grader) (1.0.1)\n",
      "Requirement already satisfied: sphinxcontrib-htmlhelp>=2.0.0 in /opt/anaconda3/envs/data110/lib/python3.10/site-packages (from sphinx->fica>=0.3.1->otter-grader) (2.1.0)\n",
      "Requirement already satisfied: sphinxcontrib-serializinghtml>=1.1.9 in /opt/anaconda3/envs/data110/lib/python3.10/site-packages (from sphinx->fica>=0.3.1->otter-grader) (2.0.0)\n",
      "Requirement already satisfied: sphinxcontrib-qthelp in /opt/anaconda3/envs/data110/lib/python3.10/site-packages (from sphinx->fica>=0.3.1->otter-grader) (2.0.0)\n",
      "Requirement already satisfied: snowballstemmer>=2.2 in /opt/anaconda3/envs/data110/lib/python3.10/site-packages (from sphinx->fica>=0.3.1->otter-grader) (2.2.0)\n",
      "Requirement already satisfied: babel>=2.13 in /opt/anaconda3/envs/data110/lib/python3.10/site-packages (from sphinx->fica>=0.3.1->otter-grader) (2.14.0)\n",
      "Requirement already satisfied: alabaster>=0.7.14 in /opt/anaconda3/envs/data110/lib/python3.10/site-packages (from sphinx->fica>=0.3.1->otter-grader) (1.0.0)\n",
      "Requirement already satisfied: imagesize>=1.3 in /opt/anaconda3/envs/data110/lib/python3.10/site-packages (from sphinx->fica>=0.3.1->otter-grader) (1.4.1)\n",
      "Requirement already satisfied: executing>=1.2.0 in /opt/anaconda3/envs/data110/lib/python3.10/site-packages (from stack-data->ipython->otter-grader) (2.0.1)\n",
      "Requirement already satisfied: asttokens>=2.1.0 in /opt/anaconda3/envs/data110/lib/python3.10/site-packages (from stack-data->ipython->otter-grader) (2.4.1)\n",
      "Requirement already satisfied: pure-eval in /opt/anaconda3/envs/data110/lib/python3.10/site-packages (from stack-data->ipython->otter-grader) (0.2.3)\n",
      "Requirement already satisfied: pyzmq>=23.0 in /opt/anaconda3/envs/data110/lib/python3.10/site-packages (from jupyter-client>=6.1.12->nbclient>=0.5.0->nbconvert->otter-grader) (26.1.0)\n",
      "Requirement already satisfied: tornado>=6.2 in /opt/anaconda3/envs/data110/lib/python3.10/site-packages (from jupyter-client>=6.1.12->nbclient>=0.5.0->nbconvert->otter-grader) (6.4.1)\n"
     ]
    }
   ],
   "source": [
    "!pip install pandas matplotlib scipy seaborn numpy scikit-learn\n",
    "!pip install otter-grader"
   ]
  },
  {
   "cell_type": "markdown",
   "id": "4d03c5bb-afb0-4850-9ca9-c1fe028e4f8d",
   "metadata": {},
   "source": [
    "# 1. Hello Team\n",
    "\n",
    "Form a group of **two to three** for this part of the activity. There's plenty of time, so please take your time and feel free to ask each other follow-up questions. \n",
    "\n",
    "Introduce yourselves, starting with the person who's traveled furthest away from Chapel Hill over the summer! First, share with each other the following. \n",
    "\n",
    "1. Your name. \n",
    "2. Your area or planned area of study at UNC. \n",
    "3. Why you are interested in Data Science.\n",
    "4. What kind of group project topics you are interested in. \n",
    "\n",
    "Once each of you have shared your interest in Data Science move on to the following question. You might want to spend a minute or so thinking about this one.  \n",
    "> *If you were a vegetable, which vegetable would you be, **and why**?* \n",
    "\n",
    "Make sure that you have both selected a vegetable and a reason. Note that this question is **not** the same as \"what is your favorite vegetable?\"\n",
    "\n",
    "For the purposes of this question, botanical vegetables and culinary vegetables are valid choices. For example, \"tomato\" or \"squash\" are both fully acceptable responses."
   ]
  },
  {
   "cell_type": "markdown",
   "id": "08094280-5585-4b47-8ee9-fcd6c45d1a44",
   "metadata": {},
   "source": [
    "# 2. Hello Jupyter\n",
    "\n",
    "The most important thing you will need to do in Jupyter is read, write, and run Python code. Write the following code, exactly as it appears, in the *code cell* below, underneath the `# comment`. \n",
    "\n",
    "```python\n",
    "print(\"to boldly go where no one has gone before\")\n",
    "```\n",
    "\n",
    "Then, with your cursor still in the code cell, hit `shift + enter` on your keyboard to run the code. You may also see a \"Play\" or \"Run\" button in the Jupyter toolbar which you can use to achieve the same result and advance to the next cell. There is also a keyboard shortcut to run the code and not advance to the next cell, which is often convenient. The shortcut depends on your operating system and whether you are using Jupyter Notebook or Jupyter Lab. These shortcuts are shown in the menu bar."
   ]
  },
  {
   "cell_type": "code",
   "execution_count": 3,
   "id": "f7d96477-a987-490e-aab8-be5f06047d32",
   "metadata": {},
   "outputs": [],
   "source": [
    "# write your code here\n"
   ]
  },
  {
   "cell_type": "markdown",
   "id": "76a45649-74dd-4b45-9f0b-cb8c73015f50",
   "metadata": {},
   "source": [
    "An important feature of the Jupyter interface is that the Python environment is persistent between code cells. That means that variables that you define in one code cell can be used in later code cells. \n",
    "\n",
    "In the cell below, type: \n",
    "\n",
    "```python\n",
    "vegetables = [\"corn\", \"carrot\", \"onion\"]\n",
    "```\n",
    "\n",
    "Replace the vegetables with the vegetables you each chose in 1. \n",
    "\n",
    "Run the code cell (`shift + enter`). "
   ]
  },
  {
   "cell_type": "code",
   "execution_count": 4,
   "id": "316e09d7-8026-4d8c-8a68-548df25892b3",
   "metadata": {
    "tags": []
   },
   "outputs": [],
   "source": [
    "# write your code here\n",
    "vegetables = ..."
   ]
  },
  {
   "cell_type": "code",
   "execution_count": 5,
   "id": "a75a1e79",
   "metadata": {
    "deletable": false,
    "editable": false
   },
   "outputs": [
    {
     "data": {
      "text/html": [
       "<p><strong style='color: red;'><pre style='display: inline;'>q1</pre> results:</strong></p><p><strong><pre style='display: inline;'>q1 - 1</pre> result:</strong></p><pre>    ❌ Test case failed\n",
       "    Trying:\n",
       "        assert type(vegetables) == list\n",
       "    Expecting nothing\n",
       "    **********************************************************************\n",
       "    Line 1, in q1 0\n",
       "    Failed example:\n",
       "        assert type(vegetables) == list\n",
       "    Exception raised:\n",
       "        Traceback (most recent call last):\n",
       "          File \"/opt/anaconda3/envs/data110/lib/python3.10/doctest.py\", line 1350, in __run\n",
       "            exec(compile(example.source, filename, \"single\",\n",
       "          File \"<doctest q1 0[0]>\", line 1, in <module>\n",
       "            assert type(vegetables) == list\n",
       "        AssertionError\n",
       "</pre>"
      ],
      "text/plain": [
       "q1 results:\n",
       "    q1 - 1 result:\n",
       "        ❌ Test case failed\n",
       "        Trying:\n",
       "            assert type(vegetables) == list\n",
       "        Expecting nothing\n",
       "        **********************************************************************\n",
       "        Line 1, in q1 0\n",
       "        Failed example:\n",
       "            assert type(vegetables) == list\n",
       "        Exception raised:\n",
       "            Traceback (most recent call last):\n",
       "              File \"/opt/anaconda3/envs/data110/lib/python3.10/doctest.py\", line 1350, in __run\n",
       "                exec(compile(example.source, filename, \"single\",\n",
       "              File \"<doctest q1 0[0]>\", line 1, in <module>\n",
       "                assert type(vegetables) == list\n",
       "            AssertionError"
      ]
     },
     "execution_count": 5,
     "metadata": {},
     "output_type": "execute_result"
    }
   ],
   "source": [
    "grader.check(\"q1\")"
   ]
  },
  {
   "cell_type": "markdown",
   "id": "20f08a73-136f-4c6b-8104-fa14c9c7d8f9",
   "metadata": {},
   "source": [
    "**Note on grading**: If you have gotten to this point, you will get full credit for today's lab! It is not necessary to complete the entire worksheet in order to receive full credit, provided that you are actively working on the activity for the entirety of the Lab period. If, however, you would like to meet up later with your partners to finish up the activity, then please do -- this will be very helpful for your learning (and therefore your performance on exams). "
   ]
  },
  {
   "cell_type": "markdown",
   "id": "5ca0763a-1c19-42e9-a068-8d149f8a063d",
   "metadata": {},
   "source": [
    "The variable `vegetables` is now part of the Python session and is available for future use. For example, type the following code in the cell below and run it. \n",
    "\n",
    "```python\n",
    "print(\"If we were a vegetable, we would be\", vegetables, \".\")\n",
    "```\n",
    "\n",
    "You'll learn more about how this works in the next week or so. "
   ]
  },
  {
   "cell_type": "code",
   "execution_count": 6,
   "id": "3ba42810-9964-4b45-99fe-fe580a270772",
   "metadata": {},
   "outputs": [],
   "source": [
    "# write your code here\n"
   ]
  },
  {
   "cell_type": "markdown",
   "id": "f6b0237b-27cf-4b4e-b988-fdb74ec23d57",
   "metadata": {},
   "source": [
    "Sometimes, you'll need to write some code, but there won't be a code cell present. In this case, you can use the `+` symbol on the toolbar to add a new code cell. Add a new cell now, immediately below this text, and type the following code: \n",
    "\n",
    "```python\n",
    "print(\"One of us would be a\", vegetables[0], \".\")\n",
    "```\n",
    "\n",
    "\\[add code cell immediately below\\]"
   ]
  },
  {
   "cell_type": "markdown",
   "id": "c51598a5-7188-48a4-89f3-6093f1b3c079",
   "metadata": {},
   "source": [
    "On occasion, you may find it useful to *restart the kernel*. Restarting the kernel has the effect of erasing all variables in the current Python session. \n",
    "\n",
    "**Restart the kernel by clicking the ↻ button in the Jupyter toolbar.** If asked whether you are sure you want to restart the kernel, choose \"yes\" \n",
    "\n",
    "Create a code cell below, and type in the following code: \n",
    "\n",
    "```python\n",
    "print(\"And some of us would be\", vegetables[1:], \".\")\n",
    "```\n",
    "\n",
    "\\[add code cell immediately below\\]"
   ]
  },
  {
   "cell_type": "markdown",
   "id": "81cc8061-0ced-4427-b9a6-f1dfc77db4a7",
   "metadata": {},
   "source": [
    "You should observe a `NameError: name 'vegetables' is not defined`. This is because, after restarting the kernel, the variable `vegetables` is no longer present in our namespace. To get it back, go back to the code cell in which you first defined this variable and run it. Then, the cell above will run without error. \n",
    "\n",
    "The toolbar also contains useful tools for duplicating cells, removing cells, and moving cells up and down. "
   ]
  },
  {
   "cell_type": "markdown",
   "id": "5c4a162e-ef9d-4ed1-b088-e758c720b387",
   "metadata": {},
   "source": [
    "# 3. Hello Markdown\n",
    "\n",
    "Throughout DATA110, you will frequently be asked to write explanatory text in which you describe your problem-solving strategy and the structure of your code. One way to do this will be in comments and docstrings, which we will introduce later. Another important way is with *Markdown cells.* Markdown (https://en.wikipedia.org/wiki/Markdown#Example) is a simple, readable way to create formatted text. It was invented by John Gruber and Aaron Swartz. This cheatsheet (https://commonmark.org/help/) contains a useful and concise set of instructions for Markdown editing. \n",
    "\n",
    "To create a Markdown cell, first create a code cell like you did before. Then, with your cursor in the code cell, click the dropdown menu in the toolbar that says \"Code\".  Select \"Markdown\" from this menu instead. \n",
    "\n",
    "Return to the cell and type the following characters, exactly as they appear:\n",
    "\n",
    "`*To boldly go* **where no one has gone before.**`\n",
    "\n",
    "Then, \"run\" the Markdown cell (`shift + enter` again) to see your text rendered with italic and bold formatting. "
   ]
  },
  {
   "cell_type": "markdown",
   "id": "16147e7a-5235-454a-935d-b9f76c692cee",
   "metadata": {},
   "source": [
    "Now, work with your group to reproduce in Markdown the following algorithm for enjoying a relaxing cup of tea. \n",
    "\n",
    "<br>\n",
    "\n",
    "<figure class=\"image\" style=\"width:40%\">\n",
    "  <img src=\"https://raw.githubusercontent.com/PhilChodrow/PIC16A/master/_images/making-tea.png\" alt=\"A list of six items describing how to make tea. The list reads:             \n",
    "    1. Boil water.\n",
    "    2. Place tea bag in mug.\n",
    "    3. Pour water in mug. **Be careful, water is hot!**\n",
    "    3. *Optional: add milk and/or sugar*. \n",
    "    4. Drink tea. \n",
    "        - `while cup is not empty`\n",
    "            - Carefully raise mug to mouth. \n",
    "            - Take a sip. \n",
    "    5. Clean mug. \">\n",
    "  <figcaption><i></i></figcaption>\n",
    "</figure>\n",
    "\n",
    "\n",
    "\\[add markdown cell immediately below\\]"
   ]
  },
  {
   "cell_type": "markdown",
   "id": "7d4fe22d-87ec-4b87-aed4-cf23f7412326",
   "metadata": {},
   "source": [
    "# 4. Goodbye first recitation\n",
    "\n",
    "Great job! It's time to submit the worksheet. Make sure to run the last cell, download the zip file, and submit it on Gradescope under `Lab 1`.  \n"
   ]
  },
  {
   "cell_type": "markdown",
   "id": "573016e4",
   "metadata": {
    "deletable": false,
    "editable": false
   },
   "source": [
    "## Submission\n",
    "\n",
    "Make sure you have run all cells in your notebook in order before running the cell below, so that all images/graphs appear in the output. The cell below will generate a zip file for you to submit. **Please save before exporting!**\n",
    "\n",
    "Gradescope Lab1"
   ]
  },
  {
   "cell_type": "code",
   "execution_count": 7,
   "id": "a73f34ed",
   "metadata": {
    "deletable": false,
    "editable": false
   },
   "outputs": [
    {
     "name": "stdout",
     "output_type": "stream",
     "text": [
      "Running your submission against local test cases...\n",
      "\n",
      "\n",
      "Your submission received the following results when run against available test cases:\n",
      "\n",
      "    q1 results:\n",
      "        q1 - 1 result:\n",
      "            ❌ Test case failed\n",
      "            Trying:\n",
      "                assert type(vegetables) == list\n",
      "            Expecting nothing\n",
      "            **********************************************************************\n",
      "            Line 1, in q1 0\n",
      "            Failed example:\n",
      "                assert type(vegetables) == list\n",
      "            Exception raised:\n",
      "                Traceback (most recent call last):\n",
      "                  File \"/opt/anaconda3/envs/data110/lib/python3.10/doctest.py\", line 1350, in __run\n",
      "                    exec(compile(example.source, filename, \"single\",\n",
      "                  File \"<doctest q1 0[0]>\", line 1, in <module>\n",
      "                    assert type(vegetables) == list\n",
      "                AssertionError\n"
     ]
    },
    {
     "data": {
      "text/html": [
       "\n",
       "                    <p>\n",
       "                        Your submission has been exported. Click\n",
       "                        <a href=\"setup_2024_08_11T18_14_05_575736.zip\" download=\"setup_2024_08_11T18_14_05_575736.zip\" target=\"_blank\">here</a> to download\n",
       "                        the zip file.\n",
       "                    </p>\n",
       "                "
      ],
      "text/plain": [
       "<IPython.core.display.HTML object>"
      ]
     },
     "metadata": {},
     "output_type": "display_data"
    }
   ],
   "source": [
    "# Save your notebook first, then run this cell to export your submission.\n",
    "grader.export(pdf=False, run_tests=True)"
   ]
  },
  {
   "cell_type": "markdown",
   "id": "5d09c5f4",
   "metadata": {},
   "source": [
    " "
   ]
  }
 ],
 "metadata": {
  "kernelspec": {
   "display_name": "Python 3 (ipykernel)",
   "language": "python",
   "name": "python3"
  },
  "language_info": {
   "codemirror_mode": {
    "name": "ipython",
    "version": 3
   },
   "file_extension": ".py",
   "mimetype": "text/x-python",
   "name": "python",
   "nbconvert_exporter": "python",
   "pygments_lexer": "ipython3",
   "version": "3.10.14"
  },
  "otter": {
   "OK_FORMAT": true,
   "tests": {
    "q1": {
     "name": "q1",
     "points": null,
     "suites": [
      {
       "cases": [
        {
         "code": ">>> assert type(vegetables) == list\n",
         "hidden": false,
         "locked": false
        }
       ],
       "scored": true,
       "setup": "",
       "teardown": "",
       "type": "doctest"
      }
     ]
    }
   }
  }
 },
 "nbformat": 4,
 "nbformat_minor": 5
}
