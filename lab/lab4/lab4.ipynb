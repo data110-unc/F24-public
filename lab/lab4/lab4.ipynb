{
 "cells": [
  {
   "cell_type": "code",
   "execution_count": null,
   "metadata": {
    "deletable": false,
    "editable": false
   },
   "outputs": [],
   "source": [
    "# Initialize Otter\n",
    "import otter\n",
    "grader = otter.Notebook(\"lab4.ipynb\")"
   ]
  },
  {
   "cell_type": "markdown",
   "metadata": {},
   "source": [
    "## Name: [Your name] (your onyen)\n",
    "\n",
    "In this activity, our focus will be on using Pandas to operate on tables. You'll find referring back to lecture 6 and 7 slides very helpful, and lec6.ipynb and lec7.ipynb in F24-public/demos/.\n",
    "\n",
    "\n",
    "**Work in groups of 2~3.**\n",
    "\n",
    "Names and onyens of people you worked with today\n",
    "\n",
    "- Teammate 1:\n",
    "- Teammate 2:\n",
    "- Teammate 3:\n",
    "\n"
   ]
  },
  {
   "cell_type": "markdown",
   "metadata": {},
   "source": [
    "# Lab4 Fun with Pandas\n",
    "<img src=\"https://get.pxhere.com/photo/Zoo-Berlin-zoo-berlin-panda-plant-carnivore-nature-branch-biome-terrestrial-animal-natural-material-trunk-tree-snout-fur-nature-reserve-jungle-twig-tail-split-rail-fence-wildlife-grass-wood-bear-claw-1643708.jpg\" width=800px>\n",
    "<div style=\"text-align: center\"> </div>\n",
    "\n",
    "## Helpful guidelines\n",
    "When working with tables on the kinds of questions in this lab and in lecture, start by thinking:\n",
    "- _row selection:_ \"Which rows do I need?  How do I get those rows?\"\n",
    "- _column selection:_ \"Which columns do I need?\"\n",
    "- _action:_ \"What do I want to do with these columns? Do I want to calculate a single number like average?  Do I need to manipulate all rows in this column to get another column of the same size?\"\n",
    "- _result:_ \"Do I need to assign the output of this to another variable?\"\n",
    "\n",
    "Thinking through what you are trying to do step by step makes these kinds of problems much easier."
   ]
  },
  {
   "cell_type": "markdown",
   "metadata": {},
   "source": [
    "## 1. Loading a table from a file, and understanding the table.\n",
    "First, you will load some Comma-Separated Values (CSV) data from a file.  You'll use the pandas function `read_csv()` to do this, so pandas needs to be imported (which is done for you in the code below).  Add the code to call `read_csv()` to read a file named 'fire_swamp_flame_spurt.csv' and assign the data to the table `flame_df`."
   ]
  },
  {
   "cell_type": "code",
   "execution_count": null,
   "metadata": {
    "tags": []
   },
   "outputs": [],
   "source": [
    "import pandas as pd\n",
    "#BEGIN SOLUTION\n",
    "flame_df = pd.read_csv('fire_swamp_flame_spurt.csv')\n",
    "#END SOLUTION\n",
    "flame_df"
   ]
  },
  {
   "cell_type": "code",
   "execution_count": null,
   "metadata": {
    "deletable": false,
    "editable": false
   },
   "outputs": [],
   "source": [
    "grader.check(\"read\")"
   ]
  },
  {
   "cell_type": "markdown",
   "metadata": {},
   "source": [
    "You should see table with 2 labeled columns and 272 rows containing data for the deadly Fire Swamp flame spurt.  (Think of it like a hotter version of Old Faithful).  Run the following cells to learn more about the table."
   ]
  },
  {
   "cell_type": "code",
   "execution_count": null,
   "metadata": {},
   "outputs": [],
   "source": [
    "type(flame_df)"
   ]
  },
  {
   "cell_type": "markdown",
   "metadata": {},
   "source": [
    "Note that sometimes when you check the type of something, the return value looks more complex than what you would expect, but it is still equivalent to the simpler type that you were expecting, as you can see in the next cell."
   ]
  },
  {
   "cell_type": "code",
   "execution_count": null,
   "metadata": {},
   "outputs": [],
   "source": [
    "type(flame_df) == pd.DataFrame"
   ]
  },
  {
   "cell_type": "code",
   "execution_count": null,
   "metadata": {},
   "outputs": [],
   "source": [
    "flame_df.dtypes"
   ]
  },
  {
   "cell_type": "code",
   "execution_count": null,
   "metadata": {},
   "outputs": [],
   "source": [
    "flame_df.columns"
   ]
  },
  {
   "cell_type": "code",
   "execution_count": null,
   "metadata": {},
   "outputs": [],
   "source": [
    "flame_df.shape"
   ]
  },
  {
   "cell_type": "markdown",
   "metadata": {},
   "source": [
    "Using `shape` (like the cell above) is a great way to get the number of rows and columns of a table.  Can you think of any other way to get the number of rows and number of columns that doesn't use `shape`?  Write your code below."
   ]
  },
  {
   "cell_type": "code",
   "execution_count": null,
   "metadata": {
    "tags": []
   },
   "outputs": [],
   "source": [
    "num_rows = ...\n",
    "num_cols = ..."
   ]
  },
  {
   "cell_type": "code",
   "execution_count": null,
   "metadata": {},
   "outputs": [],
   "source": [
    "flame_df.describe()"
   ]
  },
  {
   "cell_type": "markdown",
   "metadata": {},
   "source": [
    "Finish the code to create list of the column names but in all capital letters.  The `upper()` function might come in handy, and maybe another function we've used to tack things on to the end of a list."
   ]
  },
  {
   "cell_type": "code",
   "execution_count": null,
   "metadata": {
    "tags": []
   },
   "outputs": [],
   "source": [
    "capitalized = []\n",
    "for item in flame_df.columns:\n",
    "...\n",
    "\n",
    "capitalized"
   ]
  },
  {
   "cell_type": "code",
   "execution_count": null,
   "metadata": {
    "deletable": false,
    "editable": false
   },
   "outputs": [],
   "source": [
    "grader.check(\"examine\")"
   ]
  },
  {
   "cell_type": "markdown",
   "metadata": {},
   "source": [
    "## 2. Working with the columns of the table."
   ]
  },
  {
   "cell_type": "markdown",
   "metadata": {},
   "source": [
    "People are often told that an eruption happens every hour, but in fact the waiting time between eruptions is more variable.  Let's check in out.  Finish the code below to assign the 'waiting' column to `waiting_times`"
   ]
  },
  {
   "cell_type": "code",
   "execution_count": null,
   "metadata": {
    "tags": []
   },
   "outputs": [],
   "source": [
    "waiting_times = ...\n",
    "waiting_times"
   ]
  },
  {
   "cell_type": "code",
   "execution_count": null,
   "metadata": {
    "tags": []
   },
   "outputs": [],
   "source": [
    "shortest = waiting_times.min()\n",
    "longest = ...\n",
    "average = round(waiting_times.mean())\n",
    "\n",
    "print(\"Flame spurt erupts every\", shortest, \"to\", longest, \"minutes and every\", average, \"minutes on average.\")"
   ]
  },
  {
   "cell_type": "code",
   "execution_count": null,
   "metadata": {
    "deletable": false,
    "editable": false
   },
   "outputs": [],
   "source": [
    "grader.check(\"max\")"
   ]
  },
  {
   "cell_type": "markdown",
   "metadata": {},
   "source": [
    "How would you make a table that only contains the columns 'eruptions' and 'waiting'?  There a couple ways to do this (as is often the case!).  You can use the function drop() to _drop_ the column you don't want, or you can used the function filter() to _keep_ the columns you do want.  Write code for doing this both ways.  Note this won't change the original table `flame_df`"
   ]
  },
  {
   "cell_type": "code",
   "execution_count": null,
   "metadata": {
    "tags": []
   },
   "outputs": [],
   "source": [
    "eruptwait_df1 = ...\n",
    "eruptwait_df2 = ..."
   ]
  },
  {
   "cell_type": "markdown",
   "metadata": {},
   "source": [
    "In this case, the amount of code for each solution is not too different.  Discuss with your teammates cases when each of these approaches would be much less typing the other.  Hint: not for this table! "
   ]
  },
  {
   "cell_type": "markdown",
   "metadata": {},
   "source": [
    "It turns out that if the height of the eruption is greater than 10, there is a popping noise half a minute before the eruption happens.  Add a new column to `flame_df` named 'popping sound' that is contains Boolean values for whether a popping sound would occur for each eruption."
   ]
  },
  {
   "cell_type": "code",
   "execution_count": null,
   "metadata": {
    "tags": []
   },
   "outputs": [],
   "source": [
    "...\n",
    "flame_df"
   ]
  },
  {
   "cell_type": "code",
   "execution_count": null,
   "metadata": {
    "deletable": false,
    "editable": false
   },
   "outputs": [],
   "source": [
    "grader.check(\"popping\")"
   ]
  },
  {
   "cell_type": "markdown",
   "metadata": {},
   "source": [
    "## 3. Working with the rows of the table.\n",
    "Often, you'll be doing operations on a single row, or a set of rows.  The operations in the cells below are row operations.  Check what each one does."
   ]
  },
  {
   "cell_type": "code",
   "execution_count": null,
   "metadata": {},
   "outputs": [],
   "source": [
    "flame_df.loc[3]"
   ]
  },
  {
   "cell_type": "code",
   "execution_count": null,
   "metadata": {},
   "outputs": [],
   "source": [
    "flame_df.head(4)"
   ]
  },
  {
   "cell_type": "code",
   "execution_count": null,
   "metadata": {},
   "outputs": [],
   "source": [
    "flame_df.tail(5)"
   ]
  },
  {
   "cell_type": "code",
   "execution_count": null,
   "metadata": {},
   "outputs": [],
   "source": [
    "flame_df.head(-265)"
   ]
  },
  {
   "cell_type": "markdown",
   "metadata": {},
   "source": [
    "What is this doing?  Discuss with your team what a negative argument to `head()` and `tails()` means."
   ]
  },
  {
   "cell_type": "markdown",
   "metadata": {},
   "source": [
    "### Boolean Indexing\n",
    "If you had been there when this data was collected, and you decided to step onto the spurt immediately after it erupted, then jump out of the way exactly 59.5 minutes later, how many times would you get burned?  Set `burned_count` to this amount.  Note that it is possible to do this in on line of code, but it is perfectly fine to use more lines of code, especially if it helps your understanding."
   ]
  },
  {
   "cell_type": "code",
   "execution_count": null,
   "metadata": {
    "tags": []
   },
   "outputs": [],
   "source": [
    "\n",
    "burned_count = ..."
   ]
  },
  {
   "cell_type": "code",
   "execution_count": null,
   "metadata": {
    "deletable": false,
    "editable": false
   },
   "outputs": [],
   "source": [
    "grader.check(\"burned\")"
   ]
  },
  {
   "cell_type": "markdown",
   "metadata": {},
   "source": [
    "In an effort to get burned less, you realize you could also jump out of the way if you hear the popping noise before the eruption.  So you decide to jump out of the way 59.5 minutes just like before, unless you hear a popping noise first, in which case you'll jump away when you hear the noise.  Now how many times do you get burned?  Assign the result to `burned_count_popping`  Hint: the popping noise should lower the number of times you get burned! "
   ]
  },
  {
   "cell_type": "code",
   "execution_count": null,
   "metadata": {
    "tags": []
   },
   "outputs": [],
   "source": [
    "\n",
    "burned_count_popping = ...\n",
    "burned_count_popping"
   ]
  },
  {
   "cell_type": "code",
   "execution_count": null,
   "metadata": {
    "deletable": false,
    "editable": false
   },
   "outputs": [],
   "source": [
    "grader.check(\"burned_popping\")"
   ]
  },
  {
   "cell_type": "markdown",
   "metadata": {},
   "source": [
    "## 4. Using sort_values()"
   ]
  },
  {
   "cell_type": "markdown",
   "metadata": {},
   "source": [
    "Suppose you want to find the 12th tallest eruption in the data.  How would you do this?  Well, it would be nice if the table data was sorted descending by height.  Make a table `flame_sorted_by_height` that is `flame_df` sorted by descending height using `sort_values()`, then use `head(15)` to look at the result.  Hint: by default, `sort_values()` sorts in ascending order, because it has default argment `ascending=True`."
   ]
  },
  {
   "cell_type": "code",
   "execution_count": null,
   "metadata": {
    "tags": []
   },
   "outputs": [],
   "source": [
    "flame_sorted_by_height = ...\n",
    "flame_sorted_by_height.head(15)"
   ]
  },
  {
   "cell_type": "markdown",
   "metadata": {},
   "source": [
    "First, you should notice that there are several eruptions that have the same height.  The order of those eruptions with the same height isn't specified; let's do another sort that adds a second attribute to sort on in case of a first-attribute tie (just like we did in lecture).  To do this, instead of passing a single column name to `sort_values()`, pass a list containing the two column names.  Use 'waiting' as the secondary attribute to sort on, and store the result in `flame_sorted_by_height_then_waiting`.  You should see some slight differences in the ordering of the rows compared to `flame_sorted_by_height`."
   ]
  },
  {
   "cell_type": "code",
   "execution_count": null,
   "metadata": {
    "tags": []
   },
   "outputs": [],
   "source": [
    "flame_sorted_by_height_then_waiting = ...\n",
    "flame_sorted_by_height_then_waiting.head(15)"
   ]
  },
  {
   "cell_type": "markdown",
   "metadata": {},
   "source": [
    "Second, notice that the index no longer starts at zero and counts up.  That is because the index stays with the other data when you sort.  What is the waiting time for the 12th tallest eruption in the sort you did above?  Hint: using `loc[]` won't be useful here, because the index isn't in order any more.  This is where `iloc[]` is useful.  For example, to get the second tallest eruption you would use `flame_sorted_by_height_then_waiting.iloc[1]` (since we start counting from 0!).  Write code below to get the data sample for the 12th tallest eruption.\n"
   ]
  },
  {
   "cell_type": "code",
   "execution_count": null,
   "metadata": {
    "tags": []
   },
   "outputs": [],
   "source": [
    "..."
   ]
  },
  {
   "cell_type": "markdown",
   "metadata": {},
   "source": [
    "Once you have the row you want, you can then get a particular piece of data by accessing the column.  So the waiting time of the second tallest eruption would be `flame_sorted_by_height_then_waiting.iloc[1].loc['waiting']`.  What would the waiting time be for the 12th tallest eruption?"
   ]
  },
  {
   "cell_type": "code",
   "execution_count": null,
   "metadata": {
    "tags": []
   },
   "outputs": [],
   "source": [
    "wait_time_12th_tallest = ..."
   ]
  },
  {
   "cell_type": "code",
   "execution_count": null,
   "metadata": {
    "deletable": false,
    "editable": false
   },
   "outputs": [],
   "source": [
    "grader.check(\"sort\")"
   ]
  },
  {
   "cell_type": "markdown",
   "metadata": {},
   "source": [
    "Did the secondary sort change waiting time you'd report for the 12th tallest eruption?  In other words, are the 12th rows in `flame_sorted_by_height` and `flame_sorted_by_height_then_waiting` the same?\n",
    "\n"
   ]
  },
  {
   "cell_type": "markdown",
   "metadata": {},
   "source": [
    "**Note on grading**: If you have gotten to this point, you will get full credit for today's lab! It is not necessary to complete the entire worksheet in order to receive full credit, provided that you are actively working on the activity for the entirety of the Lab period. If, however, you would like to meet up later with your partners to finish up the activity, then please do -- this will be very helpful for your learning (and therefore your performance on exams). "
   ]
  },
  {
   "cell_type": "markdown",
   "metadata": {},
   "source": [
    "## 5. Using groupby()\n",
    "groupby is one of the most power pandas functions.  In order to see the full power of groupby, we will first add a new column called 'size' and initialize the entries to 'medium'"
   ]
  },
  {
   "cell_type": "code",
   "execution_count": null,
   "metadata": {},
   "outputs": [],
   "source": [
    "flame_df['size']='medium'\n",
    "flame_df.head()"
   ]
  },
  {
   "cell_type": "markdown",
   "metadata": {},
   "source": [
    "Next, we will set some of the values of column 'size' to either 'big' or 'small' depending on height:"
   ]
  },
  {
   "cell_type": "code",
   "execution_count": null,
   "metadata": {},
   "outputs": [],
   "source": [
    "flame_df.loc[flame_df['height']>35,'size']='large'\n",
    "flame_df.loc[flame_df['height']<15,'size']='small'\n",
    "flame_df"
   ]
  },
  {
   "cell_type": "markdown",
   "metadata": {},
   "source": [
    "Now that the new column is ready, you can use it to help decide if waiting time is related to size.  Use groupby() to print the min, average, and max waiting time for each size of eruption.  Hint: make sure to also print the size string along with each average!\n"
   ]
  },
  {
   "cell_type": "code",
   "execution_count": null,
   "metadata": {
    "tags": []
   },
   "outputs": [],
   "source": [
    "..."
   ]
  },
  {
   "cell_type": "markdown",
   "metadata": {},
   "source": [
    "So based on the values, wht do you think; is the size of the eruption related to the waiting time?  When we learn more about statistics, we'll have additional tools to answer this question more definitively."
   ]
  },
  {
   "cell_type": "markdown",
   "metadata": {},
   "source": [
    "## 6. The power of pandas\n",
    "Professor Rick shows Professor Harlin the Python function below (which looks like it was written by a C programmer from the 1990s) and asks \"Is there a better way to do this with Pandas? Asking for a friend.\" "
   ]
  },
  {
   "cell_type": "code",
   "execution_count": null,
   "metadata": {},
   "outputs": [],
   "source": [
    "def attribute_total( df, attribute):\n",
    "    total = 0\n",
    "    for attrib_item in df.columns:\n",
    "        if attrib_item == attribute:\n",
    "            num_rows = len(df)\n",
    "            for i in range(0,num_rows):\n",
    "                total = total + df.at[i, attrib_item]\n",
    "    return total\n",
    "\n"
   ]
  },
  {
   "cell_type": "markdown",
   "metadata": {},
   "source": [
    "First of all, what does it look like the function above trying to do?  Would the fuction above execute?  (a good way to answer a question like that is to try calling it!) Does the code do what it is supposed to?  Professor Harlin's answr to Professor Rick: \"Your 'friend' is doing things the hard way.  That's only one line of Pandas code.\"  How would you do this easily with Pandas?  Write your code below, using the string `attribute` and table `df` that are defined for you."
   ]
  },
  {
   "cell_type": "code",
   "execution_count": null,
   "metadata": {
    "tags": []
   },
   "outputs": [],
   "source": [
    "attribute = 'height'\n",
    "df = flame_df\n",
    "pandas_attribute_total = ..."
   ]
  },
  {
   "cell_type": "code",
   "execution_count": null,
   "metadata": {},
   "outputs": [],
   "source": [
    "\n"
   ]
  },
  {
   "cell_type": "markdown",
   "metadata": {
    "deletable": false,
    "editable": false
   },
   "source": [
    "## Submission\n",
    "\n",
    "Make sure you have run all cells in your notebook in order before running the cell below, so that all images/graphs appear in the output. The cell below will generate a zip file for you to submit. **Please save before exporting!**\n",
    "\n",
    "Submit zip and PDF file to Gradescope Lab 4"
   ]
  },
  {
   "cell_type": "code",
   "execution_count": null,
   "metadata": {
    "deletable": false,
    "editable": false
   },
   "outputs": [],
   "source": [
    "# Save your notebook first, then run this cell to export your submission.\n",
    "grader.export(pdf=False, run_tests=True)"
   ]
  },
  {
   "cell_type": "markdown",
   "metadata": {},
   "source": [
    " "
   ]
  }
 ],
 "metadata": {
  "kernelspec": {
   "display_name": "Python 3 (ipykernel)",
   "language": "python",
   "name": "python3"
  },
  "language_info": {
   "codemirror_mode": {
    "name": "ipython",
    "version": 3
   },
   "file_extension": ".py",
   "mimetype": "text/x-python",
   "name": "python",
   "nbconvert_exporter": "python",
   "pygments_lexer": "ipython3",
   "version": "3.12.6"
  },
  "otter": {
   "OK_FORMAT": true,
   "tests": {
    "burned": {
     "name": "burned",
     "points": 0.2,
     "suites": [
      {
       "cases": [
        {
         "code": ">>> assert burned_count == 77\n",
         "hidden": false,
         "locked": false
        }
       ],
       "scored": true,
       "setup": "",
       "teardown": "",
       "type": "doctest"
      }
     ]
    },
    "burned_popping": {
     "name": "burned_popping",
     "points": 0.2,
     "suites": [
      {
       "cases": [
        {
         "code": ">>> assert burned_count_popping == 17\n",
         "hidden": false,
         "locked": false
        }
       ],
       "scored": true,
       "setup": "",
       "teardown": "",
       "type": "doctest"
      }
     ]
    },
    "examine": {
     "name": "examine",
     "points": 0.1,
     "suites": [
      {
       "cases": [
        {
         "code": ">>> assert capitalized == ['ERUPTIONS', 'WAITING', 'HEIGHT']\n",
         "hidden": false,
         "locked": false
        }
       ],
       "scored": true,
       "setup": "",
       "teardown": "",
       "type": "doctest"
      }
     ]
    },
    "max": {
     "name": "max",
     "points": 0.1,
     "suites": [
      {
       "cases": [
        {
         "code": ">>> assert longest == 96\n",
         "hidden": false,
         "locked": false
        }
       ],
       "scored": true,
       "setup": "",
       "teardown": "",
       "type": "doctest"
      }
     ]
    },
    "popping": {
     "name": "popping",
     "points": 0.2,
     "suites": [
      {
       "cases": [
        {
         "code": ">>> assert flame_df.loc[0, 'popping sound'] == True\n>>> assert flame_df.loc[1, 'popping sound'] == False\n",
         "hidden": false,
         "locked": false
        }
       ],
       "scored": true,
       "setup": "",
       "teardown": "",
       "type": "doctest"
      }
     ]
    },
    "read": {
     "name": "read",
     "points": 0.1,
     "suites": [
      {
       "cases": [
        {
         "code": ">>> assert flame_df.loc[1, 'waiting'] == 54\n",
         "hidden": false,
         "locked": false
        }
       ],
       "scored": true,
       "setup": "",
       "teardown": "",
       "type": "doctest"
      }
     ]
    },
    "sort": {
     "name": "sort",
     "points": 0.2,
     "suites": [
      {
       "cases": [
        {
         "code": ">>> assert wait_time_12th_tallest == 72\n",
         "hidden": false,
         "locked": false
        }
       ],
       "scored": true,
       "setup": "",
       "teardown": "",
       "type": "doctest"
      }
     ]
    }
   }
  }
 },
 "nbformat": 4,
 "nbformat_minor": 4
}
