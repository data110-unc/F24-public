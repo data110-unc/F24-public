{
 "cells": [
  {
   "cell_type": "markdown",
   "id": "1cbab018",
   "metadata": {},
   "source": [
    "# Your name and onyen\n",
    "\n",
    "People you've worked with:\n",
    "\n",
    "1. name and onyen\n",
    "2. name and onyen\n",
    "3. name and onyen\n",
    "\n",
    "Submission instruction: Please upload your`lab5.ipynb` file to Gradescope! No autograder, only manual grading today. You are **not** required to finish the entire worksheet provided that you were actively engaged during the entire class period. As long as you've collaborated, put in good effort and made **reasonable progress** during lab period, you can expect to get full credit."
   ]
  },
  {
   "cell_type": "markdown",
   "id": "9588bcf1-3e07-4fcc-b8a7-e2ec543ff0cd",
   "metadata": {},
   "source": [
    "# 1. Motivation\n",
    "\n",
    "This week, we discussed how to use `seaborn` to visualize table data. As mentioned in the beginning, `seaborn` is a powerful tool that can get us very beautiful plots easily, but it can also be difficut to customize plots to 100% our liking. That's why today we are going over some important `matplotlib` functions and parameters that can be used in conjunction with `seaborn`."
   ]
  },
  {
   "cell_type": "code",
   "execution_count": null,
   "id": "efd1e69f-456f-4b3a-a89b-a53c2681c3c7",
   "metadata": {},
   "outputs": [],
   "source": [
    "# Run this cell\n",
    "\n",
    "import pandas as pd\n",
    "import seaborn as sns\n",
    "import matplotlib.pyplot as plt"
   ]
  },
  {
   "attachments": {},
   "cell_type": "markdown",
   "id": "2bcb4589-72bd-4933-a708-41097bf85825",
   "metadata": {},
   "source": [
    "# 2. Figures and axes\n",
    "\n",
    "These two images from the [ListenData matplotlib tutorial](https://www.listendata.com/2019/06/matplotlib-tutorial-learn-plot-python.html) summarize the most important elements of a Matplotlib figure (remember that seaborn uses matplotlib behind the scenes).\n",
    "\n",
    "\n",
    "![Matplotlib figure elements](https://blogger.googleusercontent.com/img/b/R29vZ2xl/AVvXsEj-ZStrYVLlanGuxuDmk_m2W8oXCIH-ueK9cgORQC_oY9_YwAkxf4npj2GbupXFaroy0s05fc2naWUsoF8J6R-A1pzKvsIKNn_ZmfYQqHKsVfmc0gVM2jcH6ZCb4ykO0H847mWyCYctwy0C/s1600/basics_matplotlib.PNG)\n",
    "\n",
    "- A **figure** is the overall space in which visualizations may be created. Think of it as a canvas for your painting.\n",
    "- An **axis** is the x- or y- axis along which the values occur.\n",
    "    - It may have a text **label** that describes what type of values are occurring along that direction.\n",
    "    - It may have **ticks** that mark spots on the axis. These ticks may have corresponding **tick labels**.\n",
    "- An **axes** is a single visualization (i.e. \"a plot\") containing both x- and y-axis.\n",
    "    - It may contain a **title**.\n",
    "    - Figures can contain one or more axes (just like you can have multiple drawings and paintings on one canvas). See the image below.\n",
    "\n",
    "![Subplots](https://blogger.googleusercontent.com/img/b/R29vZ2xl/AVvXsEhUh6lQj_vTkc0aoAnNVLuD-mmFNmn24dCj9hoPtdeABBnw4gPR0DNW-sYGLDQhIKJiTgU7bIbaAfMPXVXCF1qa6bBKxNGpMKKSc-cvAASK7Dk9wKFvQta2qn3G_5HLi9myL4LbFHQDqTEd/s1600/figure_axes.PNG)\n",
    "\n"
   ]
  },
  {
   "cell_type": "markdown",
   "id": "82fb1bbe-88a9-492d-9744-b82b59551a15",
   "metadata": {},
   "source": [
    "Here is how you make a figure and *an* axes.\n",
    "\n",
    "```Python\n",
    "fig, ax = plt.subplots(1)\n",
    "```"
   ]
  },
  {
   "cell_type": "code",
   "execution_count": null,
   "id": "4b65b8d0-ad25-4f46-afae-184c8e670a05",
   "metadata": {},
   "outputs": [],
   "source": [
    "# Copy and run the code here\n"
   ]
  },
  {
   "cell_type": "markdown",
   "id": "e2022f59-0067-475f-9bc6-5a40c3e8f476",
   "metadata": {},
   "source": [
    "Specify the figure dimension (width, height) in inches with parameter `figsize`.\n",
    "\n",
    "```Python\n",
    "fig, ax = plt.subplots(1, figsize=(5,3))\n",
    "fig, ax = plt.subplots(1, figsize=(12,8))\n",
    "```\n",
    "\n",
    "Q) Do you notice anything different about the size of the box as well as the fontsizes? "
   ]
  },
  {
   "cell_type": "code",
   "execution_count": null,
   "id": "d8ef9f11-5c5e-4eac-ae72-4bcc556b4f4a",
   "metadata": {},
   "outputs": [],
   "source": [
    "# Copy and run the code here\n"
   ]
  },
  {
   "cell_type": "markdown",
   "id": "1ea9f1e2-2749-48e8-b24d-a213cb7750fb",
   "metadata": {},
   "source": [
    "# 3. Combining axes with seaborn\n",
    "\n",
    "This is actually fairly simple.\n",
    "1. Create a matplotlib axes. This is equivalent to telling seaborn that this is the canvas we're now working with.\n",
    "2. Run seaborn plotting functions.\n",
    "3. Update parameters of the axes.\n",
    "\n",
    "Here is an example that creates a rather ugly and \"bad\" figure only for the purpose of demonstration:\n",
    "```Python\n",
    "fig, ax = plt.subplots(1, figsize=(5,5))\n",
    "sns.histplot(data=penguins, x='Culmen Length (mm)',\n",
    "             alpha=0.2,\n",
    "             color='tab:orange') \n",
    "\n",
    "ax.set_xlabel('Culmen Length', fontsize=16)\n",
    "ax.set_ylabel('Penguin count', fontsize=16)\n",
    "\n",
    "ax.set_title('Penguinssss', fontsize=24)\n",
    "\n",
    "ax.set_xlim([10, 65])\n",
    "ax.set_xticks([15, 20, 50])\n",
    "ax.set_xticklabels([\"15mm\", \"20mm\", \"50mm\"])\n",
    "\n",
    "ax.set_ylim([25, 80])\n",
    "ax.set_yticks([30, 40, 50])\n",
    "ax.set_yticklabels([30, 40, 50], fontsize=13)\n",
    "```\n",
    "\n",
    "Compare it with the default plot you get with\n",
    "```Python\n",
    "sns.histplot(data=penguins, x='Culmen Length (mm)')\n",
    "```\n",
    "\n",
    "Q) Can you figure out what each of the added code does? If you're confused, the best way is to change one of the items and observe how that changes the resulting plot.\n",
    "- In particular, what does `alpha` do? Hint: It must be a float between 0 and 1.\n",
    "- `xlabel`, `ylabel`\n",
    "- `xlim`, `ylim`\n",
    "- `xticks`, `yticks`\n",
    "- `xticklabels`, `yticklabels`\n",
    "\n",
    "An important note on colors:\n",
    "- There are [many ways to specify colors](https://matplotlib.org/stable/users/explain/colors/colors.html#color-formats) for matplotlib. For example, you can provide a hex color code such as `'#056412'`.\n",
    "- When choosing colors, it is adivsable to use color palettes that are accessible to those with color blindness. See resources on this topic such as [this](https://www.nceas.ucsb.edu/sites/default/files/2022-06/Colorblind%20Safe%20Color%20Schemes.pdf) and [this](https://davidmathlogic.com/colorblind/).\n",
    "\n",
    "Q) Can you try to make it prettier and put it in a function?\n",
    "\n",
    "```Python\n",
    "def pretty_hist(penguins):\n",
    "    ...\n",
    "```"
   ]
  },
  {
   "cell_type": "code",
   "execution_count": null,
   "id": "7f5841f5-10f0-412e-86ba-703d4e70cbf8",
   "metadata": {},
   "outputs": [],
   "source": [
    "penguins = pd.read_csv('~/F24-public/data/palmer_penguins.csv')\n",
    "penguins = penguins.dropna(subset=['Culmen Length (mm)', 'Culmen Depth (mm)'])"
   ]
  },
  {
   "cell_type": "code",
   "execution_count": null,
   "id": "04a3aa75-260b-4d7c-a289-5b6d9f107ef8",
   "metadata": {},
   "outputs": [],
   "source": [
    "# Copy and run the code here\n"
   ]
  },
  {
   "cell_type": "code",
   "execution_count": null,
   "id": "6f975129-0b19-4291-be40-470ecc0de476",
   "metadata": {},
   "outputs": [],
   "source": [
    "# Copy and run the code here\n"
   ]
  },
  {
   "cell_type": "code",
   "execution_count": null,
   "id": "6bd52e31-eb88-474e-ae93-4a551c507219",
   "metadata": {},
   "outputs": [],
   "source": [
    "# Write your own code here\n"
   ]
  },
  {
   "cell_type": "markdown",
   "id": "28c2bb14-a326-4eeb-a5f2-6859c485f369",
   "metadata": {},
   "source": [
    "# 4. Saving your figure\n",
    "\n",
    "Last step is saving your plot as a file! This is where you get to use `fig`.\n",
    "\n",
    "```Python\n",
    "fig.savefig('ugly-penguins.png') # or pretty-penguins.png if you managed to do that\n",
    "```\n",
    "\n",
    "Whether you want `jpg` vs `png` images depends on the situation. `png` contains more information than `jpg` and therefore can be considered higher quality, but `jpg` files are smaller and will therefore load faster on a website."
   ]
  },
  {
   "cell_type": "code",
   "execution_count": null,
   "id": "cc2758d6-9371-47b9-94c4-86878c4280d0",
   "metadata": {},
   "outputs": [],
   "source": [
    "# Copy and run the code here\n"
   ]
  },
  {
   "cell_type": "markdown",
   "id": "fdb5f397-92ed-4608-990f-b2c12add9efc",
   "metadata": {},
   "source": [
    "# 5. Exercise\n",
    "\n",
    "Try to recreate this plot (except for the exact color that I picked quite randomly and any whitespace around the plot). You need to use penguins data as is without any table manipulation.\n",
    "\n",
    "![To be copied](to_be_copied.png)\n",
    "\n",
    "Helpful links:\n",
    "- [List of parameters](https://seaborn.pydata.org/generated/seaborn.scatterplot.html) accepted by seaborn scatterplot\n",
    "- [Additional list of matplotlib parameters](https://matplotlib.org/stable/api/_as_gen/matplotlib.axes.Axes.scatter.html#matplotlib.axes.Axes.scatter) that are also accepted by seaborn scatterplot\n",
    "- [List of markers](https://matplotlib.org/stable/api/markers_api.html#module-matplotlib.markers) "
   ]
  },
  {
   "cell_type": "code",
   "execution_count": null,
   "id": "e815b241-9bf7-461a-8ea4-317fe8e14e6b",
   "metadata": {},
   "outputs": [],
   "source": [
    "# Write and run your code here\n"
   ]
  },
  {
   "cell_type": "markdown",
   "id": "e9843fdd-8f86-4602-8772-57882b943d80",
   "metadata": {},
   "source": [
    "# 6. More practice problems"
   ]
  },
  {
   "cell_type": "markdown",
   "id": "c9219a0b-b831-4d93-bec9-58544452ad04",
   "metadata": {},
   "source": [
    "## Penguins\n",
    "\n",
    "What is the average body mass of penguins per species? What about per island? What type of chart would you use to represent this information? Try to add an informative title and make sure the x- and y-axes are readable."
   ]
  },
  {
   "cell_type": "code",
   "execution_count": null,
   "id": "52e09ff8-fba4-4822-830f-d876aaeb3c1e",
   "metadata": {},
   "outputs": [],
   "source": [
    "# Write and run your code here\n"
   ]
  },
  {
   "cell_type": "code",
   "execution_count": null,
   "id": "167c6ff7-79be-4603-ae0c-937fc3101e2a",
   "metadata": {},
   "outputs": [],
   "source": [
    "# Write and run your code here\n"
   ]
  },
  {
   "cell_type": "markdown",
   "id": "5bc3cfbd-6b02-4e38-9f1b-919dffcaa293",
   "metadata": {},
   "source": [
    "## Flame\n",
    "\n",
    "Run the following cell, then try making 3 scatter plots for each pair of **numerical** columns. Do you notice any interesting associations? We expect you to find one."
   ]
  },
  {
   "cell_type": "code",
   "execution_count": null,
   "id": "b24ca929-81f8-4901-9d53-5cd9d0bded30",
   "metadata": {},
   "outputs": [],
   "source": [
    "# copied from lab4\n",
    "\n",
    "flame_df = pd.read_csv('~/F24-public/lab/lab4/fire_swamp_flame_spurt.csv')\n",
    "\n",
    "flame_df['size']='medium'\n",
    "flame_df.loc[flame_df['height']>35,'size']='large'\n",
    "flame_df.loc[flame_df['height']<15,'size']='small'\n",
    "\n",
    "flame_df.head()\n"
   ]
  },
  {
   "cell_type": "code",
   "execution_count": null,
   "id": "73a2b6cf-7cab-4d28-84a0-427b89e2d860",
   "metadata": {},
   "outputs": [],
   "source": [
    "# Write and run your code here\n"
   ]
  },
  {
   "cell_type": "code",
   "execution_count": null,
   "id": "4a3f6c9f-43e2-4cef-9fc6-f47c2ffb94e0",
   "metadata": {},
   "outputs": [],
   "source": [
    "# Write and run your code here\n"
   ]
  },
  {
   "cell_type": "code",
   "execution_count": null,
   "id": "b9daf884-8f80-4cdc-a4cc-19f89cf785e6",
   "metadata": {},
   "outputs": [],
   "source": [
    "# Write and run your code here\n"
   ]
  },
  {
   "cell_type": "code",
   "execution_count": null,
   "id": "babe868d-3cdf-400a-a955-ea03eedaab0e",
   "metadata": {},
   "outputs": [],
   "source": []
  }
 ],
 "metadata": {
  "kernelspec": {
   "display_name": "Python 3 (ipykernel)",
   "language": "python",
   "name": "python3"
  },
  "language_info": {
   "codemirror_mode": {
    "name": "ipython",
    "version": 3
   },
   "file_extension": ".py",
   "mimetype": "text/x-python",
   "name": "python",
   "nbconvert_exporter": "python",
   "pygments_lexer": "ipython3",
   "version": "3.10.10"
  }
 },
 "nbformat": 4,
 "nbformat_minor": 5
}
